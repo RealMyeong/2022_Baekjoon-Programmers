{
  "nbformat": 4,
  "nbformat_minor": 0,
  "metadata": {
    "colab": {
      "name": "baekjoon_0805.ipynb",
      "provenance": [],
      "authorship_tag": "ABX9TyN+ajwzYlrQKC3tFL3741t2",
      "include_colab_link": true
    },
    "kernelspec": {
      "name": "python3",
      "display_name": "Python 3"
    },
    "language_info": {
      "name": "python"
    }
  },
  "cells": [
    {
      "cell_type": "markdown",
      "metadata": {
        "id": "view-in-github",
        "colab_type": "text"
      },
      "source": [
        "<a href=\"https://colab.research.google.com/github/RealMyeong/python3-study/blob/main/baekjoon_0805.ipynb\" target=\"_parent\"><img src=\"https://colab.research.google.com/assets/colab-badge.svg\" alt=\"Open In Colab\"/></a>"
      ]
    },
    {
      "cell_type": "code",
      "execution_count": 2,
      "metadata": {
        "colab": {
          "base_uri": "https://localhost:8080/"
        },
        "id": "kMv-pgBY5nJN",
        "outputId": "1860c10c-3e81-41a3-9f37-921289e1ec5b"
      },
      "outputs": [
        {
          "output_type": "stream",
          "name": "stdout",
          "text": [
            "3\n",
            "6.0\n"
          ]
        }
      ],
      "source": [
        "#백준 8393 합\n",
        "n = int(input())\n",
        "print(int(n*(n+1)/2))"
      ]
    },
    {
      "cell_type": "code",
      "source": [
        "#백준 2609 최대공약수와 최소공배수\n",
        "\n",
        "#최대 공약수\n",
        "def gcd(x, y):\n",
        "  if y==0:\n",
        "    return x\n",
        "  else:\n",
        "    return gcd(y, x%y) \n",
        "\n",
        "#최소 공배수\n",
        "def lcm(x, y):\n",
        "  result = (x*y) // gcd(x,y)\n",
        "  return result\n",
        "\n",
        "a, b = map(int, input().split())\n",
        "print(gcd(a,b))\n",
        "print(lcm(a,b))"
      ],
      "metadata": {
        "colab": {
          "base_uri": "https://localhost:8080/"
        },
        "id": "rbwZP2cE6LSx",
        "outputId": "a934394f-9cde-4c9c-c670-bdc8a45429e4"
      },
      "execution_count": 4,
      "outputs": [
        {
          "output_type": "stream",
          "name": "stdout",
          "text": [
            "24 18\n",
            "6\n",
            "72\n"
          ]
        }
      ]
    },
    {
      "cell_type": "code",
      "source": [
        "#백준 2748 피보나치 수2\n",
        "n=int(input())\n",
        "a = [0]*100\n",
        "a[1]=1\n",
        "for i in range(2,n+1):\n",
        "  a[i] = a[i-1] + a[i-2]\n",
        "print(a[n])"
      ],
      "metadata": {
        "colab": {
          "base_uri": "https://localhost:8080/"
        },
        "id": "uCVFODgB81gy",
        "outputId": "3ce36439-7be4-43be-c554-6522657e3d5f"
      },
      "execution_count": 10,
      "outputs": [
        {
          "output_type": "stream",
          "name": "stdout",
          "text": [
            "9\n",
            "34\n"
          ]
        }
      ]
    },
    {
      "cell_type": "code",
      "source": [
        "#백준 5565 영수증\n",
        "price = []\n",
        "sum_price = int(input())\n",
        "for i in range(9):\n",
        "  book_price = int(input())\n",
        "  price.append(book_price)\n",
        "hidden_book = sum_price - sum(price)\n",
        "print(hidden_book)"
      ],
      "metadata": {
        "id": "JLOLDuO_-DAs"
      },
      "execution_count": null,
      "outputs": []
    },
    {
      "cell_type": "code",
      "source": [
        "#백준 10950 A+B - 3\n",
        "T = int(input())\n",
        "for i in range(T):\n",
        "  a, b = map(int, input().split())\n",
        "  print(a+b)"
      ],
      "metadata": {
        "id": "-mH4RIs9-6Dl"
      },
      "execution_count": null,
      "outputs": []
    },
    {
      "cell_type": "code",
      "source": [
        "#백준 10952 A+B - 5\n",
        "while True:\n",
        "    a, b = map(int,input().split())\n",
        "    if a==0 and b==0:\n",
        "      break\n",
        "    else:\n",
        "      print(a+b)"
      ],
      "metadata": {
        "colab": {
          "base_uri": "https://localhost:8080/"
        },
        "id": "JRGi5RlR_Nsf",
        "outputId": "e14a7d0c-fe4d-4cd7-d111-693f9fcd42cc"
      },
      "execution_count": 15,
      "outputs": [
        {
          "name": "stdout",
          "output_type": "stream",
          "text": [
            "1 1\n",
            "2\n",
            "2 2\n",
            "4\n",
            "10 7\n",
            "17\n",
            "0 0\n"
          ]
        }
      ]
    }
  ]
}