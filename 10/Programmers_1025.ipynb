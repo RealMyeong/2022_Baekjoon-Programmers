{
  "nbformat": 4,
  "nbformat_minor": 0,
  "metadata": {
    "colab": {
      "provenance": [],
      "authorship_tag": "ABX9TyPzCsqJCQGJBmaA2aNaXJqj",
      "include_colab_link": true
    },
    "kernelspec": {
      "name": "python3",
      "display_name": "Python 3"
    },
    "language_info": {
      "name": "python"
    }
  },
  "cells": [
    {
      "cell_type": "markdown",
      "metadata": {
        "id": "view-in-github",
        "colab_type": "text"
      },
      "source": [
        "<a href=\"https://colab.research.google.com/github/RealMyeong/python3-study/blob/main/10/Programmers_1025.ipynb\" target=\"_parent\"><img src=\"https://colab.research.google.com/assets/colab-badge.svg\" alt=\"Open In Colab\"/></a>"
      ]
    },
    {
      "cell_type": "code",
      "execution_count": null,
      "metadata": {
        "id": "dkjBrCEehxlD"
      },
      "outputs": [],
      "source": [
        "# 콜라스 추측\n",
        "\n",
        "def solution(num):\n",
        "    i = 0\n",
        "    while num != 1:\n",
        "\n",
        "        if i >= 500:\n",
        "            return -1\n",
        "            \n",
        "        if num % 2 ==0:\n",
        "            num = num//2\n",
        "            i += 1\n",
        "        else:\n",
        "            num = num*3 + 1\n",
        "            i += 1\n",
        "    return i"
      ]
    },
    {
      "cell_type": "code",
      "source": [
        "# 두 정수 사이의 합\n",
        "def solution(a, b):\n",
        "    if a <= b:\n",
        "        n_list = [i for i in range(a, b+1)]\n",
        "    elif b <= a:\n",
        "        n_list = [i for i in range(b, a+1)]\n",
        "    answer = sum(n_list)\n",
        "    return answer\n",
        "\n",
        "\n",
        "## 다른 사람 풀이\n",
        "def adder(a, b):\n",
        "    return (abs(a-b)+1)*(a+b)//2"
      ],
      "metadata": {
        "id": "XIx2dkQyjtQq"
      },
      "execution_count": null,
      "outputs": []
    }
  ]
}