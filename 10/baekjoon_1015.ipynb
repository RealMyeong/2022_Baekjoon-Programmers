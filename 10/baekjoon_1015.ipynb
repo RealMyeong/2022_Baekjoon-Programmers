{
  "nbformat": 4,
  "nbformat_minor": 0,
  "metadata": {
    "colab": {
      "provenance": [],
      "authorship_tag": "ABX9TyNg1f5PyWxn8d+/xCoqRF93",
      "include_colab_link": true
    },
    "kernelspec": {
      "name": "python3",
      "display_name": "Python 3"
    },
    "language_info": {
      "name": "python"
    }
  },
  "cells": [
    {
      "cell_type": "markdown",
      "metadata": {
        "id": "view-in-github",
        "colab_type": "text"
      },
      "source": [
        "<a href=\"https://colab.research.google.com/github/RealMyeong/python3-study/blob/main/10/baekjoon_1015.ipynb\" target=\"_parent\"><img src=\"https://colab.research.google.com/assets/colab-badge.svg\" alt=\"Open In Colab\"/></a>"
      ]
    },
    {
      "cell_type": "code",
      "execution_count": 15,
      "metadata": {
        "colab": {
          "base_uri": "https://localhost:8080/"
        },
        "id": "l7Z1J-i4E5lY",
        "outputId": "22fe3ec8-10f6-4f41-8719-6eda7f237016"
      },
      "outputs": [
        {
          "output_type": "stream",
          "name": "stdout",
          "text": [
            "1\n",
            "0\n",
            "0\n"
          ]
        }
      ],
      "source": [
        "# 백준 9375 패션왕 신해빈\n",
        "\n",
        "t = int(input())\n",
        "\n",
        "for _ in range(t):\n",
        "\n",
        "  ans = 1\n",
        "  n = int(input())\n",
        "  if n == 0:\n",
        "    print(0)\n",
        "  else:\n",
        "    type_list = []\n",
        "    for _ in range(n):\n",
        "      _, item_type = input().split()\n",
        "      type_list.append(item_type)\n",
        "  \n",
        "    unique_type = list(set(type_list))\n",
        "    if len(unique_type) == 1:\n",
        "      print(n)\n",
        "\n",
        "    else:\n",
        "      for i in unique_type:\n",
        "        type_cnt = type_list.count(i)\n",
        "        ans *= (type_cnt+1)\n",
        "  \n",
        "      print(ans-1)"
      ]
    }
  ]
}