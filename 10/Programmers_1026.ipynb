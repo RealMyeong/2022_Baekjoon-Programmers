{
  "nbformat": 4,
  "nbformat_minor": 0,
  "metadata": {
    "colab": {
      "provenance": [],
      "authorship_tag": "ABX9TyPNObkGdKN2KtHjAYuz6biK",
      "include_colab_link": true
    },
    "kernelspec": {
      "name": "python3",
      "display_name": "Python 3"
    },
    "language_info": {
      "name": "python"
    }
  },
  "cells": [
    {
      "cell_type": "markdown",
      "metadata": {
        "id": "view-in-github",
        "colab_type": "text"
      },
      "source": [
        "<a href=\"https://colab.research.google.com/github/RealMyeong/python3-study/blob/main/10/Programmers_1026.ipynb\" target=\"_parent\"><img src=\"https://colab.research.google.com/assets/colab-badge.svg\" alt=\"Open In Colab\"/></a>"
      ]
    },
    {
      "cell_type": "code",
      "execution_count": null,
      "metadata": {
        "id": "6dwRTYNesciT"
      },
      "outputs": [],
      "source": [
        "# 서울에서 김서방 찾기\n",
        "\n",
        "def solution(seoul):\n",
        "    k_idx = seoul.index('Kim')\n",
        "    answer = f'김서방은 {k_idx}에 있다'\n",
        "    return answer"
      ]
    },
    {
      "cell_type": "code",
      "source": [
        "# 핸드폰 번호 가리기 \n",
        "def solution(phone_number):\n",
        "    answer = ['*'] * (len(phone_number)-4)\n",
        "    answer += list(phone_number)[-4:]\n",
        "    answer = ''.join(answer)\n",
        "    return answer"
      ],
      "metadata": {
        "id": "Va4-JSrzt8qp"
      },
      "execution_count": null,
      "outputs": []
    }
  ]
}