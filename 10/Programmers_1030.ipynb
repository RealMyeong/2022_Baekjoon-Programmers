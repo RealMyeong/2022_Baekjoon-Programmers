{
  "nbformat": 4,
  "nbformat_minor": 0,
  "metadata": {
    "colab": {
      "provenance": [],
      "authorship_tag": "ABX9TyPnPy2Kd1oYMlKDx7botyXP",
      "include_colab_link": true
    },
    "kernelspec": {
      "name": "python3",
      "display_name": "Python 3"
    },
    "language_info": {
      "name": "python"
    }
  },
  "cells": [
    {
      "cell_type": "markdown",
      "metadata": {
        "id": "view-in-github",
        "colab_type": "text"
      },
      "source": [
        "<a href=\"https://colab.research.google.com/github/RealMyeong/python3-study/blob/main/10/Programmers_1030.ipynb\" target=\"_parent\"><img src=\"https://colab.research.google.com/assets/colab-badge.svg\" alt=\"Open In Colab\"/></a>"
      ]
    },
    {
      "cell_type": "code",
      "execution_count": null,
      "metadata": {
        "id": "MMJIt3Uv95pn"
      },
      "outputs": [],
      "source": [
        "# 문자열 내림차순으로 정렬하기\n",
        "def solution(s):\n",
        "    answer = list(s)\n",
        "    answer.sort(reverse=True)\n",
        "    answer = ''.join(answer)\n",
        "    return answer\n",
        "    \n",
        "    \n",
        "# 다른 풀이\n",
        "def solution(s):\n",
        "\treturn ''.join(sorted(s, reverse=True))"
      ]
    },
    {
      "cell_type": "code",
      "source": [
        "# 문자열 다루기 기본\n",
        "def solution(s):\n",
        "    if len(s) == 4 or len(s) == 6:\n",
        "        try :\n",
        "            s = int(s)\n",
        "            return True\n",
        "        except:\n",
        "            return False\n",
        "    \n",
        "    else:\n",
        "        return False\n",
        "\n",
        "# 다른 풀이\n",
        "def alpha_string46(s):\n",
        "    return s.isdigit() and len(s) in (4, 6)"
      ],
      "metadata": {
        "id": "VN4xXZQN_kNp"
      },
      "execution_count": null,
      "outputs": []
    }
  ]
}