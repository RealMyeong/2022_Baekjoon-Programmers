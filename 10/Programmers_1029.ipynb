{
  "nbformat": 4,
  "nbformat_minor": 0,
  "metadata": {
    "colab": {
      "provenance": [],
      "authorship_tag": "ABX9TyNWE9hQ0ezU66aKwtXsHTNj",
      "include_colab_link": true
    },
    "kernelspec": {
      "name": "python3",
      "display_name": "Python 3"
    },
    "language_info": {
      "name": "python"
    }
  },
  "cells": [
    {
      "cell_type": "markdown",
      "metadata": {
        "id": "view-in-github",
        "colab_type": "text"
      },
      "source": [
        "<a href=\"https://colab.research.google.com/github/RealMyeong/python3-study/blob/main/10/Programmers_1029.ipynb\" target=\"_parent\"><img src=\"https://colab.research.google.com/assets/colab-badge.svg\" alt=\"Open In Colab\"/></a>"
      ]
    },
    {
      "cell_type": "code",
      "execution_count": null,
      "metadata": {
        "id": "MMJIt3Uv95pn"
      },
      "outputs": [],
      "source": [
        "# 가운데 글자 가져오기\n",
        "def solution(s):\n",
        "    if len(s) % 2 ==0:\n",
        "        answer = s[(len(s)//2)-1 : len(s)//2+1]\n",
        "    else:\n",
        "        answer = s[len(s)//2]\n",
        "    return answer"
      ]
    },
    {
      "cell_type": "code",
      "source": [
        "# 내적\n",
        "def solution(a, b):\n",
        "    answer = 0\n",
        "    for i, j in zip(a, b):\n",
        "        answer += i * j\n",
        "    return answer"
      ],
      "metadata": {
        "id": "VN4xXZQN_kNp"
      },
      "execution_count": null,
      "outputs": []
    }
  ]
}