{
  "nbformat": 4,
  "nbformat_minor": 0,
  "metadata": {
    "colab": {
      "provenance": [],
      "authorship_tag": "ABX9TyP/bd9PQ2xObvBQi/OWhWob",
      "include_colab_link": true
    },
    "kernelspec": {
      "name": "python3",
      "display_name": "Python 3"
    },
    "language_info": {
      "name": "python"
    }
  },
  "cells": [
    {
      "cell_type": "markdown",
      "metadata": {
        "id": "view-in-github",
        "colab_type": "text"
      },
      "source": [
        "<a href=\"https://colab.research.google.com/github/RealMyeong/python3-study/blob/main/10/Programmers_1023.ipynb\" target=\"_parent\"><img src=\"https://colab.research.google.com/assets/colab-badge.svg\" alt=\"Open In Colab\"/></a>"
      ]
    },
    {
      "cell_type": "code",
      "execution_count": null,
      "metadata": {
        "id": "nMXAhekKig_u"
      },
      "outputs": [],
      "source": [
        "# 하샤드 수\n",
        "\n",
        "def solution(x):\n",
        "\n",
        "    x_list = list(map(int, list(str(x))))\n",
        "    x_sum = sum(x_list)\n",
        "    \n",
        "    if x % x_sum == 0:\n",
        "        return True\n",
        "    else:\n",
        "        return False\n"
      ]
    },
    {
      "cell_type": "code",
      "source": [
        "# 나머지가 1이 되는 수 찾기\n",
        "\n",
        "def solution(n):\n",
        "    for i in range(1, n):\n",
        "        if n%i == 1:\n",
        "            return i\n"
      ],
      "metadata": {
        "id": "xhQhjRdfmqRy"
      },
      "execution_count": null,
      "outputs": []
    }
  ]
}