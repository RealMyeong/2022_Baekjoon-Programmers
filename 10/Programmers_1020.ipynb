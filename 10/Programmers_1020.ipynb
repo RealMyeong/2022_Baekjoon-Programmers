{
  "nbformat": 4,
  "nbformat_minor": 0,
  "metadata": {
    "colab": {
      "provenance": [],
      "authorship_tag": "ABX9TyNHhBCztqlWuSFDNWzZGjhI",
      "include_colab_link": true
    },
    "kernelspec": {
      "name": "python3",
      "display_name": "Python 3"
    },
    "language_info": {
      "name": "python"
    }
  },
  "cells": [
    {
      "cell_type": "markdown",
      "metadata": {
        "id": "view-in-github",
        "colab_type": "text"
      },
      "source": [
        "<a href=\"https://colab.research.google.com/github/RealMyeong/python3-study/blob/main/10/Programmers_1020.ipynb\" target=\"_parent\"><img src=\"https://colab.research.google.com/assets/colab-badge.svg\" alt=\"Open In Colab\"/></a>"
      ]
    },
    {
      "cell_type": "code",
      "execution_count": 1,
      "metadata": {
        "id": "I6aAjC4Oh_oT"
      },
      "outputs": [],
      "source": [
        "# 짝수와 홀수\n",
        "def solution(num):\n",
        "    if num % 2 == 0:\n",
        "        answer = 'Even'\n",
        "    else:\n",
        "        answer = 'Odd'\n",
        "    return answer\n",
        "\n",
        "# 평균 구하기\n",
        "def solution(arr):\n",
        "    arr_sum = sum(arr)\n",
        "    \n",
        "    mean_arr = arr_sum / len(arr)\n",
        "    \n",
        "    answer = mean_arr\n",
        "    return answer\n",
        "\n",
        "# 약수의 합\n",
        "import math\n",
        "\n",
        "def solution(n):\n",
        "    answer = 0\n",
        "    if n==0 or n==1:\n",
        "        answer = n\n",
        "        return answer\n",
        "    else:\n",
        "        for i in range(1, n):\n",
        "            if n % i ==0:\n",
        "                answer += i\n",
        "        answer += n\n",
        "    return answer"
      ]
    }
  ]
}