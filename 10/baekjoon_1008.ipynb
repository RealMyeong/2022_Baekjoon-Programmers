{
  "nbformat": 4,
  "nbformat_minor": 0,
  "metadata": {
    "colab": {
      "provenance": [],
      "authorship_tag": "ABX9TyM4Nmn1BZsJwhycT6v5SUqn",
      "include_colab_link": true
    },
    "kernelspec": {
      "name": "python3",
      "display_name": "Python 3"
    },
    "language_info": {
      "name": "python"
    }
  },
  "cells": [
    {
      "cell_type": "markdown",
      "metadata": {
        "id": "view-in-github",
        "colab_type": "text"
      },
      "source": [
        "<a href=\"https://colab.research.google.com/github/RealMyeong/python3-study/blob/main/10/baekjoon_1008.ipynb\" target=\"_parent\"><img src=\"https://colab.research.google.com/assets/colab-badge.svg\" alt=\"Open In Colab\"/></a>"
      ]
    },
    {
      "cell_type": "code",
      "execution_count": 2,
      "metadata": {
        "colab": {
          "base_uri": "https://localhost:8080/"
        },
        "id": "rKOLBKJRpfaM",
        "outputId": "da093fc0-82a1-44eb-dd06-42e09b3b98d8"
      },
      "outputs": [
        {
          "output_type": "stream",
          "name": "stdout",
          "text": [
            "24 100 -62 71 8\n",
            "-63 109\n",
            "-26 164\n",
            "-9 91\n",
            "-113 80\n",
            "-124 75\n",
            "-95 140\n",
            "-89 116\n",
            "-55 113\n",
            "6\n"
          ]
        }
      ],
      "source": [
        "# 백준 1358 하키\n",
        "import math\n",
        "w, h, x, y, p = map(int, input().split())\n",
        "\n",
        "# 반지름, 각 원의 중심 좌표\n",
        "r = h / 2\n",
        "c1x, c1y = x, y+r\n",
        "c2x, c2y = x+w, y+r\n",
        "\n",
        "count = 0 # 링크 안에 있는 사람 수 \n",
        "\n",
        "for _ in range(p):\n",
        "  px, py = map(int, input().split())\n",
        "\n",
        "  # 각 원의 중심에서의 거리\n",
        "  d1 = math.sqrt((c1x - px) ** 2 + (c1y - py) ** 2)\n",
        "  d2 = math.sqrt((c2x - px) ** 2 + (c2y - py) ** 2)\n",
        "\n",
        "  if d1 <= r or d2 <= r:\n",
        "    count += 1\n",
        "  elif x <= px <= x+w and y <= py <= y+h:\n",
        "    count += 1\n",
        "\n",
        "print(count)\n"
      ]
    }
  ]
}