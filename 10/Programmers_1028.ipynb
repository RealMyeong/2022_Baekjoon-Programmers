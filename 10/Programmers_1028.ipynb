{
  "nbformat": 4,
  "nbformat_minor": 0,
  "metadata": {
    "colab": {
      "provenance": [],
      "authorship_tag": "ABX9TyOneF+ZN7O3VU53y+rwOSCg",
      "include_colab_link": true
    },
    "kernelspec": {
      "name": "python3",
      "display_name": "Python 3"
    },
    "language_info": {
      "name": "python"
    }
  },
  "cells": [
    {
      "cell_type": "markdown",
      "metadata": {
        "id": "view-in-github",
        "colab_type": "text"
      },
      "source": [
        "<a href=\"https://colab.research.google.com/github/RealMyeong/python3-study/blob/main/10/Programmers_1028.ipynb\" target=\"_parent\"><img src=\"https://colab.research.google.com/assets/colab-badge.svg\" alt=\"Open In Colab\"/></a>"
      ]
    },
    {
      "cell_type": "code",
      "execution_count": null,
      "metadata": {
        "id": "MMJIt3Uv95pn"
      },
      "outputs": [],
      "source": [
        "# 음양 더하기\n",
        "def solution(absolutes, signs):\n",
        "    answer = 0\n",
        "    for i in range(len(absolutes)):\n",
        "        if signs[i]:\n",
        "            answer += absolutes[i]\n",
        "        else:\n",
        "            answer -= absolutes[i]\n",
        "            \n",
        "    return answer\n",
        "\n",
        "# 다른 풀이\n",
        "def solution(absolutes, signs):\n",
        "  answer = [absolute if sign else -absolute for absolute, sign in zip(absolutes, signs)]\n",
        "  return sum(answer)"
      ]
    },
    {
      "cell_type": "code",
      "source": [
        "# 없는 숫자 더하기\n",
        "def solution(numbers):\n",
        "    n_set = set(numbers)\n",
        "    org_set = set(list(range(10)))\n",
        "    answer = org_set - n_set\n",
        "    answer = sum(answer)\n",
        "    return answer"
      ],
      "metadata": {
        "id": "VN4xXZQN_kNp"
      },
      "execution_count": null,
      "outputs": []
    }
  ]
}