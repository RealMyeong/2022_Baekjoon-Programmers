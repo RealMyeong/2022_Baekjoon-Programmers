{
  "nbformat": 4,
  "nbformat_minor": 0,
  "metadata": {
    "colab": {
      "provenance": [],
      "authorship_tag": "ABX9TyMFejXIQDVWRcB4BEP9c0l8",
      "include_colab_link": true
    },
    "kernelspec": {
      "name": "python3",
      "display_name": "Python 3"
    },
    "language_info": {
      "name": "python"
    }
  },
  "cells": [
    {
      "cell_type": "markdown",
      "metadata": {
        "id": "view-in-github",
        "colab_type": "text"
      },
      "source": [
        "<a href=\"https://colab.research.google.com/github/RealMyeong/python3-study/blob/main/10/baekjoon_1004.ipynb\" target=\"_parent\"><img src=\"https://colab.research.google.com/assets/colab-badge.svg\" alt=\"Open In Colab\"/></a>"
      ]
    },
    {
      "cell_type": "code",
      "execution_count": 23,
      "metadata": {
        "colab": {
          "base_uri": "https://localhost:8080/"
        },
        "id": "eeDg0KMDL8yW",
        "outputId": "757ff9df-6eef-4a46-8608-9232db8ccfce"
      },
      "outputs": [
        {
          "output_type": "stream",
          "name": "stdout",
          "text": [
            "7\n",
            "4 50\n",
            "2 160\n",
            "3 30\n",
            "3 20\n",
            "1 60\n",
            "1 100\n",
            "47600\n"
          ]
        }
      ],
      "source": [
        "# 백준 2477 참외밭\n",
        "\n",
        "cham_per_1 = int(input())\n",
        "\n",
        "n_s = []\n",
        "e_w = []\n",
        "for _ in range(6):\n",
        "  a = list(map(int, input().split()))\n",
        "  if a[0] == 3 or a[0] == 4:\n",
        "    n_s.append(a)\n",
        "  else:\n",
        "    e_w.append(a)\n",
        "\n",
        "h = max(n_s, key = lambda x : x[1])\n",
        "w = max(e_w, key = lambda x : x[1])\n",
        "\n",
        "n_s.remove(h)\n",
        "e_w.remove(w)\n",
        "\n",
        "mini_h = n_s[1][1]\n",
        "mini_w = e_w[0][1]\n",
        "\n",
        "# 넓이\n",
        "width = h[1] * w[1] - mini_h * mini_w\n",
        "\n",
        "# 참외 개수\n",
        "cham_num = width * cham_per_1\n",
        "print(cham_num)"
      ]
    },
    {
      "cell_type": "markdown",
      "source": [
        "https://my-coding-notes.tistory.com/555 참고\n"
      ],
      "metadata": {
        "id": "x5XpgVG1VgPg"
      }
    },
    {
      "cell_type": "code",
      "source": [
        "import sys\n",
        "input = sys.stdin.readline\n",
        "\n",
        "n = int(input())\n",
        "arr = []\n",
        "maxx = [(0,0),(0,0)]\n",
        "# 큰 사각형의 변을 구한다\n",
        "for i in range(6):\n",
        "    d,w = map(int,input().split())\n",
        "    d = 0 if d<=2 else 1\n",
        "    if w > maxx[d][1]:\n",
        "        maxx[d] = (i,w)\n",
        "    arr.append((d,w))\n",
        "    \n",
        "# 인접한 변들을 체크해준다.\n",
        "ans = maxx[0][1]*maxx[1][1]\n",
        "check = [False]*6\n",
        "for idx,_ in maxx:\n",
        "    for i in idx,(idx+1)%6,idx-1:\n",
        "        check[i] = True\n",
        "\n",
        "# 체크되지 않은 남은 변을 찾아 넓이를 빼 준다.\n",
        "min_square = 1\n",
        "for i in range(6):\n",
        "    if not check[i]:\n",
        "        min_square *= arr[i][1]\n",
        "print((ans-min_square)*n)"
      ],
      "metadata": {
        "id": "Q6v1AOVJVhRc"
      },
      "execution_count": null,
      "outputs": []
    }
  ]
}