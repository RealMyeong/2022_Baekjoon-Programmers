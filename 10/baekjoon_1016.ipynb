{
  "nbformat": 4,
  "nbformat_minor": 0,
  "metadata": {
    "colab": {
      "provenance": [],
      "authorship_tag": "ABX9TyPHuG60DVVR2e+FOn2OVi+x",
      "include_colab_link": true
    },
    "kernelspec": {
      "name": "python3",
      "display_name": "Python 3"
    },
    "language_info": {
      "name": "python"
    }
  },
  "cells": [
    {
      "cell_type": "markdown",
      "metadata": {
        "id": "view-in-github",
        "colab_type": "text"
      },
      "source": [
        "<a href=\"https://colab.research.google.com/github/RealMyeong/python3-study/blob/main/10/baekjoon_1016.ipynb\" target=\"_parent\"><img src=\"https://colab.research.google.com/assets/colab-badge.svg\" alt=\"Open In Colab\"/></a>"
      ]
    },
    {
      "cell_type": "code",
      "execution_count": 5,
      "metadata": {
        "colab": {
          "base_uri": "https://localhost:8080/"
        },
        "id": "YhZXOch9MNsW",
        "outputId": "184bb550-9fce-47d0-ab9c-3a525d5b656e"
      },
      "outputs": [
        {
          "output_type": "stream",
          "name": "stdout",
          "text": [
            "3\n",
            "0\n"
          ]
        }
      ],
      "source": [
        "# 백준 1676 팩토리얼 0의 개수\n",
        "\n",
        "import math as m\n",
        "\n",
        "n = int(input())\n",
        "# math.factorial(.) 함수를 이용해서 값을 구해줌\n",
        "n_fac = m.factorial(n)\n",
        "\n",
        "# 구한 수의 각 자릴수로 리스트를 만들어줌\n",
        "sep_n = list(str(n_fac))\n",
        "\n",
        "# 0의 개수 체크\n",
        "zero_cnt = 0\n",
        "\n",
        "# 1의 자리부터 -> 리스트에서 제일 뒤쪽부터 -> 리스트의 인덱스 -1부터 -(리스트 길이) 까지 반복하며 체크\n",
        "for i in range(1, len(sep_n)+1):\n",
        "  if sep_n[-i] == '0':\n",
        "    zero_cnt += 1\n",
        "  else:\n",
        "    print(zero_cnt)\n",
        "    break"
      ]
    }
  ]
}