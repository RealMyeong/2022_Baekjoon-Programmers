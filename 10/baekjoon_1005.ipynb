{
  "nbformat": 4,
  "nbformat_minor": 0,
  "metadata": {
    "colab": {
      "provenance": [],
      "authorship_tag": "ABX9TyNS8KXtQNqzYc/VQo7QuTRh",
      "include_colab_link": true
    },
    "kernelspec": {
      "name": "python3",
      "display_name": "Python 3"
    },
    "language_info": {
      "name": "python"
    }
  },
  "cells": [
    {
      "cell_type": "markdown",
      "metadata": {
        "id": "view-in-github",
        "colab_type": "text"
      },
      "source": [
        "<a href=\"https://colab.research.google.com/github/RealMyeong/python3-study/blob/main/10/baekjoon_1005.ipynb\" target=\"_parent\"><img src=\"https://colab.research.google.com/assets/colab-badge.svg\" alt=\"Open In Colab\"/></a>"
      ]
    },
    {
      "cell_type": "code",
      "execution_count": null,
      "metadata": {
        "id": "XkeCFngxLfwE"
      },
      "outputs": [],
      "source": [
        "# 백준 3053 택시 기하학\n",
        "import math\n",
        "\n",
        "r = int(input())\n",
        "\n",
        "euclid = math.pi * (r ** 2)\n",
        "taxi = 2 * (r ** 2)\n",
        "\n",
        "print(euclid)\n",
        "print(taxi)"
      ]
    }
  ]
}