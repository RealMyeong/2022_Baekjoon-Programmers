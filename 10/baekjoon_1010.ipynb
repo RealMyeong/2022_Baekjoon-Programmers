{
  "nbformat": 4,
  "nbformat_minor": 0,
  "metadata": {
    "colab": {
      "provenance": [],
      "authorship_tag": "ABX9TyN2uALvMkwi0HpA7a4d5uzb",
      "include_colab_link": true
    },
    "kernelspec": {
      "name": "python3",
      "display_name": "Python 3"
    },
    "language_info": {
      "name": "python"
    }
  },
  "cells": [
    {
      "cell_type": "markdown",
      "metadata": {
        "id": "view-in-github",
        "colab_type": "text"
      },
      "source": [
        "<a href=\"https://colab.research.google.com/github/RealMyeong/python3-study/blob/main/10/baekjoon_1010.ipynb\" target=\"_parent\"><img src=\"https://colab.research.google.com/assets/colab-badge.svg\" alt=\"Open In Colab\"/></a>"
      ]
    },
    {
      "cell_type": "code",
      "execution_count": 1,
      "metadata": {
        "colab": {
          "base_uri": "https://localhost:8080/"
        },
        "id": "vsTa3Y9DQBfJ",
        "outputId": "e7aa9cb7-cb3e-4dab-8516-64146a1071a1"
      },
      "outputs": [
        {
          "output_type": "stream",
          "name": "stdout",
          "text": [
            "3\n",
            "6\n",
            "34\n",
            "38\n",
            "4 2 "
          ]
        }
      ],
      "source": [
        "# 백준 2981 검문\n",
        "n = int(input())\n",
        "\n",
        "n_list = []\n",
        "for _ in range(n):\n",
        "  n_list.append(int(input()))\n",
        "\n",
        "m_list = []\n",
        "m = min(n_list)\n",
        "for _ in range(m-1):\n",
        "  n_list_copy = n_list.copy()\n",
        "  for j in range(len(n_list)):\n",
        "    n_list_copy[j] = n_list[j] % m\n",
        "  error = 0\n",
        "  for k in range(len(n_list_copy)-1):\n",
        "    if n_list_copy[k] - n_list_copy[k+1] != 0:\n",
        "      error += 1\n",
        "      break\n",
        "  if error == 0:\n",
        "    m_list.append(m)\n",
        "  m -= 1\n",
        "\n",
        "for i in m_list:\n",
        "  print(i, end=' ')"
      ]
    },
    {
      "cell_type": "markdown",
      "source": [
        "시간 초과가 떠버림."
      ],
      "metadata": {
        "id": "3gWQC4UteP59"
      }
    },
    {
      "cell_type": "code",
      "source": [
        "import math as m\n",
        "\n",
        "n = int(input())\n",
        "\n",
        "n_list = []\n",
        "for _ in range(n):\n",
        "  n_list.append(int(input()))\n",
        "\n",
        "n_list.sort(reverse=True)\n",
        "\n",
        "diff = []\n",
        "for i in range(len(n_list)-1):\n",
        "  diff.append(n_list[i] - n_list[i+1])\n",
        "\n",
        "diff_gcd = diff[0]\n",
        "for i in range(1, len(diff)):\n",
        "  diff_gcd = m.gcd(diff_gcd, diff[i])\n",
        "\n",
        "cd_list=[]\n",
        "for i in range(1, int(m.sqrt(diff_gcd))+1):\n",
        "  if diff_gcd % i == 0:\n",
        "    cd_list.append(i)\n",
        "    cd_list.append(diff_gcd // i)\n",
        "    \n",
        "cd_list.remove(1)\n",
        "\n",
        "cd_list = list(set(cd_list))\n",
        "cd_list.sort()\n",
        "for i in cd_list:\n",
        "  print(i, end=' ')"
      ],
      "metadata": {
        "colab": {
          "base_uri": "https://localhost:8080/"
        },
        "id": "JpyEur1qRQdc",
        "outputId": "7a1a64c0-448b-4259-869b-b96a2e085fcc"
      },
      "execution_count": 2,
      "outputs": [
        {
          "output_type": "stream",
          "name": "stdout",
          "text": [
            "3\n",
            "6\n",
            "34\n",
            "38\n",
            "2 4 "
          ]
        }
      ]
    }
  ]
}