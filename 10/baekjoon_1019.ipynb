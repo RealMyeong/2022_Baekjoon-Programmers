{
  "nbformat": 4,
  "nbformat_minor": 0,
  "metadata": {
    "colab": {
      "provenance": [],
      "authorship_tag": "ABX9TyP64OZBtpYIxicv73fVv9zw",
      "include_colab_link": true
    },
    "kernelspec": {
      "name": "python3",
      "display_name": "Python 3"
    },
    "language_info": {
      "name": "python"
    }
  },
  "cells": [
    {
      "cell_type": "markdown",
      "metadata": {
        "id": "view-in-github",
        "colab_type": "text"
      },
      "source": [
        "<a href=\"https://colab.research.google.com/github/RealMyeong/python3-study/blob/main/10/baekjoon_1019.ipynb\" target=\"_parent\"><img src=\"https://colab.research.google.com/assets/colab-badge.svg\" alt=\"Open In Colab\"/></a>"
      ]
    },
    {
      "cell_type": "code",
      "execution_count": null,
      "metadata": {
        "id": "3EXogbCLc7Sm"
      },
      "outputs": [],
      "source": [
        "# 15650 N과 M (2)\n",
        "\n",
        "n, m = map(int, input().split())\n",
        "\n",
        "s = []\n",
        "def dfs(start):\n",
        "    if len(s)==m:\n",
        "        print(' '.join(map(str,s)))\n",
        "        return\n",
        "    \n",
        "    for i in range(start,n+1):\n",
        "        if i not in s:\n",
        "            s.append(i)\n",
        "            dfs(i+1)\n",
        "            s.pop()\n",
        "\n",
        "dfs(1)"
      ]
    }
  ]
}