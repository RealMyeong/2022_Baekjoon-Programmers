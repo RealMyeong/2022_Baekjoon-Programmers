{
  "nbformat": 4,
  "nbformat_minor": 0,
  "metadata": {
    "colab": {
      "provenance": [],
      "authorship_tag": "ABX9TyPtBBa5W5ujhV2f3/D4qnsk",
      "include_colab_link": true
    },
    "kernelspec": {
      "name": "python3",
      "display_name": "Python 3"
    },
    "language_info": {
      "name": "python"
    }
  },
  "cells": [
    {
      "cell_type": "markdown",
      "metadata": {
        "id": "view-in-github",
        "colab_type": "text"
      },
      "source": [
        "<a href=\"https://colab.research.google.com/github/RealMyeong/python3-study/blob/main/10/Programmers_1022.ipynb\" target=\"_parent\"><img src=\"https://colab.research.google.com/assets/colab-badge.svg\" alt=\"Open In Colab\"/></a>"
      ]
    },
    {
      "cell_type": "code",
      "execution_count": null,
      "metadata": {
        "id": "5rYyhnxJIlWu"
      },
      "outputs": [],
      "source": [
        "# 자연수 뒤집어 배열로 만들기\n",
        "\n",
        "def solution(n):\n",
        "    str_n = str(n)\n",
        "    answer = []\n",
        "    for i in range(1,len(str_n)+1):\n",
        "        answer.append(int(str_n[-i]))\n",
        "    \n",
        "    return answer"
      ]
    },
    {
      "cell_type": "code",
      "source": [
        "# 문자열 내 p와 y의 개수\n",
        "\n",
        "def solution(s):\n",
        "    sentence = s.lower()\n",
        "    p_cnt = sentence.count('p')\n",
        "    y_cnt = sentence.count('y')\n",
        "    if p_cnt == y_cnt:\n",
        "        return True\n",
        "    else:\n",
        "        return False"
      ],
      "metadata": {
        "id": "-woGM4LqJXp4"
      },
      "execution_count": null,
      "outputs": []
    }
  ]
}