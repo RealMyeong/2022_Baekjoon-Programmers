{
  "nbformat": 4,
  "nbformat_minor": 0,
  "metadata": {
    "colab": {
      "provenance": [],
      "authorship_tag": "ABX9TyNy8XiN/JrgSfMhR9jmUS5v",
      "include_colab_link": true
    },
    "kernelspec": {
      "name": "python3",
      "display_name": "Python 3"
    },
    "language_info": {
      "name": "python"
    }
  },
  "cells": [
    {
      "cell_type": "markdown",
      "metadata": {
        "id": "view-in-github",
        "colab_type": "text"
      },
      "source": [
        "<a href=\"https://colab.research.google.com/github/RealMyeong/python3-study/blob/main/10/baekjoon_1002.ipynb\" target=\"_parent\"><img src=\"https://colab.research.google.com/assets/colab-badge.svg\" alt=\"Open In Colab\"/></a>"
      ]
    },
    {
      "cell_type": "code",
      "execution_count": 19,
      "metadata": {
        "colab": {
          "base_uri": "https://localhost:8080/"
        },
        "id": "mTtetcegQ7Fp",
        "outputId": "a4d5a399-318f-412c-c0e2-f3bef270a01a"
      },
      "outputs": [
        {
          "output_type": "stream",
          "name": "stdout",
          "text": [
            "ababc\n",
            "12\n"
          ]
        }
      ],
      "source": [
        "# 백준 11478 서로 다른 부분 문자열의 개수\n",
        "\n",
        "s = input()\n",
        "subword = []\n",
        "\n",
        "k=1\n",
        "for i in range(len(s)):\n",
        "  for j in range(len(s)+1-k):\n",
        "    subword.append(s[j:j+k])\n",
        "  k += 1\n",
        "\n",
        "subword=set(subword)\n",
        "print(len(subword))"
      ]
    }
  ]
}