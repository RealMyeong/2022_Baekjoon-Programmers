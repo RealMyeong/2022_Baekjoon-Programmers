{
  "nbformat": 4,
  "nbformat_minor": 0,
  "metadata": {
    "colab": {
      "provenance": [],
      "authorship_tag": "ABX9TyO2x7p+a2WKtK1HAREx6WlH",
      "include_colab_link": true
    },
    "kernelspec": {
      "name": "python3",
      "display_name": "Python 3"
    },
    "language_info": {
      "name": "python"
    }
  },
  "cells": [
    {
      "cell_type": "markdown",
      "metadata": {
        "id": "view-in-github",
        "colab_type": "text"
      },
      "source": [
        "<a href=\"https://colab.research.google.com/github/RealMyeong/python3-study/blob/main/10/baekjoon_1003.ipynb\" target=\"_parent\"><img src=\"https://colab.research.google.com/assets/colab-badge.svg\" alt=\"Open In Colab\"/></a>"
      ]
    },
    {
      "cell_type": "code",
      "execution_count": 2,
      "metadata": {
        "colab": {
          "base_uri": "https://localhost:8080/"
        },
        "id": "AvGw0ygeC-4j",
        "outputId": "2cc8d260-3d76-4983-d59a-27b230170460"
      },
      "outputs": [
        {
          "output_type": "stream",
          "name": "stdout",
          "text": [
            "653 375 1000 1000\n",
            "347\n"
          ]
        }
      ],
      "source": [
        "# 백준 1085 직사각형에서 탈출\n",
        "\n",
        "x, y, w, h = map(int, input().split())\n",
        "\n",
        "length = [x, y, w-x, h-y]\n",
        "print(min(length))"
      ]
    },
    {
      "cell_type": "code",
      "source": [
        "# 백준 4153 직각삼각형\n",
        "\n",
        "while True:\n",
        "  n_list = list(map(int,input().split()))\n",
        "  c = max(n_list)\n",
        "  n_list.remove(c)\n",
        "  a, b = n_list\n",
        "  if a==0 and b==0 and c==0:\n",
        "    break\n",
        "  if c**2 == a**2 + b**2:\n",
        "    print('right')\n",
        "  else:\n",
        "    print('wrong')"
      ],
      "metadata": {
        "colab": {
          "base_uri": "https://localhost:8080/"
        },
        "id": "UATuHk5aEJwV",
        "outputId": "555bb5d4-652b-4a9d-a987-62536a0c5246"
      },
      "execution_count": 4,
      "outputs": [
        {
          "name": "stdout",
          "output_type": "stream",
          "text": [
            "1 0 2\n",
            "wrong\n",
            "3 4 5\n",
            "right\n",
            "25 52 60\n",
            "wrong\n",
            "5 12 13\n",
            "right\n",
            "0 0 0\n"
          ]
        }
      ]
    }
  ]
}