{
  "nbformat": 4,
  "nbformat_minor": 0,
  "metadata": {
    "colab": {
      "provenance": [],
      "authorship_tag": "ABX9TyNZZp4pVCun5VsQqwinUYOO",
      "include_colab_link": true
    },
    "kernelspec": {
      "name": "python3",
      "display_name": "Python 3"
    },
    "language_info": {
      "name": "python"
    }
  },
  "cells": [
    {
      "cell_type": "markdown",
      "metadata": {
        "id": "view-in-github",
        "colab_type": "text"
      },
      "source": [
        "<a href=\"https://colab.research.google.com/github/RealMyeong/python3-study/blob/main/10/Programmers_1024.ipynb\" target=\"_parent\"><img src=\"https://colab.research.google.com/assets/colab-badge.svg\" alt=\"Open In Colab\"/></a>"
      ]
    },
    {
      "cell_type": "code",
      "execution_count": null,
      "metadata": {
        "id": "bY1PrgvnKURC"
      },
      "outputs": [],
      "source": [
        "# 정수 내림차순으로 배치하기\n",
        "'''https://school.programmers.co.kr/learn/courses/30/lessons/12933'''\n",
        "\n",
        "def solution(n):\n",
        "    n_list = list(str(n))\n",
        "    n_list.sort(reverse=True)\n",
        "    n_rev = ''.join(n_list)\n",
        "    answer = int(n_rev)\n",
        "    return answer"
      ]
    },
    {
      "cell_type": "code",
      "source": [
        "# x만큼 간격이 있는 n개의 숫자\n",
        "'''https://school.programmers.co.kr/learn/courses/30/lessons/12954'''\n",
        "\n",
        "def solution(x, n):\n",
        "    answer = []\n",
        "    for i in range(1, n+1):\n",
        "        answer.append(x*i)\n",
        "    return answer"
      ],
      "metadata": {
        "id": "8vb5QLdKKjo6"
      },
      "execution_count": null,
      "outputs": []
    }
  ]
}