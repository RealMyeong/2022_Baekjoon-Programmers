{
  "nbformat": 4,
  "nbformat_minor": 0,
  "metadata": {
    "colab": {
      "provenance": [],
      "authorship_tag": "ABX9TyNDV0ayIDKgYT2wd2yvGDYc",
      "include_colab_link": true
    },
    "kernelspec": {
      "name": "python3",
      "display_name": "Python 3"
    },
    "language_info": {
      "name": "python"
    }
  },
  "cells": [
    {
      "cell_type": "markdown",
      "metadata": {
        "id": "view-in-github",
        "colab_type": "text"
      },
      "source": [
        "<a href=\"https://colab.research.google.com/github/RealMyeong/python3-study/blob/main/10/baekjoon_1013.ipynb\" target=\"_parent\"><img src=\"https://colab.research.google.com/assets/colab-badge.svg\" alt=\"Open In Colab\"/></a>"
      ]
    },
    {
      "cell_type": "code",
      "execution_count": null,
      "metadata": {
        "id": "wCQHwspXdmYe"
      },
      "outputs": [],
      "source": [
        "# 백준 파이썬 11051 이항 계수 2\n",
        "import math\n",
        "\n",
        "n, k = map(int, input().split())\n",
        "ans = math.comb(n, k)\n",
        "ans %= 10007\n",
        "\n",
        "print(ans)"
      ]
    }
  ]
}