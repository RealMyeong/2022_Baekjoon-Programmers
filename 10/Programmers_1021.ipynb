{
  "nbformat": 4,
  "nbformat_minor": 0,
  "metadata": {
    "colab": {
      "provenance": [],
      "authorship_tag": "ABX9TyMs4YY6sVKlEae4wBGhaOrs",
      "include_colab_link": true
    },
    "kernelspec": {
      "name": "python3",
      "display_name": "Python 3"
    },
    "language_info": {
      "name": "python"
    },
    "accelerator": "GPU"
  },
  "cells": [
    {
      "cell_type": "markdown",
      "metadata": {
        "id": "view-in-github",
        "colab_type": "text"
      },
      "source": [
        "<a href=\"https://colab.research.google.com/github/RealMyeong/python3-study/blob/main/10/Programmers_1021.ipynb\" target=\"_parent\"><img src=\"https://colab.research.google.com/assets/colab-badge.svg\" alt=\"Open In Colab\"/></a>"
      ]
    },
    {
      "cell_type": "code",
      "execution_count": null,
      "metadata": {
        "id": "7ujx3Gb95IT7"
      },
      "outputs": [],
      "source": [
        "# 자릿수 더하기\n",
        "\n",
        "def solution(n):\n",
        "    answer = 0\n",
        "    n_list = list(str(n))\n",
        "    for i in n_list:\n",
        "        answer += int(i)\n",
        "    return answer\n",
        "    \n",
        "'''재귀로 다른사람이 푼 풀이'''\n",
        "def sum_digit(number):\n",
        "    if number < 10:\n",
        "        return number;\n",
        "    return (number % 10) + sum_digit(number // 10) "
      ]
    },
    {
      "cell_type": "code",
      "source": [
        "# 정수 제곱근 판별\n",
        "import math\n",
        "def solution(n):\n",
        "    answer = 0\n",
        "    n_sqrt = math.sqrt(n)\n",
        "    if n_sqrt == int(n_sqrt):\n",
        "        answer = (n_sqrt+1) ** 2\n",
        "    else:\n",
        "        answer = -1\n",
        "    return answer"
      ],
      "metadata": {
        "colab": {
          "base_uri": "https://localhost:8080/"
        },
        "id": "baQjxsIrxdUx",
        "outputId": "f6a71c16-2546-42b3-9a34-8c7bcb9f8ecb"
      },
      "execution_count": 6,
      "outputs": [
        {
          "output_type": "execute_result",
          "data": {
            "text/plain": [
              "True"
            ]
          },
          "metadata": {},
          "execution_count": 6
        }
      ]
    }
  ]
}