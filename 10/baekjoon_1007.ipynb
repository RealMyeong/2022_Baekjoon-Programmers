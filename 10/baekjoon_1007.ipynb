{
  "nbformat": 4,
  "nbformat_minor": 0,
  "metadata": {
    "colab": {
      "provenance": [],
      "authorship_tag": "ABX9TyPDHRdw+PRUXuL0+8wF+Fu+",
      "include_colab_link": true
    },
    "kernelspec": {
      "name": "python3",
      "display_name": "Python 3"
    },
    "language_info": {
      "name": "python"
    }
  },
  "cells": [
    {
      "cell_type": "markdown",
      "metadata": {
        "id": "view-in-github",
        "colab_type": "text"
      },
      "source": [
        "<a href=\"https://colab.research.google.com/github/RealMyeong/python3-study/blob/main/10/baekjoon_1007.ipynb\" target=\"_parent\"><img src=\"https://colab.research.google.com/assets/colab-badge.svg\" alt=\"Open In Colab\"/></a>"
      ]
    },
    {
      "cell_type": "code",
      "execution_count": 1,
      "metadata": {
        "colab": {
          "base_uri": "https://localhost:8080/"
        },
        "id": "WVB_t--Imn3k",
        "outputId": "5629589b-fdfc-4f7d-f5ee-f72e05ce0660"
      },
      "outputs": [
        {
          "output_type": "stream",
          "name": "stdout",
          "text": [
            "1\n",
            "-5 1 12 1\n",
            "7\n",
            "1 1 8\n",
            "-3 -1 1\n",
            "2 2 2\n",
            "5 5 1\n",
            "-4 5 1\n",
            "12 1 1\n",
            "12 1 2\n",
            "3\n"
          ]
        }
      ],
      "source": [
        "# 백준 1004 어린 왕자\n",
        "import math\n",
        "t = int(input())\n",
        "\n",
        "for i in range(t):\n",
        "  x1, y1, x2, y2 = map(int,input().split())\n",
        "\n",
        "  n = int(input())\n",
        "  count = 0\n",
        "\n",
        "  for j in range(n):\n",
        "    cx, cy, r = map(int, input().split())\n",
        "    d1 = math.sqrt((x1-cx) ** 2 + (y1-cy) ** 2)\n",
        "    d2 = math.sqrt((x2-cx) ** 2 + (y2-cy) ** 2)\n",
        "\n",
        "    if d1 < r and d2 > r:\n",
        "      count += 1\n",
        "    elif d1 > r and d2 < r:\n",
        "      count += 1\n",
        "    elif d1 < r and d2 < r:\n",
        "      pass\n",
        "    elif d1 > r and d2 > r:\n",
        "      pass\n",
        "  \n",
        "  print(count)\n",
        "  "
      ]
    }
  ]
}