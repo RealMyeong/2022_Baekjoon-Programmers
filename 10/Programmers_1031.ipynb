{
  "nbformat": 4,
  "nbformat_minor": 0,
  "metadata": {
    "colab": {
      "provenance": [],
      "authorship_tag": "ABX9TyOkezJooDoffMW4v4hCy6GK",
      "include_colab_link": true
    },
    "kernelspec": {
      "name": "python3",
      "display_name": "Python 3"
    },
    "language_info": {
      "name": "python"
    }
  },
  "cells": [
    {
      "cell_type": "markdown",
      "metadata": {
        "id": "view-in-github",
        "colab_type": "text"
      },
      "source": [
        "<a href=\"https://colab.research.google.com/github/RealMyeong/python3-study/blob/main/10/Programmers_1031.ipynb\" target=\"_parent\"><img src=\"https://colab.research.google.com/assets/colab-badge.svg\" alt=\"Open In Colab\"/></a>"
      ]
    },
    {
      "cell_type": "code",
      "execution_count": null,
      "metadata": {
        "id": "MMJIt3Uv95pn"
      },
      "outputs": [],
      "source": [
        "# 최댓값과 최솟값\n",
        "def solution(s):\n",
        "    s_list = [int(i) for i in s.split()]\n",
        "    min_max = [str(min(s_list)), str(max(s_list))]\n",
        "    answer = ' '.join(min_max)\n",
        "    return answer"
      ]
    },
    {
      "cell_type": "code",
      "source": [
        "# 약수의 개수와 덧셈\n",
        "def solution(left, right):\n",
        "    n_list = list(range(left, right+1))\n",
        "    answer = 0\n",
        "    for i in n_list:\n",
        "        cnt = 1 # 1은 무조건 포함\n",
        "        for j in range(2, i+1):\n",
        "            if i%j ==0:\n",
        "                cnt += 1\n",
        "        if cnt % 2==0:\n",
        "            answer += i\n",
        "        elif cnt % 2 != 0:\n",
        "            answer -= i\n",
        "\n",
        "# 다른 풀이\n",
        "# 제곱근이 정수인 수는 약수의 개수가 홀수다 라는 아이디어 적용\n",
        "def solution(left, right):\n",
        "    answer = 0\n",
        "    for i in range(left,right+1):\n",
        "        if int(i**0.5)==i**0.5:\n",
        "            answer -= i\n",
        "        else:\n",
        "            answer += i\n",
        "    return answer\n"
      ],
      "metadata": {
        "id": "VN4xXZQN_kNp"
      },
      "execution_count": null,
      "outputs": []
    }
  ]
}