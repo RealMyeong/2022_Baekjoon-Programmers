{
  "nbformat": 4,
  "nbformat_minor": 0,
  "metadata": {
    "colab": {
      "provenance": [],
      "authorship_tag": "ABX9TyMsxo/KITt/U3oaCm8CbjJL",
      "include_colab_link": true
    },
    "kernelspec": {
      "name": "python3",
      "display_name": "Python 3"
    },
    "language_info": {
      "name": "python"
    }
  },
  "cells": [
    {
      "cell_type": "markdown",
      "metadata": {
        "id": "view-in-github",
        "colab_type": "text"
      },
      "source": [
        "<a href=\"https://colab.research.google.com/github/RealMyeong/python3-study/blob/main/10/Programmers_1027.ipynb\" target=\"_parent\"><img src=\"https://colab.research.google.com/assets/colab-badge.svg\" alt=\"Open In Colab\"/></a>"
      ]
    },
    {
      "cell_type": "code",
      "execution_count": null,
      "metadata": {
        "id": "tIZVtVWy5h8s"
      },
      "outputs": [],
      "source": [
        "# 나누어 떨어지는 숫자 배열\n",
        "\n",
        "def solution(arr, divisor):\n",
        "    answer = [i for i in arr if i % divisor == 0]\n",
        "    answer.sort()\n",
        "    if len(answer) ==0:\n",
        "        return [-1]\n",
        "    else:\n",
        "        return answer"
      ]
    },
    {
      "cell_type": "code",
      "source": [
        "# 제일 작은 수 제거하기\n",
        "def solution(arr):\n",
        "    arr.remove(min(arr))\n",
        "    if arr:\n",
        "        return arr\n",
        "    else:\n",
        "        return [-1]"
      ],
      "metadata": {
        "id": "AnjLJm067tsW"
      },
      "execution_count": null,
      "outputs": []
    }
  ]
}