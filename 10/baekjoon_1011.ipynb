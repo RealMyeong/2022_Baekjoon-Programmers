{
  "nbformat": 4,
  "nbformat_minor": 0,
  "metadata": {
    "colab": {
      "provenance": [],
      "authorship_tag": "ABX9TyPOSudq6Y9FXUPk6N0lBhmv",
      "include_colab_link": true
    },
    "kernelspec": {
      "name": "python3",
      "display_name": "Python 3"
    },
    "language_info": {
      "name": "python"
    }
  },
  "cells": [
    {
      "cell_type": "markdown",
      "metadata": {
        "id": "view-in-github",
        "colab_type": "text"
      },
      "source": [
        "<a href=\"https://colab.research.google.com/github/RealMyeong/python3-study/blob/main/10/baekjoon_1011.ipynb\" target=\"_parent\"><img src=\"https://colab.research.google.com/assets/colab-badge.svg\" alt=\"Open In Colab\"/></a>"
      ]
    },
    {
      "cell_type": "code",
      "execution_count": 1,
      "metadata": {
        "colab": {
          "base_uri": "https://localhost:8080/"
        },
        "id": "3JnyZGJQMDvE",
        "outputId": "419043cd-ef0c-4154-9973-99c93a742e95"
      },
      "outputs": [
        {
          "output_type": "stream",
          "name": "stdout",
          "text": [
            "4\n",
            "12 3 8 4\n",
            "4/1\n",
            "3/2\n",
            "3/1\n"
          ]
        }
      ],
      "source": [
        "# 백준 3036 링\n",
        "import math\n",
        "\n",
        "n = int(input())\n",
        "ring_r = list(map(int, input().split()))\n",
        "\n",
        "ring_1 = ring_r[0]\n",
        "\n",
        "for i in range(1, len(ring_r)):\n",
        "\n",
        "  r_gcd = math.gcd(ring_1, ring_r[i])\n",
        "\n",
        "  A = ring_1 // r_gcd\n",
        "  B = ring_r[i] // r_gcd\n",
        "  \n",
        "  print(f'{A}/{B}')"
      ]
    }
  ]
}