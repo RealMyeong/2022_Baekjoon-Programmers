{
  "nbformat": 4,
  "nbformat_minor": 0,
  "metadata": {
    "colab": {
      "provenance": [],
      "authorship_tag": "ABX9TyMwgdQkdC8Q1O+Mb+z95fRO",
      "include_colab_link": true
    },
    "kernelspec": {
      "name": "python3",
      "display_name": "Python 3"
    },
    "language_info": {
      "name": "python"
    }
  },
  "cells": [
    {
      "cell_type": "markdown",
      "metadata": {
        "id": "view-in-github",
        "colab_type": "text"
      },
      "source": [
        "<a href=\"https://colab.research.google.com/github/RealMyeong/python3-study/blob/main/10/baekjoon_1006.ipynb\" target=\"_parent\"><img src=\"https://colab.research.google.com/assets/colab-badge.svg\" alt=\"Open In Colab\"/></a>"
      ]
    },
    {
      "cell_type": "code",
      "source": [
        "import math\n",
        "\n",
        "t = int(input())\n",
        "\n",
        "for _ in range(t):\n",
        "\n",
        "    x1, y1, r1, x2, y2, r2 = map(int, input().split())\n",
        "\n",
        "    d = math.sqrt((x1-x2)**2 + (y1-y2)**2)  \n",
        "    \n",
        "    if d == 0 and r1 == r2 :  # 1\n",
        "        print(-1)\n",
        "    elif abs(r1-r2) == d or r1 + r2 == d:  # 2\n",
        "        print(1)\n",
        "    elif abs(r1-r2) < d < (r1+r2) :  # 3\n",
        "        print(2)\n",
        "    else:\n",
        "        print(0)  "
      ],
      "metadata": {
        "id": "VmZsuFjtinyx"
      },
      "execution_count": null,
      "outputs": []
    }
  ]
}