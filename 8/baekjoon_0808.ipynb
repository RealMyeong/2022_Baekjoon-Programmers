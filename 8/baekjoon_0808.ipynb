{
  "nbformat": 4,
  "nbformat_minor": 0,
  "metadata": {
    "colab": {
      "name": "baekjoon_0808.ipynb",
      "provenance": [],
      "authorship_tag": "ABX9TyOojV9W7jPdLbIrRKmcpP30",
      "include_colab_link": true
    },
    "kernelspec": {
      "name": "python3",
      "display_name": "Python 3"
    },
    "language_info": {
      "name": "python"
    }
  },
  "cells": [
    {
      "cell_type": "markdown",
      "metadata": {
        "id": "view-in-github",
        "colab_type": "text"
      },
      "source": [
        "<a href=\"https://colab.research.google.com/github/RealMyeong/python3-study/blob/main/8/baekjoon_0808.ipynb\" target=\"_parent\"><img src=\"https://colab.research.google.com/assets/colab-badge.svg\" alt=\"Open In Colab\"/></a>"
      ]
    },
    {
      "cell_type": "code",
      "execution_count": 8,
      "metadata": {
        "colab": {
          "base_uri": "https://localhost:8080/"
        },
        "id": "_JpKyGcimpes",
        "outputId": "421f93cc-e77b-4afc-c7f2-ee963814f257"
      },
      "outputs": [
        {
          "output_type": "stream",
          "name": "stdout",
          "text": [
            "6\n",
            "     *\n",
            "    ***\n",
            "   *****\n",
            "  *******\n",
            " *********\n",
            "***********\n",
            " *********\n",
            "  *******\n",
            "   *****\n",
            "    ***\n",
            "     *\n"
          ]
        }
      ],
      "source": [
        "#백준 2444 별 찍기 -7\n",
        "N = int(input())\n",
        "for i in range(1, 2*N):\n",
        "  if i <= N:\n",
        "    print(' '*(N-i)+'*'*(2*i-1))\n",
        "  else:\n",
        "    print(' '*(i-N)+'*'*(2*(2*N-i)-1))\n"
      ]
    }
  ]
}