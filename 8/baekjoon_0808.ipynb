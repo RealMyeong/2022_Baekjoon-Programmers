{
  "nbformat": 4,
  "nbformat_minor": 0,
  "metadata": {
    "colab": {
      "name": "baekjoon_0808.ipynb",
      "provenance": [],
      "authorship_tag": "ABX9TyNBh5HBh4TzUpR8flfaqVin",
      "include_colab_link": true
    },
    "kernelspec": {
      "name": "python3",
      "display_name": "Python 3"
    },
    "language_info": {
      "name": "python"
    }
  },
  "cells": [
    {
      "cell_type": "markdown",
      "metadata": {
        "id": "view-in-github",
        "colab_type": "text"
      },
      "source": [
        "<a href=\"https://colab.research.google.com/github/RealMyeong/python3-study/blob/main/8/baekjoon_0808.ipynb\" target=\"_parent\"><img src=\"https://colab.research.google.com/assets/colab-badge.svg\" alt=\"Open In Colab\"/></a>"
      ]
    },
    {
      "cell_type": "code",
      "execution_count": 8,
      "metadata": {
        "colab": {
          "base_uri": "https://localhost:8080/"
        },
        "id": "_JpKyGcimpes",
        "outputId": "421f93cc-e77b-4afc-c7f2-ee963814f257"
      },
      "outputs": [
        {
          "output_type": "stream",
          "name": "stdout",
          "text": [
            "6\n",
            "     *\n",
            "    ***\n",
            "   *****\n",
            "  *******\n",
            " *********\n",
            "***********\n",
            " *********\n",
            "  *******\n",
            "   *****\n",
            "    ***\n",
            "     *\n"
          ]
        }
      ],
      "source": [
        "#백준 2444 별 찍기 -7\n",
        "N = int(input())\n",
        "for i in range(1, 2*N):\n",
        "  if i <= N:\n",
        "    print(' '*(N-i)+'*'*(2*i-1))\n",
        "  else:\n",
        "    print(' '*(i-N)+'*'*(2*(2*N-i)-1))\n"
      ]
    },
    {
      "cell_type": "code",
      "source": [
        "#백준 2522 별 찍기 - 12\n",
        "N = int(input())\n",
        "for i in range(1, 2*N):\n",
        "  if i <= N:\n",
        "    print(' '*(N-i)+'*'*(i))\n",
        "  else:\n",
        "    print(' '*(i-N)+'*'*(2*N-i))"
      ],
      "metadata": {
        "colab": {
          "base_uri": "https://localhost:8080/"
        },
        "id": "dzpRd9A0pxrD",
        "outputId": "004d5ad9-031f-41a0-9bb9-0d367e75b7ea"
      },
      "execution_count": 10,
      "outputs": [
        {
          "output_type": "stream",
          "name": "stdout",
          "text": [
            "5\n",
            "    *\n",
            "   **\n",
            "  ***\n",
            " ****\n",
            "*****\n",
            " ****\n",
            "  ***\n",
            "   **\n",
            "    *\n"
          ]
        }
      ]
    },
    {
      "cell_type": "code",
      "source": [
        "#백준 2523 별 찍기 - 13\n",
        "N = int(input())\n",
        "for i in range(1, 2*N):\n",
        "  if i <= N:\n",
        "    print('*'*i)\n",
        "  else:\n",
        "    print('*'*(2*N-i))"
      ],
      "metadata": {
        "colab": {
          "base_uri": "https://localhost:8080/"
        },
        "id": "gayXypuEqwy-",
        "outputId": "cd1f543f-1cc1-427b-ebb6-5269ada6edfd"
      },
      "execution_count": 11,
      "outputs": [
        {
          "output_type": "stream",
          "name": "stdout",
          "text": [
            "3\n",
            "*\n",
            "**\n",
            "***\n",
            "**\n",
            "*\n"
          ]
        }
      ]
    }
  ]
}