{
  "nbformat": 4,
  "nbformat_minor": 0,
  "metadata": {
    "colab": {
      "name": "baekjoon_0812.ipynb",
      "provenance": [],
      "authorship_tag": "ABX9TyPYfiQH6/UEPKb3SsobxgE4",
      "include_colab_link": true
    },
    "kernelspec": {
      "name": "python3",
      "display_name": "Python 3"
    },
    "language_info": {
      "name": "python"
    }
  },
  "cells": [
    {
      "cell_type": "markdown",
      "metadata": {
        "id": "view-in-github",
        "colab_type": "text"
      },
      "source": [
        "<a href=\"https://colab.research.google.com/github/RealMyeong/python3-study/blob/main/8/baekjoon_0812.ipynb\" target=\"_parent\"><img src=\"https://colab.research.google.com/assets/colab-badge.svg\" alt=\"Open In Colab\"/></a>"
      ]
    },
    {
      "cell_type": "code",
      "execution_count": 16,
      "metadata": {
        "colab": {
          "base_uri": "https://localhost:8080/"
        },
        "id": "ofleUUYNW4BJ",
        "outputId": "e49f9e98-cc5b-4848-d6e6-1a8cc5f6ca80"
      },
      "outputs": [
        {
          "output_type": "stream",
          "name": "stdout",
          "text": [
            "1000\n",
            "501501000\n"
          ]
        }
      ],
      "source": [
        "#백준 2921 도미노\n",
        "N = int(input())\n",
        "a = [0] * 1001\n",
        "a[1] = 3\n",
        "for i in range(2,N+1):\n",
        "  a[i] = a[i-1] + ((3*(i*(i+1)) // 2))\n",
        "\n",
        "print(a[N])"
      ]
    },
    {
      "cell_type": "code",
      "source": [
        "#백준 10995 별 찍기 - 20\n",
        "N = int(input())\n",
        "for i in range(N):\n",
        "  a=['*'] * N\n",
        "  b=[' '] * N\n",
        "  if i % 2 == 0:\n",
        "    print(' '.join(a))\n",
        "  else:\n",
        "    print('*'.join(b)+'*')\n"
      ],
      "metadata": {
        "colab": {
          "base_uri": "https://localhost:8080/"
        },
        "id": "akdY8P_TbU0_",
        "outputId": "c6baf08a-79c0-429b-f35d-dfe94c1c718a"
      },
      "execution_count": 29,
      "outputs": [
        {
          "output_type": "stream",
          "name": "stdout",
          "text": [
            "5\n",
            "* * * * *\n",
            " * * * * *\n",
            "* * * * *\n",
            " * * * * *\n",
            "* * * * *\n"
          ]
        }
      ]
    }
  ]
}