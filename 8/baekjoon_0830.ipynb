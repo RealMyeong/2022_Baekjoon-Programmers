{
  "nbformat": 4,
  "nbformat_minor": 0,
  "metadata": {
    "colab": {
      "name": "baekjoon_0830.ipynb",
      "provenance": [],
      "authorship_tag": "ABX9TyN/H1tbSQ1WKPwlgcIO0zeQ",
      "include_colab_link": true
    },
    "kernelspec": {
      "name": "python3",
      "display_name": "Python 3"
    },
    "language_info": {
      "name": "python"
    }
  },
  "cells": [
    {
      "cell_type": "markdown",
      "metadata": {
        "id": "view-in-github",
        "colab_type": "text"
      },
      "source": [
        "<a href=\"https://colab.research.google.com/github/RealMyeong/python3-study/blob/main/8/baekjoon_0830.ipynb\" target=\"_parent\"><img src=\"https://colab.research.google.com/assets/colab-badge.svg\" alt=\"Open In Colab\"/></a>"
      ]
    },
    {
      "cell_type": "code",
      "execution_count": 3,
      "metadata": {
        "colab": {
          "base_uri": "https://localhost:8080/"
        },
        "id": "fVa7ZgyMv6Xw",
        "outputId": "85379b63-9227-410d-e89f-638d5ca98560"
      },
      "outputs": [
        {
          "output_type": "stream",
          "name": "stdout",
          "text": [
            "1000000000\n",
            "18258\n"
          ]
        }
      ],
      "source": [
        "# 백준 2292 벌집\n",
        "N = int(input())\n",
        "num = 1\n",
        "count = 1\n",
        "while N > num:\n",
        "  num += 6*count\n",
        "  count += 1\n",
        "print(count)"
      ]
    },
    {
      "cell_type": "code",
      "source": [
        "# 백준 1193 분수찾기\n",
        "X = int(input())\n",
        "num = 1\n",
        "count = 1\n",
        "while X > num:\n",
        "  count += 1\n",
        "  num += count\n",
        "a = num - count + 1\n",
        "b = X - a\n",
        "if count % 2 == 0:\n",
        "  print(f'{1+b}/{count-b}')\n",
        "else:\n",
        "  print(f'{count-b}/{1+b}')\n",
        "\n",
        "  "
      ],
      "metadata": {
        "colab": {
          "base_uri": "https://localhost:8080/"
        },
        "id": "bzhx7UDA5JIE",
        "outputId": "97cc62e2-66c5-4d59-996b-c04b36cfddf0"
      },
      "execution_count": 8,
      "outputs": [
        {
          "output_type": "stream",
          "name": "stdout",
          "text": [
            "9\n",
            "3/2\n"
          ]
        }
      ]
    }
  ]
}