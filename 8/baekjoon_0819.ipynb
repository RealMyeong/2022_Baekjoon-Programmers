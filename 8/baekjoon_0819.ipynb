{
  "nbformat": 4,
  "nbformat_minor": 0,
  "metadata": {
    "colab": {
      "name": "baekjoon_0819.ipynb",
      "provenance": [],
      "authorship_tag": "ABX9TyN8Y91HB9iYDZWiSmH6Z8sW",
      "include_colab_link": true
    },
    "kernelspec": {
      "name": "python3",
      "display_name": "Python 3"
    },
    "language_info": {
      "name": "python"
    }
  },
  "cells": [
    {
      "cell_type": "markdown",
      "metadata": {
        "id": "view-in-github",
        "colab_type": "text"
      },
      "source": [
        "<a href=\"https://colab.research.google.com/github/RealMyeong/python3-study/blob/main/8/baekjoon_0819.ipynb\" target=\"_parent\"><img src=\"https://colab.research.google.com/assets/colab-badge.svg\" alt=\"Open In Colab\"/></a>"
      ]
    },
    {
      "cell_type": "code",
      "execution_count": 1,
      "metadata": {
        "colab": {
          "base_uri": "https://localhost:8080/"
        },
        "id": "hVPdGX6EJTnV",
        "outputId": "c9fa9a64-2f12-4176-ae15-502f9719751a"
      },
      "outputs": [
        {
          "name": "stdout",
          "output_type": "stream",
          "text": [
            "1\n",
            "1 2 3 1 4\n"
          ]
        },
        {
          "output_type": "execute_result",
          "data": {
            "text/plain": [
              "2"
            ]
          },
          "metadata": {},
          "execution_count": 1
        }
      ],
      "source": [
        "# 백준 10797 10부제\n",
        "n = int(input())\n",
        "a = list(map(int, input().split()))\n",
        "print(a.count(n))"
      ]
    },
    {
      "cell_type": "code",
      "source": [
        "# 백준 2506 점수계산\n",
        "n = int(input())\n",
        "correct = list(map(int, input().split()))\n",
        "\n",
        "score = 1\n",
        "total = 0\n",
        "for i in range(n):\n",
        "  if correct[i]==1:\n",
        "    total += score\n",
        "    score += 1\n",
        "  else:\n",
        "    score = 1\n",
        "print(total)"
      ],
      "metadata": {
        "colab": {
          "base_uri": "https://localhost:8080/"
        },
        "id": "XHn78fzgKIUp",
        "outputId": "16d61783-1d09-4615-e307-bc917a536e66"
      },
      "execution_count": 12,
      "outputs": [
        {
          "output_type": "stream",
          "name": "stdout",
          "text": [
            "10\n",
            "1 1 0 0 0 1 1 1 0 1\n",
            "10\n"
          ]
        }
      ]
    },
    {
      "cell_type": "code",
      "source": [
        "# 백준 1546 평균\n",
        "n = int(input())\n",
        "score = list(map(int, input().split()))\n",
        "max_score = max(score)\n",
        "new_score = 0\n",
        "for i in score:\n",
        "  new_score += (i / max_score) * 100\n",
        "mean = new_score / n\n",
        "print(mean)"
      ],
      "metadata": {
        "colab": {
          "base_uri": "https://localhost:8080/"
        },
        "id": "zZrbTQIUQTeb",
        "outputId": "254b78f7-9594-4fe8-b209-75117ae54b8f"
      },
      "execution_count": 26,
      "outputs": [
        {
          "output_type": "stream",
          "name": "stdout",
          "text": [
            "3\n",
            "40 80 60\n",
            "75.0\n"
          ]
        }
      ]
    },
    {
      "cell_type": "code",
      "source": [
        "# 백준 2455 지능형 기차\n",
        "import sys\n",
        "p_num = []\n",
        "p = 0\n",
        "for i in range(4):\n",
        "   output, input = map(int, sys.stdin.readline().split())\n",
        "   p = p - output + input\n",
        "   p_num.append(p)\n",
        "print(max(p_num))"
      ],
      "metadata": {
        "id": "g0ve25fVSzKx"
      },
      "execution_count": null,
      "outputs": []
    }
  ]
}