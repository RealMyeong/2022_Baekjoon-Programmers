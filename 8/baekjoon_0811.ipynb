{
  "nbformat": 4,
  "nbformat_minor": 0,
  "metadata": {
    "colab": {
      "name": "baekjoon_0811.ipynb",
      "provenance": [],
      "authorship_tag": "ABX9TyPOb61f/R6JllqKKSEON166",
      "include_colab_link": true
    },
    "kernelspec": {
      "name": "python3",
      "display_name": "Python 3"
    },
    "language_info": {
      "name": "python"
    }
  },
  "cells": [
    {
      "cell_type": "markdown",
      "metadata": {
        "id": "view-in-github",
        "colab_type": "text"
      },
      "source": [
        "<a href=\"https://colab.research.google.com/github/RealMyeong/python3-study/blob/main/8/baekjoon_0811.ipynb\" target=\"_parent\"><img src=\"https://colab.research.google.com/assets/colab-badge.svg\" alt=\"Open In Colab\"/></a>"
      ]
    },
    {
      "cell_type": "code",
      "execution_count": null,
      "metadata": {
        "id": "YpT-PYP4LDTp"
      },
      "outputs": [],
      "source": [
        "#백준 9295 주사위\n",
        "import sys\n",
        "T=int(input())\n",
        "for i in range(T):\n",
        "  a, b = map(int, sys.stdin.readline().split())\n",
        "  print(f'Case {i+1}: {a+b}')"
      ]
    },
    {
      "cell_type": "code",
      "source": [
        "#백준 10569 다면체\n",
        "import sys\n",
        "T = int(input())\n",
        "for i in range(T):\n",
        "  v, e = map(int, sys.stdin.readline().split())\n",
        "  p = 2 - v + e\n",
        "  print(p)"
      ],
      "metadata": {
        "id": "VKy6HNPBLybb"
      },
      "execution_count": null,
      "outputs": []
    }
  ]
}