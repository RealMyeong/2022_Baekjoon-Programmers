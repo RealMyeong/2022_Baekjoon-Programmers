{
  "nbformat": 4,
  "nbformat_minor": 0,
  "metadata": {
    "colab": {
      "name": "baekjoon_0815.ipynb",
      "provenance": [],
      "authorship_tag": "ABX9TyOk/Oaov7vIwbO32Wj7d930",
      "include_colab_link": true
    },
    "kernelspec": {
      "name": "python3",
      "display_name": "Python 3"
    },
    "language_info": {
      "name": "python"
    }
  },
  "cells": [
    {
      "cell_type": "markdown",
      "metadata": {
        "id": "view-in-github",
        "colab_type": "text"
      },
      "source": [
        "<a href=\"https://colab.research.google.com/github/RealMyeong/python3-study/blob/main/8/baekjoon_0815.ipynb\" target=\"_parent\"><img src=\"https://colab.research.google.com/assets/colab-badge.svg\" alt=\"Open In Colab\"/></a>"
      ]
    },
    {
      "cell_type": "code",
      "execution_count": null,
      "metadata": {
        "id": "AnS__lLoQIhp"
      },
      "outputs": [],
      "source": [
        "# 백준 10818 최소, 최대\n",
        "\n",
        "N = int(input())\n",
        "num = list(map(int, input().split()))\n",
        "print(min(num), max(num))"
      ]
    },
    {
      "cell_type": "code",
      "source": [
        "# 백준 2581 소수\n",
        "\n",
        "M = int(input())\n",
        "N = int(input())\n",
        "prime = []  #소수 리스트 만들어줌\n",
        "for i in range(M, N+1):\n",
        "  rest = 0\n",
        "  for j in range(2, i):\n",
        "    if i % j == 0:\n",
        "      rest += 1\n",
        "  if rest == 0:\n",
        "    prime.append(i)\n",
        "if 1 in prime:  #1은 소수가 아니라 삭제\n",
        "  prime.remove(1)\n",
        "if len(prime) == 0:  \n",
        "  print(-1)\n",
        "else:\n",
        "  print(sum(prime))\n",
        "  print(min(prime))"
      ],
      "metadata": {
        "colab": {
          "base_uri": "https://localhost:8080/"
        },
        "id": "joOytxKjQSjk",
        "outputId": "d94410a5-a717-4251-a35a-56fddff1a6a3"
      },
      "execution_count": 11,
      "outputs": [
        {
          "output_type": "stream",
          "name": "stdout",
          "text": [
            "1\n",
            "1000\n",
            "76127\n",
            "2\n"
          ]
        }
      ]
    }
  ]
}