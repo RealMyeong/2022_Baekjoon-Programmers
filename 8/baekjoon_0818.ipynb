{
  "nbformat": 4,
  "nbformat_minor": 0,
  "metadata": {
    "colab": {
      "name": "baekjoon_0818.ipynb",
      "provenance": [],
      "authorship_tag": "ABX9TyNJnKJKE8g59JSREn8Rp3it",
      "include_colab_link": true
    },
    "kernelspec": {
      "name": "python3",
      "display_name": "Python 3"
    },
    "language_info": {
      "name": "python"
    }
  },
  "cells": [
    {
      "cell_type": "markdown",
      "metadata": {
        "id": "view-in-github",
        "colab_type": "text"
      },
      "source": [
        "<a href=\"https://colab.research.google.com/github/RealMyeong/python3-study/blob/main/8/baekjoon_0818.ipynb\" target=\"_parent\"><img src=\"https://colab.research.google.com/assets/colab-badge.svg\" alt=\"Open In Colab\"/></a>"
      ]
    },
    {
      "cell_type": "code",
      "execution_count": null,
      "metadata": {
        "id": "QzlXLE77FsGs"
      },
      "outputs": [],
      "source": [
        "#백준 2576 홀수\n",
        "import sys\n",
        "odd = []\n",
        "for _ in range(7):\n",
        "  num = int(sys.stdin.readline())\n",
        "  if num % 2 != 0:\n",
        "    odd.append(num)\n",
        "if len(odd) == 0:\n",
        "  print(-1)\n",
        "else:\n",
        "  print(sum(odd))\n",
        "  print(min(odd))"
      ]
    },
    {
      "cell_type": "code",
      "source": [
        "#백준 9085 더하기\n",
        "import sys\n",
        "T = int(sys.stdin.readline())\n",
        "for _ in range(T):\n",
        "  n = int(sys.stdin.readline())\n",
        "  num = list(map(int, sys.stdin.readline().split()))\n",
        "  print(sum(num))"
      ],
      "metadata": {
        "id": "k9-HqOu0HoRA"
      },
      "execution_count": null,
      "outputs": []
    },
    {
      "cell_type": "code",
      "source": [
        "#백준 2490 윷놀이\n",
        "import sys\n",
        "for _ in range(3):\n",
        "  a = list(map(int, sys.stdin.readline().split()))\n",
        "  sum_a = sum(a)\n",
        "  if sum_a == 0 :\n",
        "    print('D')\n",
        "  elif sum_a == 1:\n",
        "    print('C')\n",
        "  elif sum_a == 2:\n",
        "    print('B')\n",
        "  elif sum_a == 3:\n",
        "    print('A')\n",
        "  elif sum_a == 4:\n",
        "    print('E')"
      ],
      "metadata": {
        "id": "dnvhswsTIwGq"
      },
      "execution_count": null,
      "outputs": []
    }
  ]
}