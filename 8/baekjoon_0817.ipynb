{
  "nbformat": 4,
  "nbformat_minor": 0,
  "metadata": {
    "colab": {
      "name": "baekjoon_0817.ipynb",
      "provenance": [],
      "authorship_tag": "ABX9TyMkydKeFgZc7X5E3haclyT9",
      "include_colab_link": true
    },
    "kernelspec": {
      "name": "python3",
      "display_name": "Python 3"
    },
    "language_info": {
      "name": "python"
    }
  },
  "cells": [
    {
      "cell_type": "markdown",
      "metadata": {
        "id": "view-in-github",
        "colab_type": "text"
      },
      "source": [
        "<a href=\"https://colab.research.google.com/github/RealMyeong/python3-study/blob/main/8/baekjoon_0817.ipynb\" target=\"_parent\"><img src=\"https://colab.research.google.com/assets/colab-badge.svg\" alt=\"Open In Colab\"/></a>"
      ]
    },
    {
      "cell_type": "code",
      "execution_count": 2,
      "metadata": {
        "colab": {
          "base_uri": "https://localhost:8080/"
        },
        "id": "kKmUaPi1AC69",
        "outputId": "7ad8e678-fe54-4455-94ea-691d916007d2"
      },
      "outputs": [
        {
          "output_type": "stream",
          "name": "stdout",
          "text": [
            "0 1 5 4 6\n",
            "8\n"
          ]
        }
      ],
      "source": [
        "#백준 2475 검증수\n",
        "num = [x**2 for x in map(int, input().split())]\n",
        "ans = sum(num) % 10\n",
        "print(ans)"
      ]
    },
    {
      "cell_type": "code",
      "source": [
        "#백준 2747 피보나치 수\n",
        "N = int(input())\n",
        "a = [0] * 50\n",
        "a[1] = 1\n",
        "for i in range(2, N+1):\n",
        "  a[i] = a[i-1] + a[i-2]\n",
        "print(a[N])"
      ],
      "metadata": {
        "colab": {
          "base_uri": "https://localhost:8080/"
        },
        "id": "nGjno_FPBMRz",
        "outputId": "9f514282-e31d-495e-8bdb-f1a9f93c99eb"
      },
      "execution_count": 4,
      "outputs": [
        {
          "output_type": "stream",
          "name": "stdout",
          "text": [
            "10\n",
            "55\n"
          ]
        }
      ]
    }
  ]
}