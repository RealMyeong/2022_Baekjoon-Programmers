{
  "nbformat": 4,
  "nbformat_minor": 0,
  "metadata": {
    "colab": {
      "name": "baekjoon_0820.ipynb",
      "provenance": [],
      "authorship_tag": "ABX9TyM1x11arNkXI1Waj7mYQ745",
      "include_colab_link": true
    },
    "kernelspec": {
      "name": "python3",
      "display_name": "Python 3"
    },
    "language_info": {
      "name": "python"
    }
  },
  "cells": [
    {
      "cell_type": "markdown",
      "metadata": {
        "id": "view-in-github",
        "colab_type": "text"
      },
      "source": [
        "<a href=\"https://colab.research.google.com/github/RealMyeong/python3-study/blob/main/8/baekjoon_0820.ipynb\" target=\"_parent\"><img src=\"https://colab.research.google.com/assets/colab-badge.svg\" alt=\"Open In Colab\"/></a>"
      ]
    },
    {
      "cell_type": "code",
      "execution_count": 1,
      "metadata": {
        "colab": {
          "base_uri": "https://localhost:8080/"
        },
        "id": "Ud3PGcXmQD8_",
        "outputId": "a8b44ef6-023b-4606-c446-52a798c1f63f"
      },
      "outputs": [
        {
          "output_type": "stream",
          "name": "stdout",
          "text": [
            "강한친구 대한육군\n",
            "강한친구 대한육군\n"
          ]
        }
      ],
      "source": [
        "#백준 10718 we love kriii\n",
        "\n",
        "print(\"강한친구 대한육군\")\n",
        "print(\"강한친구 대한육군\")"
      ]
    },
    {
      "cell_type": "code",
      "source": [
        "#백준 10926 ??!\n",
        "s = input()\n",
        "print(s+'??!')"
      ],
      "metadata": {
        "colab": {
          "base_uri": "https://localhost:8080/"
        },
        "id": "tjgD08LjQetw",
        "outputId": "39728698-03fa-4eee-e25d-9d47db97082f"
      },
      "execution_count": 2,
      "outputs": [
        {
          "output_type": "stream",
          "name": "stdout",
          "text": [
            "baekjoon\n",
            "baekjoon??!\n"
          ]
        }
      ]
    },
    {
      "cell_type": "code",
      "source": [
        "#백준 18108 1998년생인 내가 태국에서는 2541년생?!\n",
        "n = int(input())\n",
        "print(n-543)"
      ],
      "metadata": {
        "id": "BWaU7K9PQyAO"
      },
      "execution_count": null,
      "outputs": []
    },
    {
      "cell_type": "code",
      "source": [
        "#백준 3003 킹, 퀸, 룩, 비숍, 나이트, 폰\n",
        "a = [1,1,2,2,2,8]\n",
        "b = list(map(int, input().split()))\n",
        "for i in range(len(a)):\n",
        "  print(a[i]-b[i], end=' ')"
      ],
      "metadata": {
        "colab": {
          "base_uri": "https://localhost:8080/"
        },
        "id": "sK3MDzqLRJ94",
        "outputId": "3f00f871-088b-447a-e234-522ee14788ad"
      },
      "execution_count": 4,
      "outputs": [
        {
          "output_type": "stream",
          "name": "stdout",
          "text": [
            "2 1 2 1 2 1\n",
            "-1 0 0 1 0 7 "
          ]
        }
      ]
    },
    {
      "cell_type": "code",
      "source": [
        "print(\"\\    /\\ \")\n",
        "print(\" )  ( ')\")\n",
        "print(\"(  /  )\")\n",
        "print(\" \\(__)|\")"
      ],
      "metadata": {
        "colab": {
          "base_uri": "https://localhost:8080/"
        },
        "id": "EpfAJqjDSBcD",
        "outputId": "3f6bcae1-beb9-4e83-c450-b83c7f9cd9a6"
      },
      "execution_count": 5,
      "outputs": [
        {
          "output_type": "stream",
          "name": "stdout",
          "text": [
            "\\    /\\ \n",
            " )  ( ')\n",
            "(  /  )\n",
            " \\(__)|\n"
          ]
        }
      ]
    },
    {
      "cell_type": "code",
      "source": [
        "print('|\\_/|')\n",
        "print('|q p|   /}')\n",
        "print('( 0 )\"\"\"\\\\')\n",
        "print('|\"^\"`    |')\n",
        "print('||_/=\\\\\\__|')"
      ],
      "metadata": {
        "colab": {
          "base_uri": "https://localhost:8080/"
        },
        "id": "Lt29eyv7StAy",
        "outputId": "9393227a-73ed-474b-a456-37d575ee60b0"
      },
      "execution_count": 10,
      "outputs": [
        {
          "output_type": "stream",
          "name": "stdout",
          "text": [
            "|\\_/|\n",
            "|q p|   /}\n",
            "( 0 )\"\"\"\\\n",
            "|\"^\"`    |\n",
            "||_/=\\\\__|\n"
          ]
        }
      ]
    },
    {
      "cell_type": "code",
      "source": [
        "def leaf():\n",
        "   print('         ,r\\'\\\"7')\n",
        "   print('r`-_   ,\\'  ,/')\n",
        "   print(' \\. \\\". L_r\\'')\n",
        "   print('   `~\\/')\n",
        "   print('      |')\n",
        "   print('      |')\n",
        "leaf()"
      ],
      "metadata": {
        "colab": {
          "base_uri": "https://localhost:8080/"
        },
        "id": "9Pd1LbJYT8Ea",
        "outputId": "4ca7537a-6628-458d-aed0-50d5d5781c64"
      },
      "execution_count": 11,
      "outputs": [
        {
          "output_type": "stream",
          "name": "stdout",
          "text": [
            "         ,r'\"7\n",
            "r`-_   ,'  ,/\n",
            " \\. \". L_r'\n",
            "   `~\\/\n",
            "      |\n",
            "      |\n"
          ]
        }
      ]
    },
    {
      "cell_type": "code",
      "source": [
        "#백준 1330 두 수 비교하기\n",
        "a, b = map(int, input().split())\n",
        "if a>b :\n",
        "  print('>')\n",
        "elif a<b:\n",
        "  print('<')\n",
        "elif a==b:\n",
        "  print('==')"
      ],
      "metadata": {
        "id": "eSnOWu10UBRf"
      },
      "execution_count": null,
      "outputs": []
    },
    {
      "cell_type": "code",
      "source": [
        "#백준 14681 사분면 고르기\n",
        "x = int(input())\n",
        "y = int(input())\n",
        "if x>0 and y >0:\n",
        "  print(1)\n",
        "elif x>0 and y<0:\n",
        "  print(4)\n",
        "elif x<0 and y>0:\n",
        "  print(2)\n",
        "elif x<0 and y<0:\n",
        "  print(3)"
      ],
      "metadata": {
        "id": "lIxe0JU_UeZq"
      },
      "execution_count": null,
      "outputs": []
    },
    {
      "cell_type": "code",
      "source": [
        "#백준 25403 영수증\n",
        "import sys\n",
        "X = int(sys.stdin.readline())\n",
        "N = int(sys.stdin.readline())\n",
        "total = 0\n",
        "for i in range(N):\n",
        "  price, num = map(int, sys.stdin.readline().split())\n",
        "  total += price * num\n",
        "if total == X:\n",
        "  print('Yes')\n",
        "else:\n",
        "  print('No')"
      ],
      "metadata": {
        "id": "dpIfXEgiagOL"
      },
      "execution_count": null,
      "outputs": []
    },
    {
      "cell_type": "code",
      "source": [
        "#백준 15552 빠른 A+B\n",
        "import sys\n",
        "T = int(sys.stdin.readline())\n",
        "for _ in range(T):\n",
        "  A, B = map(int, sys.stdin.readline().split())\n",
        "  print(A+B)"
      ],
      "metadata": {
        "id": "plklgCDhbZt-"
      },
      "execution_count": null,
      "outputs": []
    },
    {
      "cell_type": "code",
      "source": [
        "#백준 10951 A+B - 4\n",
        "import sys\n",
        "while True:\n",
        "  a= list(map(int, sys.stdin.readline().split()))\n",
        "  if len(a) != 2:\n",
        "    break\n",
        "  else:\n",
        "    print(sum(a))"
      ],
      "metadata": {
        "id": "NxWsALGib6kF"
      },
      "execution_count": null,
      "outputs": []
    },
    {
      "cell_type": "code",
      "source": [
        "#백준 1110 더하기 사이클\n",
        "N = int(input())\n",
        "if 0< N < 10:\n",
        "  a = 0\n",
        "  b = N\n",
        "elif N == 0 :\n",
        "  print(1)\n",
        "else:\n",
        "  a = N // 10\n",
        "  b = N % 10\n",
        "\n",
        "i = 1\n",
        "while N != 0:\n",
        "  c = a + b\n",
        "  a = b\n",
        "  b = c % 10\n",
        "  if 10*a + b == N:\n",
        "    print(i)\n",
        "    break\n",
        "  i += 1"
      ],
      "metadata": {
        "colab": {
          "base_uri": "https://localhost:8080/"
        },
        "id": "mq8Ow-SPeSH9",
        "outputId": "c52fb94a-71b5-475c-8fae-6d619ddf7293"
      },
      "execution_count": 17,
      "outputs": [
        {
          "output_type": "stream",
          "name": "stdout",
          "text": [
            "0\n",
            "1\n"
          ]
        }
      ]
    }
  ]
}