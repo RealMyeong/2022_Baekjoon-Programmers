{
  "nbformat": 4,
  "nbformat_minor": 0,
  "metadata": {
    "colab": {
      "name": "baekjoon_0826.ipynb",
      "provenance": [],
      "authorship_tag": "ABX9TyMwCqVNIojAcKCLcF1oVuAG",
      "include_colab_link": true
    },
    "kernelspec": {
      "name": "python3",
      "display_name": "Python 3"
    },
    "language_info": {
      "name": "python"
    }
  },
  "cells": [
    {
      "cell_type": "markdown",
      "metadata": {
        "id": "view-in-github",
        "colab_type": "text"
      },
      "source": [
        "<a href=\"https://colab.research.google.com/github/RealMyeong/python3-study/blob/main/8/baekjoon_0826.ipynb\" target=\"_parent\"><img src=\"https://colab.research.google.com/assets/colab-badge.svg\" alt=\"Open In Colab\"/></a>"
      ]
    },
    {
      "cell_type": "code",
      "execution_count": 6,
      "metadata": {
        "colab": {
          "base_uri": "https://localhost:8080/"
        },
        "id": "0u2zp1CfMloS",
        "outputId": "2a79a73d-3b74-4931-cacb-f1299492cd5e"
      },
      "outputs": [
        {
          "output_type": "stream",
          "name": "stdout",
          "text": [
            "734 893\n",
            "437\n"
          ]
        }
      ],
      "source": [
        "# 백준 2908 상수\n",
        "# 문자열 slice이용한 방법\n",
        "a, b = input().split()\n",
        "reversed_a = a[::-1]\n",
        "reversed_b = b[::-1]\n",
        "if int(reversed_a) > int(reversed_b) :\n",
        "  print(reversed_a)\n",
        "else:\n",
        "  print(reversed_b)\n",
        "\n",
        "\n",
        "#reversed() 함수 이용\n",
        "a, b = input().split()\n",
        "reversed_a = ''.join(reversed(a))\n",
        "reversed_b = ''.join(reversed(b))\n",
        "if int(reversed_a) > int(reversed_b):\n",
        "  print(reversed_a)\n",
        "else:\n",
        "  print(reversed_b)"
      ]
    },
    {
      "cell_type": "code",
      "source": [
        "dial_dict = {'A':2, 'B':2, 'C':2, 'D':3, 'E':3, 'F':3, 'G':4, 'H':4, 'I':4, 'J':5, 'K':5, 'L':5, 'M':6, 'N':6, 'O':6, 'P':7, 'Q':7, 'R':7, 'S':7,\n",
        "             'T':8, 'U':8, 'V':8, 'W':9, 'X':9, 'Y':9, 'Z':9}\n",
        "for key in dial_dict.keys():\n",
        "  dial_dict[key] += 1\n",
        "\n",
        "s = list(input())\n",
        "time = 0\n",
        "for i in s:\n",
        "  time += dial_dict[i]\n",
        "print(time)"
      ],
      "metadata": {
        "colab": {
          "base_uri": "https://localhost:8080/"
        },
        "id": "5dIAbGktN18d",
        "outputId": "8b53e6b8-fd25-418a-ecdf-608419333a7e"
      },
      "execution_count": 16,
      "outputs": [
        {
          "output_type": "stream",
          "name": "stdout",
          "text": [
            "UNUCIC\n",
            "36\n"
          ]
        }
      ]
    }
  ]
}