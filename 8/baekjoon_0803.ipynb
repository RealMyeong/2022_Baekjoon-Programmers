{
  "nbformat": 4,
  "nbformat_minor": 0,
  "metadata": {
    "colab": {
      "name": "baekjoon_0803.ipynb",
      "provenance": [],
      "authorship_tag": "ABX9TyMbnBSOe85Olwa4+aAOa4AV",
      "include_colab_link": true
    },
    "kernelspec": {
      "name": "python3",
      "display_name": "Python 3"
    },
    "language_info": {
      "name": "python"
    }
  },
  "cells": [
    {
      "cell_type": "markdown",
      "metadata": {
        "id": "view-in-github",
        "colab_type": "text"
      },
      "source": [
        "<a href=\"https://colab.research.google.com/github/RealMyeong/python3-study/blob/main/baekjoon_0803.ipynb\" target=\"_parent\"><img src=\"https://colab.research.google.com/assets/colab-badge.svg\" alt=\"Open In Colab\"/></a>"
      ]
    },
    {
      "cell_type": "code",
      "execution_count": 3,
      "metadata": {
        "colab": {
          "base_uri": "https://localhost:8080/"
        },
        "id": "Wub-8opo3_iB",
        "outputId": "07feec4e-3777-4835-9edb-0ac77a05d092"
      },
      "outputs": [
        {
          "output_type": "stream",
          "name": "stdout",
          "text": [
            "00:00:01\n",
            "00:00:00\n",
            "23:59:59\n"
          ]
        }
      ],
      "source": [
        "# #백준 1408 24\n",
        "from datetime import datetime\n",
        "import time\n",
        "current_time = input()\n",
        "start_time = input()\n",
        "c_t = datetime.strptime(current_time, '%H:%M:%S')\n",
        "s_t = datetime.strptime(start_time, '%H:%M:%S')\n",
        "r_t = str(s_t - c_t)\n",
        "answer = r_t\n",
        "if len(answer) == 8:\n",
        "  print(answer)\n",
        "elif len(answer) == 7:\n",
        "  print('0'+answer)\n",
        "\n",
        "#-----위에는 틀린 답--------\n",
        "\n",
        "#-----다시 풀어서 맞춤------\n",
        "\n",
        "current_time = list(map(int, input().split(':'))) # 현재 시간 받음\n",
        "start_time = list(map(int, input().split(':'))) # 시작 시간 받음\n",
        "\n",
        "# 시작 시간 시,분,초 할당\n",
        "h = start_time[0]\n",
        "m = start_time[1]\n",
        "s = start_time[2]\n",
        "\n",
        "# 현재 시간 시,분,초 할당\n",
        "h_c = current_time[0]\n",
        "m_c = current_time[1]\n",
        "s_c = current_time[2]\n",
        "\n",
        "if s - s_c < 0:\n",
        "  s = s + 60 - s_c\n",
        "  m -= 1\n",
        "else:\n",
        "  s -= s_c\n",
        "\n",
        "if m - m_c < 0:\n",
        "  m = m + 60 - m_c\n",
        "  h -= 1\n",
        "else:\n",
        "  m -= m_c\n",
        "\n",
        "if h - h_c < 0:\n",
        "  h = h + 24 - h_c\n",
        "else:\n",
        "  h -= h_c\n",
        "\n",
        "rest_time = []\n",
        "rest_time.append(str(h).zfill(2))\n",
        "rest_time.append(str(m).zfill(2))\n",
        "rest_time.append(str(s).zfill(2))\n",
        "\n",
        "rest_time_str = ':'.join(rest_time)\n",
        "if len(rest_time_str) == 8:\n",
        "  print(rest_time_str)\n",
        "else:\n",
        "  print('0'+rest_time_str)"
      ]
    }
  ]
}
