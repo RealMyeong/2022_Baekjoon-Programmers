{
  "nbformat": 4,
  "nbformat_minor": 0,
  "metadata": {
    "colab": {
      "name": "baekjoon_0822.ipynb",
      "provenance": [],
      "authorship_tag": "ABX9TyNuVAiamZO5TKLfuYsN5GiQ",
      "include_colab_link": true
    },
    "kernelspec": {
      "name": "python3",
      "display_name": "Python 3"
    },
    "language_info": {
      "name": "python"
    }
  },
  "cells": [
    {
      "cell_type": "markdown",
      "metadata": {
        "id": "view-in-github",
        "colab_type": "text"
      },
      "source": [
        "<a href=\"https://colab.research.google.com/github/RealMyeong/python3-study/blob/main/8/baekjoon_0822.ipynb\" target=\"_parent\"><img src=\"https://colab.research.google.com/assets/colab-badge.svg\" alt=\"Open In Colab\"/></a>"
      ]
    },
    {
      "cell_type": "code",
      "execution_count": 6,
      "metadata": {
        "id": "fzV9SzSEi-Yu"
      },
      "outputs": [],
      "source": [
        "#백준 4673 셀프 넘버\n",
        "\n",
        "def self_num(n):\n",
        "  num = list(range(1,n+1))\n",
        "  for i in range(1,n+1):\n",
        "    if i < 10:\n",
        "      a = 0\n",
        "      b = i\n",
        "      c = 11*a + 2*b\n",
        "      if c in num:\n",
        "        num.remove(c)\n",
        "      else:\n",
        "        continue\n",
        "    elif 10<= i < 100:\n",
        "      a = i//10\n",
        "      b = i%10\n",
        "      c = 11*a + 2*b\n",
        "      if c in num:\n",
        "        num.remove(c)\n",
        "      else:\n",
        "        continue\n",
        "    elif 100<= i < 1000:\n",
        "      a = i//100\n",
        "      b = (i%100)//10\n",
        "      c = i%10\n",
        "      d = i + a + b + c\n",
        "      if d in num:\n",
        "        num.remove(d)\n",
        "      else:\n",
        "        continue\n",
        "    elif 1000<= i < 10000:\n",
        "      a = i//1000\n",
        "      b = (i%1000) // 100\n",
        "      c = (i%100) // 10\n",
        "      d = i%10\n",
        "      e = i + a + b + c + d\n",
        "      if e in num:\n",
        "        num.remove(e)\n",
        "      else:\n",
        "        continue\n",
        "  for j in num:\n",
        "    print(j)\n",
        "\n",
        "self_num(10000)\n",
        "\n",
        "\n",
        "#-------다른 사람 풀이----------\n",
        "def d(n):\n",
        "    num=n\n",
        "    while n>0:\n",
        "        num+=n%10\n",
        "        n//=10\n",
        "    return num\n",
        "a=[]\n",
        "b=[]\n",
        "for i in range(10000):\n",
        "    a.append(i+1)\n",
        "for i in range(10000):\n",
        "    b.append(d(i+1))\n",
        "c=list(set(a)-set(b))\n",
        "c.sort()\n",
        "for i in c:\n",
        "    print(i)"
      ]
    }
  ]
}