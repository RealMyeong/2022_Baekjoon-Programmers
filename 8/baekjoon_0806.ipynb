{
  "nbformat": 4,
  "nbformat_minor": 0,
  "metadata": {
    "colab": {
      "name": "baekjoon_0806.ipynb",
      "provenance": [],
      "authorship_tag": "ABX9TyNFIFaJtHuOV4bVlDbMVgtC",
      "include_colab_link": true
    },
    "kernelspec": {
      "name": "python3",
      "display_name": "Python 3"
    },
    "language_info": {
      "name": "python"
    }
  },
  "cells": [
    {
      "cell_type": "markdown",
      "metadata": {
        "id": "view-in-github",
        "colab_type": "text"
      },
      "source": [
        "<a href=\"https://colab.research.google.com/github/RealMyeong/python3-study/blob/main/baekjoon_0806.ipynb\" target=\"_parent\"><img src=\"https://colab.research.google.com/assets/colab-badge.svg\" alt=\"Open In Colab\"/></a>"
      ]
    },
    {
      "cell_type": "code",
      "execution_count": 16,
      "metadata": {
        "colab": {
          "base_uri": "https://localhost:8080/"
        },
        "id": "ryfl7QjQ42jX",
        "outputId": "9fddf855-c1a3-4b9b-8645-38a439e6772d"
      },
      "outputs": [
        {
          "output_type": "stream",
          "name": "stdout",
          "text": [
            "1\n",
            "4\n",
            "3 4.3\n",
            "2 2.0\n",
            "4 0.0\n",
            "2 4.0\n",
            "11 2.26\n"
          ]
        }
      ],
      "source": [
        "#백준 10984 내 학점을 구해줘\n",
        "T = int(input())\n",
        "for i in range(T):\n",
        "  credit = []\n",
        "  score = []\n",
        "  N = int(input())\n",
        "  for j in range(N):\n",
        "    c, g = map(float, input().split())\n",
        "    credit.append(int(c))\n",
        "    score.append(g*c)\n",
        "  gpa = sum(score) / sum(credit)\n",
        "  # print('%d %.2f'%(sum(credit),round(gpa,2))) \n",
        "  print(f'{sum(credit)} {round(gpa,2):.2f}') #f-string 이용"
      ]
    }
  ]
}
