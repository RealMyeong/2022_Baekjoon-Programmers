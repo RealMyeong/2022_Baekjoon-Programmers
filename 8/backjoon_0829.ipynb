{
  "nbformat": 4,
  "nbformat_minor": 0,
  "metadata": {
    "colab": {
      "name": "backjoon_0829.ipynb",
      "provenance": [],
      "authorship_tag": "ABX9TyNF7GqtFhEc0uC9xFlrcl7p",
      "include_colab_link": true
    },
    "kernelspec": {
      "name": "python3",
      "display_name": "Python 3"
    },
    "language_info": {
      "name": "python"
    }
  },
  "cells": [
    {
      "cell_type": "markdown",
      "metadata": {
        "id": "view-in-github",
        "colab_type": "text"
      },
      "source": [
        "<a href=\"https://colab.research.google.com/github/RealMyeong/python3-study/blob/main/8/backjoon_0829.ipynb\" target=\"_parent\"><img src=\"https://colab.research.google.com/assets/colab-badge.svg\" alt=\"Open In Colab\"/></a>"
      ]
    },
    {
      "cell_type": "code",
      "execution_count": 9,
      "metadata": {
        "colab": {
          "base_uri": "https://localhost:8080/"
        },
        "id": "fwtOvnKbhW0e",
        "outputId": "13c2c4b2-0c3a-424a-ed0c-06b8ef92f150"
      },
      "outputs": [
        {
          "output_type": "stream",
          "name": "stdout",
          "text": [
            "6\n",
            "a\n",
            "aa\n",
            "ab\n",
            "ba\n",
            "aba\n",
            "bb\n",
            "5\n"
          ]
        }
      ],
      "source": [
        "#백준 1316 그룹 단어 체커\n",
        "import sys\n",
        "from collections import Counter\n",
        "\n",
        "N = int(sys.stdin.readline())\n",
        "# N = int(input())\n",
        "word_list = []\n",
        "for i in range(N):\n",
        "  word = sys.stdin.readline().strip()\n",
        "  # word = input()\n",
        "  word_list.append(word)\n",
        "group = 0\n",
        "for i in range(N):\n",
        "  if len(word_list[i]) == 1:\n",
        "    group += 1\n",
        "  else:\n",
        "    word_alpha = Counter(word_list[i])\n",
        "    checker = 1\n",
        "    check_word = word_list[i]\n",
        "    for j in range(len(check_word)-1):\n",
        "      if check_word[j] == check_word[j+1] :\n",
        "        checker == checker\n",
        "      else:\n",
        "        checker += 1\n",
        "    if len(word_alpha) == checker :\n",
        "      group += 1\n",
        "print(group)"
      ]
    }
  ]
}