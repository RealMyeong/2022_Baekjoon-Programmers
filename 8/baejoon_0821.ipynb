{
  "nbformat": 4,
  "nbformat_minor": 0,
  "metadata": {
    "colab": {
      "name": "baejoon_0821.ipynb",
      "provenance": [],
      "authorship_tag": "ABX9TyO3RHuu2KuPE/r6HEdK9e78",
      "include_colab_link": true
    },
    "kernelspec": {
      "name": "python3",
      "display_name": "Python 3"
    },
    "language_info": {
      "name": "python"
    }
  },
  "cells": [
    {
      "cell_type": "markdown",
      "metadata": {
        "id": "view-in-github",
        "colab_type": "text"
      },
      "source": [
        "<a href=\"https://colab.research.google.com/github/RealMyeong/python3-study/blob/main/8/baejoon_0821.ipynb\" target=\"_parent\"><img src=\"https://colab.research.google.com/assets/colab-badge.svg\" alt=\"Open In Colab\"/></a>"
      ]
    },
    {
      "cell_type": "code",
      "execution_count": null,
      "metadata": {
        "id": "VnpOJuN0EUr9"
      },
      "outputs": [],
      "source": [
        "#백준 3052 나머지\n",
        "import sys\n",
        "a=[]\n",
        "for _ in range(10):\n",
        "  num = int(sys.stdin.readline())\n",
        "  rest = num % 42\n",
        "  a.append(rest)\n",
        "b = set(a)\n",
        "print(len(b))"
      ]
    },
    {
      "cell_type": "code",
      "source": [
        "#백준 4344 평균은 넘겠지\n",
        "import sys\n",
        "C = int(sys.stdin.readline())\n",
        "for _ in range(C):\n",
        "  a = list(map(int, sys.stdin.readline().split()))\n",
        "  num = a[0]\n",
        "  score = sum(a[1:])\n",
        "  mean = score / num\n",
        "  b = [x for x in a[1:] if x > mean]\n",
        "  print(f'{len(b)/a[0]*100:.3f}%')\n"
      ],
      "metadata": {
        "id": "moz1nWwDFdhq"
      },
      "execution_count": null,
      "outputs": []
    }
  ]
}