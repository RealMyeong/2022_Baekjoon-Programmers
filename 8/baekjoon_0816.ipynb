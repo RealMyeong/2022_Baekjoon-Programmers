{
  "nbformat": 4,
  "nbformat_minor": 0,
  "metadata": {
    "colab": {
      "name": "baekjoon_0816.ipynb",
      "provenance": [],
      "authorship_tag": "ABX9TyO6+Qx7abHSjXUrDMcr9A9F",
      "include_colab_link": true
    },
    "kernelspec": {
      "name": "python3",
      "display_name": "Python 3"
    },
    "language_info": {
      "name": "python"
    }
  },
  "cells": [
    {
      "cell_type": "markdown",
      "metadata": {
        "id": "view-in-github",
        "colab_type": "text"
      },
      "source": [
        "<a href=\"https://colab.research.google.com/github/RealMyeong/python3-study/blob/main/8/baekjoon_0816.ipynb\" target=\"_parent\"><img src=\"https://colab.research.google.com/assets/colab-badge.svg\" alt=\"Open In Colab\"/></a>"
      ]
    },
    {
      "cell_type": "code",
      "execution_count": 5,
      "metadata": {
        "colab": {
          "base_uri": "https://localhost:8080/"
        },
        "id": "inMAjUynAmxF",
        "outputId": "a553350b-3497-451b-eaea-ec0d98b6bb72"
      },
      "outputs": [
        {
          "output_type": "stream",
          "name": "stdout",
          "text": [
            "1 1\n",
            "1\n"
          ]
        }
      ],
      "source": [
        "#백준 2501 약수 구하기\n",
        "n, k = map(int, input().split())\n",
        "num = []\n",
        "for i in range(1, n+1):\n",
        "  if n%i == 0:\n",
        "    num.append(i)\n",
        "if len(num) < k:\n",
        "  print(0)\n",
        "else:\n",
        "  print(num[k-1])"
      ]
    },
    {
      "cell_type": "code",
      "source": [
        "import sys\n",
        "num = []\n",
        "for i in range(9):\n",
        "  a = int(sys.stdin.readline())\n",
        "  num.append(a)\n",
        "print(max(num))\n",
        "print(num.index(max(num))+1)"
      ],
      "metadata": {
        "colab": {
          "base_uri": "https://localhost:8080/"
        },
        "id": "SM1BrJqhB7-1",
        "outputId": "1c6eef73-9cd3-4039-b1ff-4ae31be8b5e4"
      },
      "execution_count": 6,
      "outputs": [
        {
          "output_type": "execute_result",
          "data": {
            "text/plain": [
              "4"
            ]
          },
          "metadata": {},
          "execution_count": 6
        }
      ]
    }
  ]
}