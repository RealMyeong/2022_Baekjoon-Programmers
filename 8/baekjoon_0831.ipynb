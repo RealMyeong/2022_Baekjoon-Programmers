{
  "nbformat": 4,
  "nbformat_minor": 0,
  "metadata": {
    "colab": {
      "name": "baekjoon_0831.ipynb",
      "provenance": [],
      "collapsed_sections": [],
      "authorship_tag": "ABX9TyOOV11oX6kWucHoLsX1jKdw",
      "include_colab_link": true
    },
    "kernelspec": {
      "name": "python3",
      "display_name": "Python 3"
    },
    "language_info": {
      "name": "python"
    }
  },
  "cells": [
    {
      "cell_type": "markdown",
      "metadata": {
        "id": "view-in-github",
        "colab_type": "text"
      },
      "source": [
        "<a href=\"https://colab.research.google.com/github/RealMyeong/python3-study/blob/main/8/baekjoon_0831.ipynb\" target=\"_parent\"><img src=\"https://colab.research.google.com/assets/colab-badge.svg\" alt=\"Open In Colab\"/></a>"
      ]
    },
    {
      "cell_type": "markdown",
      "source": [
        "틀린 풀이"
      ],
      "metadata": {
        "id": "0v_L6WJOD0yn"
      }
    },
    {
      "cell_type": "code",
      "execution_count": 28,
      "metadata": {
        "colab": {
          "base_uri": "https://localhost:8080/"
        },
        "id": "Ny5isZSt5iyV",
        "outputId": "2e088fd1-32cb-4612-eea3-1378743a228c"
      },
      "outputs": [
        {
          "output_type": "stream",
          "name": "stdout",
          "text": [
            "5 1 90\n",
            "23\n"
          ]
        }
      ],
      "source": [
        "# 2869번 달팽이는 올라가고 싶다\n",
        "a, b, v = map(int, input().split())\n",
        "if a==b and b==v:\n",
        "  print(1)\n",
        "else:\n",
        "  h_per_day = a - b\n",
        "  d_1_h = v - a\n",
        "  if d_1_h <= a:\n",
        "    print(v // h_per_day + 1)\n",
        "  else:\n",
        "    day = (d_1_h // h_per_day)\n",
        "    rest_h = d_1_h % h_per_day\n",
        "    if rest_h == 0:\n",
        "      print(day+1)\n",
        "    else:\n",
        "      z = (rest_h + a)//h_per_day +1\n",
        "      day += z\n",
        "      print(day)"
      ]
    },
    {
      "cell_type": "markdown",
      "source": [
        "맞는 풀이(다른 사람 답 참조)"
      ],
      "metadata": {
        "id": "deVCdqN9DzHV"
      }
    },
    {
      "cell_type": "code",
      "source": [
        "import math\n",
        "a, b, v = map(int, input().split())\n",
        "if a==b==v:\n",
        "  print(1)\n",
        "else:\n",
        "  day = (v-b) / (a-b)\n",
        "  print(math.ceil(day))"
      ],
      "metadata": {
        "colab": {
          "base_uri": "https://localhost:8080/"
        },
        "id": "fvRUVRIcD4_e",
        "outputId": "5c73fd0b-bcf4-4958-ad6b-facb6f2cf52c"
      },
      "execution_count": 30,
      "outputs": [
        {
          "output_type": "stream",
          "name": "stdout",
          "text": [
            "1 1 1\n",
            "1\n"
          ]
        }
      ]
    }
  ]
}