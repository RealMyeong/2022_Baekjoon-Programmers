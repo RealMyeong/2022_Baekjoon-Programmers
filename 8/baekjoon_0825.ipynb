{
  "nbformat": 4,
  "nbformat_minor": 0,
  "metadata": {
    "colab": {
      "name": "baekjoon_0825.ipynb",
      "provenance": [],
      "authorship_tag": "ABX9TyN5l+DE4CdNvTKPQSzs16vB",
      "include_colab_link": true
    },
    "kernelspec": {
      "name": "python3",
      "display_name": "Python 3"
    },
    "language_info": {
      "name": "python"
    }
  },
  "cells": [
    {
      "cell_type": "markdown",
      "metadata": {
        "id": "view-in-github",
        "colab_type": "text"
      },
      "source": [
        "<a href=\"https://colab.research.google.com/github/RealMyeong/python3-study/blob/main/8/baekjoon_0825.ipynb\" target=\"_parent\"><img src=\"https://colab.research.google.com/assets/colab-badge.svg\" alt=\"Open In Colab\"/></a>"
      ]
    },
    {
      "cell_type": "code",
      "execution_count": 21,
      "metadata": {
        "colab": {
          "base_uri": "https://localhost:8080/"
        },
        "id": "dW0tM2Z8-cWf",
        "outputId": "0308faa5-80ed-46fb-c816-0bf754b45ff2"
      },
      "outputs": [
        {
          "output_type": "stream",
          "name": "stdout",
          "text": [
            "a\n",
            "A\n"
          ]
        }
      ],
      "source": [
        "# 백준 1157 단어 공부\n",
        "from collections import Counter\n",
        "s = input()\n",
        "lower_s = s.lower()\n",
        "b = Counter(lower_s)\n",
        "c = b.most_common()\n",
        "if len(b) != 1:\n",
        "  if c[0][1] == c[1][1]:\n",
        "   print('?')\n",
        "  else:\n",
        "    print((c[0][0]).upper())\n",
        "else:\n",
        "  print(s.upper())\n"
      ]
    }
  ]
}