{
  "nbformat": 4,
  "nbformat_minor": 0,
  "metadata": {
    "colab": {
      "name": "baekjoon_0824.ipynb",
      "provenance": [],
      "authorship_tag": "ABX9TyO/OEyQXNvERgBEKMFgJl2u",
      "include_colab_link": true
    },
    "kernelspec": {
      "name": "python3",
      "display_name": "Python 3"
    },
    "language_info": {
      "name": "python"
    }
  },
  "cells": [
    {
      "cell_type": "markdown",
      "metadata": {
        "id": "view-in-github",
        "colab_type": "text"
      },
      "source": [
        "<a href=\"https://colab.research.google.com/github/RealMyeong/python3-study/blob/main/8/baekjoon_0824.ipynb\" target=\"_parent\"><img src=\"https://colab.research.google.com/assets/colab-badge.svg\" alt=\"Open In Colab\"/></a>"
      ]
    },
    {
      "cell_type": "code",
      "execution_count": 1,
      "metadata": {
        "colab": {
          "base_uri": "https://localhost:8080/"
        },
        "id": "WPEP7KOj645x",
        "outputId": "b50e3e45-da7b-4172-bcc5-ec6a92c23cdd"
      },
      "outputs": [
        {
          "output_type": "stream",
          "name": "stdout",
          "text": [
            "0\n",
            "48\n"
          ]
        }
      ],
      "source": [
        "# 백준 11654 아스키코드\n",
        "a = input()\n",
        "print(ord(a))"
      ]
    },
    {
      "cell_type": "code",
      "source": [
        "#백준 11720 숫자의 합\n",
        "N = int(input())\n",
        "a = list(input())\n",
        "sum = 0\n",
        "for i in a:\n",
        "  sum += int(i)\n",
        "print(sum)"
      ],
      "metadata": {
        "colab": {
          "base_uri": "https://localhost:8080/"
        },
        "id": "4V-BVaBb_HoL",
        "outputId": "5e854a24-ea07-4fc5-83d8-3ec01b74417a"
      },
      "execution_count": 6,
      "outputs": [
        {
          "output_type": "stream",
          "name": "stdout",
          "text": [
            "11\n",
            "10987654321\n",
            "46\n"
          ]
        }
      ]
    },
    {
      "cell_type": "code",
      "source": [
        "# 백준 10890 알파벳 찾기\n",
        "alpha = ['a','b','c','d','e','f','g','h','i','j','k','l','m','n','o','p','q','r','s','t','u','v','w','x','y','z']\n",
        "x = [-1]*26\n",
        "word = list(input())\n",
        "for index, letter in enumerate(word):\n",
        "  if letter in alpha and x[alpha.index(letter)] == -1:\n",
        "    x[alpha.index(letter)] = index\n",
        "for i in x:\n",
        "  print(i, end=' ')\n",
        "\n",
        "\n",
        "#-----다른 사람 풀이-------\n",
        "string=input()\n",
        "i=ord(\"a\")\n",
        "j=ord(\"z\")\n",
        "for k in range(i,j+1):\n",
        "    print(string.find(chr(k)),end=\" \")"
      ],
      "metadata": {
        "colab": {
          "base_uri": "https://localhost:8080/"
        },
        "id": "pdkPVOVP_YJm",
        "outputId": "d5dff415-a16c-4bb4-8026-0d1c93113918"
      },
      "execution_count": 23,
      "outputs": [
        {
          "output_type": "stream",
          "name": "stdout",
          "text": [
            "baekjoon\n",
            "1 0 -1 -1 2 -1 -1 -1 -1 4 3 -1 -1 7 5 -1 -1 -1 -1 -1 -1 -1 -1 -1 -1 -1 "
          ]
        }
      ]
    }
  ]
}