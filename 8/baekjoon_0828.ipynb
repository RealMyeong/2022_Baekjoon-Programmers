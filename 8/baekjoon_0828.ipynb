{
  "nbformat": 4,
  "nbformat_minor": 0,
  "metadata": {
    "colab": {
      "name": "baekjoon_0828.ipynb",
      "provenance": [],
      "authorship_tag": "ABX9TyMgK3j4SQl6/DpEtV+sKwhR",
      "include_colab_link": true
    },
    "kernelspec": {
      "name": "python3",
      "display_name": "Python 3"
    },
    "language_info": {
      "name": "python"
    }
  },
  "cells": [
    {
      "cell_type": "markdown",
      "metadata": {
        "id": "view-in-github",
        "colab_type": "text"
      },
      "source": [
        "<a href=\"https://colab.research.google.com/github/RealMyeong/python3-study/blob/main/8/baekjoon_0828.ipynb\" target=\"_parent\"><img src=\"https://colab.research.google.com/assets/colab-badge.svg\" alt=\"Open In Colab\"/></a>"
      ]
    },
    {
      "cell_type": "code",
      "execution_count": 7,
      "metadata": {
        "colab": {
          "base_uri": "https://localhost:8080/"
        },
        "id": "jTComtu7O2WQ",
        "outputId": "25c256ae-a13a-419e-df2d-d3728860e352"
      },
      "outputs": [
        {
          "output_type": "stream",
          "name": "stdout",
          "text": [
            "2100000000 9 10\n",
            "2100000001\n"
          ]
        }
      ],
      "source": [
        "#백준 1712 손익분기점\n",
        "a, b, c = map(int, input().split())\n",
        "if b >= c:\n",
        "  print(-1)\n",
        "else:\n",
        "  d = c-b\n",
        "  print(a//d + 1)"
      ]
    }
  ]
}