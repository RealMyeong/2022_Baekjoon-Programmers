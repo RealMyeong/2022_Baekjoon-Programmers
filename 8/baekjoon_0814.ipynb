{
  "nbformat": 4,
  "nbformat_minor": 0,
  "metadata": {
    "colab": {
      "name": "baekjoon_0814.ipynb",
      "provenance": [],
      "authorship_tag": "ABX9TyNNTu+NKQtnloshp3JBtj0G",
      "include_colab_link": true
    },
    "kernelspec": {
      "name": "python3",
      "display_name": "Python 3"
    },
    "language_info": {
      "name": "python"
    }
  },
  "cells": [
    {
      "cell_type": "markdown",
      "metadata": {
        "id": "view-in-github",
        "colab_type": "text"
      },
      "source": [
        "<a href=\"https://colab.research.google.com/github/RealMyeong/python3-study/blob/main/8/baekjoon_0814.ipynb\" target=\"_parent\"><img src=\"https://colab.research.google.com/assets/colab-badge.svg\" alt=\"Open In Colab\"/></a>"
      ]
    },
    {
      "cell_type": "code",
      "execution_count": null,
      "metadata": {
        "colab": {
          "base_uri": "https://localhost:8080/"
        },
        "id": "jRC7klOq0bx0",
        "outputId": "1bb1cbea-7592-4d73-9d1e-700699d7b4f5"
      },
      "outputs": [
        {
          "output_type": "stream",
          "name": "stdout",
          "text": [
            "10\n",
            "3628800\n"
          ]
        }
      ],
      "source": [
        "#백준 10872 팩토리얼\n",
        "N = int(input())\n",
        "a=[1]*20\n",
        "for i in range(1,N+1):\n",
        "  a[i] = a[i-1]*i\n",
        "\n",
        "print(a[N])"
      ]
    },
    {
      "cell_type": "code",
      "source": [
        "#백준 1978 소수 찾기\n",
        "N=int(input())\n",
        "num = list(map(int, input().split()))\n",
        "#한 번 정렬해줌\n",
        "num = sorted(num)\n",
        "# 1은 소수가 아니기 때문에 삭제\n",
        "for _ in range(N):\n",
        "  if 1 in num:\n",
        "    num.remove(1)\n",
        "# num리스트에 원소가 하나 이상 있을때만 실행\n",
        "if len(num) != 0:\n",
        "  i = 2\n",
        "  while i <= max(num):\n",
        "    prime = i\n",
        "    j = i + 1\n",
        "    while j <= max(num)+1:\n",
        "      # j가 prime으로 나누어 떨어지면서 num리스트 안에 있으면 삭제\n",
        "      if j % prime == 0 and j in num:\n",
        "        num.remove(j)\n",
        "      else:\n",
        "        j += 1\n",
        "    i += 1\n",
        "print(len(num))\n",
        "\n",
        "#런타임 에러남 왜 에러나는지 도저히 모르겠음....ㅜ.ㅜ\n",
        "\n",
        "\n",
        "\n",
        "\n",
        "#------다른 사람 답 보고 제출-----\n",
        "\n",
        "n = int(input())\n",
        "numbers = map(int, input().split())\n",
        "sosu = 0\n",
        "for num in numbers:\n",
        "    error = 0\n",
        "    if num > 1 :\n",
        "        for i in range(2, num):  # 2부터 n-1까지\n",
        "            if num % i == 0:\n",
        "                error += 1  # 2부터 n-1까지 나눈 몫이 0이면 error가 증가\n",
        "        if error == 0:\n",
        "            sosu += 1  # error가 없으면 소수.\n",
        "print(sosu)"
      ],
      "metadata": {
        "colab": {
          "base_uri": "https://localhost:8080/"
        },
        "id": "iWUgBnSx1n0u",
        "outputId": "b8c3ee42-6673-4e18-d22b-cf9f724e2aa5"
      },
      "execution_count": 6,
      "outputs": [
        {
          "output_type": "stream",
          "name": "stdout",
          "text": [
            "5\n",
            "1 2 3 4 5\n",
            "3\n"
          ]
        }
      ]
    }
  ]
}