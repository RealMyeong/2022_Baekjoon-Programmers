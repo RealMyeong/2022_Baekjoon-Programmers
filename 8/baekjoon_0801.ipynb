{
  "nbformat": 4,
  "nbformat_minor": 0,
  "metadata": {
    "colab": {
      "name": "baekjoon_0801.ipynb",
      "provenance": [],
      "authorship_tag": "ABX9TyMkvTE3QN+0/xPl3vyc2mA8",
      "include_colab_link": true
    },
    "kernelspec": {
      "name": "python3",
      "display_name": "Python 3"
    },
    "language_info": {
      "name": "python"
    },
    "gpuClass": "standard"
  },
  "cells": [
    {
      "cell_type": "markdown",
      "metadata": {
        "id": "view-in-github",
        "colab_type": "text"
      },
      "source": [
        "<a href=\"https://colab.research.google.com/github/RealMyeong/python3-study/blob/main/baekjoon_0801.ipynb\" target=\"_parent\"><img src=\"https://colab.research.google.com/assets/colab-badge.svg\" alt=\"Open In Colab\"/></a>"
      ]
    },
    {
      "cell_type": "code",
      "execution_count": 78,
      "metadata": {
        "colab": {
          "base_uri": "https://localhost:8080/"
        },
        "id": "m0caHcvPHfvv",
        "outputId": "55c33874-5b4b-466e-82b6-9cdf180695d9"
      },
      "outputs": [
        {
          "output_type": "stream",
          "name": "stdout",
          "text": [
            "60\n",
            "100\n",
            "245\n",
            "64\n"
          ]
        }
      ],
      "source": [
        "#백준 1977 완전제곱수\n",
        "M=int(input())\n",
        "N=int(input())\n",
        "import math as m\n",
        "m_root = m.sqrt(M)\n",
        "n_root = m.sqrt(N)\n",
        "num = []\n",
        "if  (0< n_root - m_root < 1) and (int(m_root)**2 != M):\n",
        "  print(-1)\n",
        "elif n_root - m_root == 0 :\n",
        "  if int(m_root) ** 2 == M:\n",
        "    print(M)\n",
        "    print(M)\n",
        "  else:\n",
        "    print(-1)\n",
        "else:\n",
        "  i = m.ceil(m_root)\n",
        "  while (m_root)<=i<=m.ceil(n_root)-1:\n",
        "    num.append(i**2)\n",
        "    i += 1\n",
        "  if int(n_root)**2 == N:\n",
        "    num.append(N)\n",
        "  print(sum(num))\n",
        "  print(min(num))"
      ]
    }
  ]
}
