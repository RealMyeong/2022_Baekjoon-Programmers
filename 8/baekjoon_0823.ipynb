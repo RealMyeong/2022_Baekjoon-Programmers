{
  "nbformat": 4,
  "nbformat_minor": 0,
  "metadata": {
    "colab": {
      "name": "baekjoon_0823.ipynb",
      "provenance": [],
      "authorship_tag": "ABX9TyNKDEswBEHqh+UilhcxU5g6",
      "include_colab_link": true
    },
    "kernelspec": {
      "name": "python3",
      "display_name": "Python 3"
    },
    "language_info": {
      "name": "python"
    }
  },
  "cells": [
    {
      "cell_type": "markdown",
      "metadata": {
        "id": "view-in-github",
        "colab_type": "text"
      },
      "source": [
        "<a href=\"https://colab.research.google.com/github/RealMyeong/python3-study/blob/main/8/baekjoon_0823.ipynb\" target=\"_parent\"><img src=\"https://colab.research.google.com/assets/colab-badge.svg\" alt=\"Open In Colab\"/></a>"
      ]
    },
    {
      "cell_type": "code",
      "source": [
        "# 백준 1065 한수\n",
        "\n",
        "def hansu(n):\n",
        "  a = []\n",
        "  while n > 0:\n",
        "    a.append(n%10)\n",
        "    n = n//10\n",
        "  return a\n",
        "\n",
        "def hansu_count(N):\n",
        "  count = 0\n",
        "  for i in range(1,N+1):\n",
        "    if 1<= i < 100:\n",
        "      count +=1\n",
        "    else:\n",
        "      a = hansu(i)\n",
        "      b=[]\n",
        "      j=0\n",
        "      while j < len(a)-1:\n",
        "        c = a[j] - a[j+1]\n",
        "        b.append(c)\n",
        "        j += 1\n",
        "      d = set(b)\n",
        "      if len(d) == 1:\n",
        "        count += 1\n",
        "  print(count)\n",
        "\n",
        "N = int(input())\n",
        "hansu_count(N)"
      ],
      "metadata": {
        "colab": {
          "base_uri": "https://localhost:8080/"
        },
        "id": "StPcsqV8zpqE",
        "outputId": "9287267f-5767-488a-dbc2-ad8c32f58dde"
      },
      "execution_count": 28,
      "outputs": [
        {
          "output_type": "stream",
          "name": "stdout",
          "text": [
            "2450\n",
            "149\n"
          ]
        }
      ]
    }
  ]
}