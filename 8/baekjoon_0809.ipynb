{
  "nbformat": 4,
  "nbformat_minor": 0,
  "metadata": {
    "colab": {
      "name": "baekjoon_0809.ipynb",
      "provenance": [],
      "authorship_tag": "ABX9TyPJDuBzXy2sGcA7qPi6ZJYe",
      "include_colab_link": true
    },
    "kernelspec": {
      "name": "python3",
      "display_name": "Python 3"
    },
    "language_info": {
      "name": "python"
    }
  },
  "cells": [
    {
      "cell_type": "markdown",
      "metadata": {
        "id": "view-in-github",
        "colab_type": "text"
      },
      "source": [
        "<a href=\"https://colab.research.google.com/github/RealMyeong/python3-study/blob/main/8/baekjoon_0809.ipynb\" target=\"_parent\"><img src=\"https://colab.research.google.com/assets/colab-badge.svg\" alt=\"Open In Colab\"/></a>"
      ]
    },
    {
      "cell_type": "code",
      "execution_count": 8,
      "metadata": {
        "colab": {
          "base_uri": "https://localhost:8080/"
        },
        "id": "KjeKTEbnbvHD",
        "outputId": "4e330ac3-b5ff-48b1-9596-319210195549"
      },
      "outputs": [
        {
          "output_type": "stream",
          "name": "stdout",
          "text": [
            "3\n",
            "1\n",
            "1\n",
            "1\n",
            "1\n"
          ]
        }
      ],
      "source": [
        "#백준 2010 플러그\n",
        "#시간 초과 뜸\n",
        "N=int(input())\n",
        "p = 0\n",
        "for i in range(N):\n",
        "  a = int(input())\n",
        "  p += a\n",
        "print(p-N+1)\n",
        "\n",
        "#얘도 시간초과\n",
        "N = int(input())\n",
        "p = [0]*500000\n",
        "for i in range(N):\n",
        "  a = int(input())\n",
        "  p[i] = a\n",
        "\n",
        "print(sum(p)-N+1)\n",
        "\n",
        "#------답---------\n",
        "#반복문으로 입력 받을 때 input으로하면 시간초과 뜸\n",
        "import sys\n",
        "n = int(sys.stdin.readline())\n",
        "sum = 0\n",
        "for i in range(n):\n",
        "    sum += int(sys.stdin.readline())\n",
        "print(sum - (n - 1))"
      ]
    }
  ]
}