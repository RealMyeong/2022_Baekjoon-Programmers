{
  "nbformat": 4,
  "nbformat_minor": 0,
  "metadata": {
    "colab": {
      "name": "baekjoon_0813.ipynb",
      "provenance": [],
      "authorship_tag": "ABX9TyNB0FEWsxezRdfBDercPO6p",
      "include_colab_link": true
    },
    "kernelspec": {
      "name": "python3",
      "display_name": "Python 3"
    },
    "language_info": {
      "name": "python"
    }
  },
  "cells": [
    {
      "cell_type": "markdown",
      "metadata": {
        "id": "view-in-github",
        "colab_type": "text"
      },
      "source": [
        "<a href=\"https://colab.research.google.com/github/RealMyeong/python3-study/blob/main/8/baekjoon_0813.ipynb\" target=\"_parent\"><img src=\"https://colab.research.google.com/assets/colab-badge.svg\" alt=\"Open In Colab\"/></a>"
      ]
    },
    {
      "cell_type": "code",
      "execution_count": 29,
      "metadata": {
        "colab": {
          "base_uri": "https://localhost:8080/"
        },
        "id": "Eond3CC3poqj",
        "outputId": "7205636e-e892-4f53-9827-78242822323c"
      },
      "outputs": [
        {
          "output_type": "stream",
          "name": "stdout",
          "text": [
            "5\n",
            "    *\n",
            "   * *\n",
            "  * * *\n",
            " * * * *\n",
            "* * * * *\n"
          ]
        }
      ],
      "source": [
        "#백준 10991 별 찍기 - 16\n",
        "N = int(input())\n",
        "for i in range(1,N+1):\n",
        "  s = ' '*(N-i)\n",
        "  for j in range(1,2*i):\n",
        "    if j % 2 != 0:\n",
        "      s += '*'\n",
        "    else:\n",
        "      s += ' '\n",
        "  print(s)\n"
      ]
    },
    {
      "cell_type": "code",
      "source": [
        "#백준 10871 X보다 작은 수\n",
        "n, x = map(int, input().split())\n",
        "a = list(map(int, input().split()))\n",
        "for index, val in enumerate(a):\n",
        "  if val < x:\n",
        "    print(a[index], end=' ')\n",
        "\n",
        "\n",
        "# 굳이 index를 저장할 필요가 없음.\n",
        "n, x = map(int, input().split())\n",
        "a = list(map(int, input().split()))\n",
        "for _, val in enumerate(a):\n",
        "  if val < x:\n",
        "    print(val, end=' ')\n",
        "\n",
        "# 다른 풀이\n",
        "n, x = map(int, input().split())\n",
        "a = list(map(int, input().split()))\n",
        "b = [str(val) for _, val in enumerate(a) if val < x]\n",
        "print(' '.join(b))"
      ],
      "metadata": {
        "colab": {
          "base_uri": "https://localhost:8080/"
        },
        "id": "6WmMEo1IuHok",
        "outputId": "4d26d703-d528-49e4-8753-a37d8668d29a"
      },
      "execution_count": 36,
      "outputs": [
        {
          "output_type": "stream",
          "name": "stdout",
          "text": [
            "10 5\n",
            "1 10 4 9 2 3 8 5 7 6\n",
            "1 4 2 3\n"
          ]
        }
      ]
    }
  ]
}