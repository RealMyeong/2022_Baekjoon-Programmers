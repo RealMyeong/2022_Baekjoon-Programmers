{
  "nbformat": 4,
  "nbformat_minor": 0,
  "metadata": {
    "colab": {
      "name": "baekjoon_0810.ipynb",
      "provenance": [],
      "authorship_tag": "ABX9TyMmE5ENvzMSFpEHSbz5slKW",
      "include_colab_link": true
    },
    "kernelspec": {
      "name": "python3",
      "display_name": "Python 3"
    },
    "language_info": {
      "name": "python"
    }
  },
  "cells": [
    {
      "cell_type": "markdown",
      "metadata": {
        "id": "view-in-github",
        "colab_type": "text"
      },
      "source": [
        "<a href=\"https://colab.research.google.com/github/RealMyeong/python3-study/blob/main/8/baekjoon_0810.ipynb\" target=\"_parent\"><img src=\"https://colab.research.google.com/assets/colab-badge.svg\" alt=\"Open In Colab\"/></a>"
      ]
    },
    {
      "cell_type": "code",
      "execution_count": 3,
      "metadata": {
        "colab": {
          "base_uri": "https://localhost:8080/",
          "height": 241
        },
        "id": "kD01ZRt9rwQY",
        "outputId": "9e41dd11-b9d3-47f4-d688-7e9c9ccd1c31"
      },
      "outputs": [
        {
          "output_type": "error",
          "ename": "ValueError",
          "evalue": "ignored",
          "traceback": [
            "\u001b[0;31m---------------------------------------------------------------------------\u001b[0m",
            "\u001b[0;31mValueError\u001b[0m                                Traceback (most recent call last)",
            "\u001b[0;32m<ipython-input-3-fe8ac5728a02>\u001b[0m in \u001b[0;36m<module>\u001b[0;34m()\u001b[0m\n\u001b[1;32m      3\u001b[0m \u001b[0mscore\u001b[0m\u001b[0;34m=\u001b[0m\u001b[0;36m0\u001b[0m\u001b[0;34m\u001b[0m\u001b[0;34m\u001b[0m\u001b[0m\n\u001b[1;32m      4\u001b[0m \u001b[0;32mfor\u001b[0m \u001b[0mi\u001b[0m \u001b[0;32min\u001b[0m \u001b[0mrange\u001b[0m\u001b[0;34m(\u001b[0m\u001b[0;36m5\u001b[0m\u001b[0;34m)\u001b[0m\u001b[0;34m:\u001b[0m\u001b[0;34m\u001b[0m\u001b[0;34m\u001b[0m\u001b[0m\n\u001b[0;32m----> 5\u001b[0;31m   \u001b[0mscore\u001b[0m \u001b[0;34m+=\u001b[0m \u001b[0mint\u001b[0m\u001b[0;34m(\u001b[0m\u001b[0msys\u001b[0m\u001b[0;34m.\u001b[0m\u001b[0mstdin\u001b[0m\u001b[0;34m.\u001b[0m\u001b[0mreadline\u001b[0m\u001b[0;34m(\u001b[0m\u001b[0;34m)\u001b[0m\u001b[0;34m)\u001b[0m\u001b[0;34m\u001b[0m\u001b[0;34m\u001b[0m\u001b[0m\n\u001b[0m\u001b[1;32m      6\u001b[0m \u001b[0;34m\u001b[0m\u001b[0m\n\u001b[1;32m      7\u001b[0m \u001b[0mprint\u001b[0m\u001b[0;34m(\u001b[0m\u001b[0mscore\u001b[0m\u001b[0;34m)\u001b[0m\u001b[0;34m\u001b[0m\u001b[0;34m\u001b[0m\u001b[0m\n",
            "\u001b[0;31mValueError\u001b[0m: invalid literal for int() with base 10: ''"
          ]
        }
      ],
      "source": [
        "#백준 5522 카드게임\n",
        "import sys\n",
        "score=0\n",
        "for i in range(5):\n",
        "  score += int(sys.stdin.readline())\n",
        "\n",
        "print(score)\n",
        "\n",
        "\n",
        "''' \n",
        "코랩에서 sys.stdin.readline() 실행하면 오류납니다.\n",
        "그래도 다른걸로 실행하면 실행 잘 되니까 걱정 ㄴ\n",
        "'''"
      ]
    },
    {
      "cell_type": "code",
      "source": [
        "#백준 10178 할로윈의 사탕\n",
        "import sys\n",
        "T = int(input())\n",
        "for i in range(T):\n",
        "  #sys.stdin.readline() 으로 입력받은 문자열은 자동적으로 문자열 시작, 끝 부분에 개행문자(\\n)들어감\n",
        "  #int()로 받으면 개행문자 사라짐\n",
        "  #아니면 .strip()으로 개행문자 날려줄수도 있음\n",
        "  c, v = map(int, sys.stdin.readline().strip().split())\n",
        "  \n",
        "  print(f'You get {c//v} piece(s) and your dad gets {c%v} piece(s).')"
      ],
      "metadata": {
        "id": "3P5oGjdBs4z-"
      },
      "execution_count": 4,
      "outputs": []
    }
  ]
}