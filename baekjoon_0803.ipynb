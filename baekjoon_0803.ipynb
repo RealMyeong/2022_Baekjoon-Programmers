{
  "nbformat": 4,
  "nbformat_minor": 0,
  "metadata": {
    "colab": {
      "name": "baekjoon_0803.ipynb",
      "provenance": [],
      "authorship_tag": "ABX9TyNqhHkjnCM4B8lHJIrPs+2h",
      "include_colab_link": true
    },
    "kernelspec": {
      "name": "python3",
      "display_name": "Python 3"
    },
    "language_info": {
      "name": "python"
    }
  },
  "cells": [
    {
      "cell_type": "markdown",
      "metadata": {
        "id": "view-in-github",
        "colab_type": "text"
      },
      "source": [
        "<a href=\"https://colab.research.google.com/github/RealMyeong/python3-study/blob/main/baekjoon_0803.ipynb\" target=\"_parent\"><img src=\"https://colab.research.google.com/assets/colab-badge.svg\" alt=\"Open In Colab\"/></a>"
      ]
    },
    {
      "cell_type": "code",
      "execution_count": 19,
      "metadata": {
        "colab": {
          "base_uri": "https://localhost:8080/"
        },
        "id": "Wub-8opo3_iB",
        "outputId": "1df4e9a4-40c0-49c2-81b7-9ad90cf28474"
      },
      "outputs": [
        {
          "output_type": "stream",
          "name": "stdout",
          "text": [
            "13:52:30\n",
            "14:00:00\n",
            "00:07:30\n"
          ]
        }
      ],
      "source": [
        "#백준 1408 24\n",
        "from datetime import datetime\n",
        "import time\n",
        "current_time = input()\n",
        "start_time = input()\n",
        "c_t = datetime.strptime(current_time, '%H:%M:%S')\n",
        "s_t = datetime.strptime(start_time, '%H:%M:%S')\n",
        "r_t = str(s_t - c_t)\n",
        "answer = r_t\n",
        "if len(answer) == 8:\n",
        "  print(answer)\n",
        "elif len(answer) == 7:\n",
        "  print('0'+answer)"
      ]
    }
  ]
}