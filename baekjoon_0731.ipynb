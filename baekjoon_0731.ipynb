{
  "nbformat": 4,
  "nbformat_minor": 0,
  "metadata": {
    "colab": {
      "name": "baekjoon_0731.ipynb",
      "provenance": [],
      "authorship_tag": "ABX9TyPOX/MFgAZ0b4cZ+Jct2EFy",
      "include_colab_link": true
    },
    "kernelspec": {
      "name": "python3",
      "display_name": "Python 3"
    },
    "language_info": {
      "name": "python"
    },
    "gpuClass": "standard"
  },
  "cells": [
    {
      "cell_type": "markdown",
      "metadata": {
        "id": "view-in-github",
        "colab_type": "text"
      },
      "source": [
        "<a href=\"https://colab.research.google.com/github/RealMyeong/python3-study/blob/main/baekjoon_0731.ipynb\" target=\"_parent\"><img src=\"https://colab.research.google.com/assets/colab-badge.svg\" alt=\"Open In Colab\"/></a>"
      ]
    },
    {
      "cell_type": "code",
      "execution_count": 2,
      "metadata": {
        "colab": {
          "base_uri": "https://localhost:8080/"
        },
        "id": "GciE4bdiE_OK",
        "outputId": "e5d02685-1a23-45ef-bb7a-a44f28959a5a"
      },
      "outputs": [
        {
          "output_type": "stream",
          "name": "stdout",
          "text": [
            "4\n",
            "5 6\n",
            "6 6\n",
            "4 3\n",
            "5 2\n",
            "94\n",
            "91\n"
          ]
        }
      ],
      "source": [
        "#백준 10103 주사위 게임\n",
        "\n",
        "n = int(input())\n",
        "c_score = j_score = 100\n",
        "for i in range(n):\n",
        "  c_num, j_num = map(int, input().split())\n",
        "  if c_num < j_num:\n",
        "    c_score -= j_num\n",
        "  elif c_num > j_num:\n",
        "    j_score -= c_num\n",
        "  else:\n",
        "    pass\n",
        "print(c_score)\n",
        "print(j_score)"
      ]
    },
    {
      "cell_type": "code",
      "source": [
        "#백준 10214 Baseball\n",
        "\n",
        "T=int(input())\n",
        "for _ in range(T):\n",
        "  y_score=0\n",
        "  k_score=0\n",
        "  for j in range(9):\n",
        "    y, k = map(int, input().split())\n",
        "    y_score += y\n",
        "    k_score += k\n",
        "  if y_score == k_score:\n",
        "    print('Draw')\n",
        "  elif y_score > k_score:\n",
        "    print('Yonsei')\n",
        "  else:\n",
        "    print('Korea')"
      ],
      "metadata": {
        "colab": {
          "base_uri": "https://localhost:8080/"
        },
        "id": "MKYva4yvGrjm",
        "outputId": "62ecd320-5c77-4578-cc5d-afe6b43a1d42"
      },
      "execution_count": 3,
      "outputs": [
        {
          "output_type": "stream",
          "name": "stdout",
          "text": [
            "1\n",
            "1 0\n",
            "0 0\n",
            "0 0\n",
            "0 0\n",
            "0 0\n",
            "0 0\n",
            "0 0\n",
            "0 0\n",
            "0 0\n",
            "Yonsei\n"
          ]
        }
      ]
    },
    {
      "cell_type": "code",
      "source": [
        "#백준 11557 Yangjojang of the Year\n",
        "\n",
        "T = int(input())\n",
        "for i in range(T):\n",
        "  name = []\n",
        "  val = []\n",
        "  N = int(input())\n",
        "  for j in range(N):\n",
        "    n, v = input().split()\n",
        "    name.append(n)\n",
        "    val.append(int(v))\n",
        "  max_index = val.index(max(val))\n",
        "  print(name[max_index])"
      ],
      "metadata": {
        "colab": {
          "base_uri": "https://localhost:8080/"
        },
        "id": "FRqhzj0MIEKu",
        "outputId": "f0f3b556-cb90-4a94-f244-c911d0960f8f"
      },
      "execution_count": 40,
      "outputs": [
        {
          "output_type": "stream",
          "name": "stdout",
          "text": [
            "1\n",
            "3\n",
            "Yonsei 100\n",
            "Korea 10000\n",
            "Ehwa 20\n",
            "Korea\n"
          ]
        }
      ]
    },
    {
      "cell_type": "code",
      "source": [
        "# 백준 10757 큰 수 A+B\n",
        "a, b = map(int, input().split())\n",
        "print(a+b)"
      ],
      "metadata": {
        "colab": {
          "base_uri": "https://localhost:8080/"
        },
        "id": "p7PLXSLxOg7_",
        "outputId": "904b8b29-b605-430d-b4e6-47a6ce7ed0df"
      },
      "execution_count": 42,
      "outputs": [
        {
          "output_type": "stream",
          "name": "stdout",
          "text": [
            "9223372036854775807 9223372036854775808\n",
            "18446744073709551615\n"
          ]
        }
      ]
    }
  ]
}