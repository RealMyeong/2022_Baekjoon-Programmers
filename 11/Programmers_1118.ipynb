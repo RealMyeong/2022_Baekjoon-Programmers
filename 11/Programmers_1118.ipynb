{
  "nbformat": 4,
  "nbformat_minor": 0,
  "metadata": {
    "colab": {
      "provenance": [],
      "authorship_tag": "ABX9TyON9rv4CRCTSecTBxganCGr",
      "include_colab_link": true
    },
    "kernelspec": {
      "name": "python3",
      "display_name": "Python 3"
    },
    "language_info": {
      "name": "python"
    }
  },
  "cells": [
    {
      "cell_type": "markdown",
      "metadata": {
        "id": "view-in-github",
        "colab_type": "text"
      },
      "source": [
        "<a href=\"https://colab.research.google.com/github/RealMyeong/python3-study/blob/main/11/Programmers_1118.ipynb\" target=\"_parent\"><img src=\"https://colab.research.google.com/assets/colab-badge.svg\" alt=\"Open In Colab\"/></a>"
      ]
    },
    {
      "cell_type": "code",
      "execution_count": null,
      "metadata": {
        "id": "MMJIt3Uv95pn"
      },
      "outputs": [],
      "source": [
        "# 영어 끝말잇기\n",
        "\n",
        "def solution(n, words):\n",
        "    answer = []\n",
        "    \n",
        "    for i in words:\n",
        "        if answer == []:\n",
        "            answer.append(i)\n",
        "        elif not i in answer and answer[-1][-1] == i[0]:\n",
        "            answer.append(i)\n",
        "        else:\n",
        "            break\n",
        "            \n",
        "    if len(answer) == len(words):\n",
        "        return [0,0]\n",
        "    else:\n",
        "        return [len(answer)%n+1, len(answer)//n + 1]"
      ]
    }
  ]
}