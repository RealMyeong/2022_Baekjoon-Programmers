{
  "nbformat": 4,
  "nbformat_minor": 0,
  "metadata": {
    "colab": {
      "provenance": [],
      "authorship_tag": "ABX9TyMwHTdnwLRZhLexM6wCGkos",
      "include_colab_link": true
    },
    "kernelspec": {
      "name": "python3",
      "display_name": "Python 3"
    },
    "language_info": {
      "name": "python"
    }
  },
  "cells": [
    {
      "cell_type": "markdown",
      "metadata": {
        "id": "view-in-github",
        "colab_type": "text"
      },
      "source": [
        "<a href=\"https://colab.research.google.com/github/RealMyeong/python3-study/blob/main/11/Programmers_1115.ipynb\" target=\"_parent\"><img src=\"https://colab.research.google.com/assets/colab-badge.svg\" alt=\"Open In Colab\"/></a>"
      ]
    },
    {
      "cell_type": "code",
      "execution_count": null,
      "metadata": {
        "id": "MMJIt3Uv95pn"
      },
      "outputs": [],
      "source": [
        "# 최소 직사각형\n",
        "\n",
        "def solution(sizes):\n",
        "\n",
        "    for i in sizes:\n",
        "\n",
        "        if i[0] < i[1]:\n",
        "            i[0], i[1] = i[1], i[0]\n",
        "\n",
        "    width = max(sizes, key=lambda x : x[0])[0]\n",
        "    height = max(sizes, key=lambda x : x[1])[1]\n",
        "            \n",
        "    answer = width * height\n",
        "    return answer"
      ]
    }
  ]
}