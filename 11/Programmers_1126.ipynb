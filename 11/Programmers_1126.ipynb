{
  "nbformat": 4,
  "nbformat_minor": 0,
  "metadata": {
    "colab": {
      "provenance": [],
      "authorship_tag": "ABX9TyM2pO9Mxv4SFKVDlRNdg3Yo",
      "include_colab_link": true
    },
    "kernelspec": {
      "name": "python3",
      "display_name": "Python 3"
    },
    "language_info": {
      "name": "python"
    }
  },
  "cells": [
    {
      "cell_type": "markdown",
      "metadata": {
        "id": "view-in-github",
        "colab_type": "text"
      },
      "source": [
        "<a href=\"https://colab.research.google.com/github/RealMyeong/python3-study/blob/main/11/Programmers_1126.ipynb\" target=\"_parent\"><img src=\"https://colab.research.google.com/assets/colab-badge.svg\" alt=\"Open In Colab\"/></a>"
      ]
    },
    {
      "cell_type": "code",
      "execution_count": null,
      "metadata": {
        "id": "MMJIt3Uv95pn"
      },
      "outputs": [],
      "source": [
        "# 점프와 순간이동\n",
        "\n",
        "def solution(n):\n",
        "    ans = 0\n",
        "    \n",
        "    while n>0:\n",
        "        if n % 2 == 0:\n",
        "            n = n//2\n",
        "        else:\n",
        "            n = n//2\n",
        "            ans += 1\n",
        "\n",
        "    return ans\n",
        "        "
      ]
    }
  ]
}