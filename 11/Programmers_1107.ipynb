{
  "nbformat": 4,
  "nbformat_minor": 0,
  "metadata": {
    "colab": {
      "provenance": [],
      "authorship_tag": "ABX9TyOj3EqMxxi0z/s0hksongxU",
      "include_colab_link": true
    },
    "kernelspec": {
      "name": "python3",
      "display_name": "Python 3"
    },
    "language_info": {
      "name": "python"
    }
  },
  "cells": [
    {
      "cell_type": "markdown",
      "metadata": {
        "id": "view-in-github",
        "colab_type": "text"
      },
      "source": [
        "<a href=\"https://colab.research.google.com/github/RealMyeong/python3-study/blob/main/11/Programmers_1107.ipynb\" target=\"_parent\"><img src=\"https://colab.research.google.com/assets/colab-badge.svg\" alt=\"Open In Colab\"/></a>"
      ]
    },
    {
      "cell_type": "code",
      "execution_count": null,
      "metadata": {
        "id": "MMJIt3Uv95pn"
      },
      "outputs": [],
      "source": [
        "# 같은 숫자는 싫어\n",
        "def solution(arr):\n",
        "    answer = []\n",
        "    for i in range(len(arr)):\n",
        "        if answer == []:\n",
        "            answer.append(arr[i])\n",
        "\n",
        "        elif answer[-1] == arr[i]:\n",
        "            continue\n",
        "\n",
        "        else:\n",
        "            answer.append(arr[i])\n",
        "\n",
        "    return answer"
      ]
    }
  ]
}