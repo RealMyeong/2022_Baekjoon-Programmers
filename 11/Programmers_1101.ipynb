{
  "nbformat": 4,
  "nbformat_minor": 0,
  "metadata": {
    "colab": {
      "provenance": [],
      "authorship_tag": "ABX9TyNtag3cGa7Z/KCHB0/hWo0j",
      "include_colab_link": true
    },
    "kernelspec": {
      "name": "python3",
      "display_name": "Python 3"
    },
    "language_info": {
      "name": "python"
    }
  },
  "cells": [
    {
      "cell_type": "markdown",
      "metadata": {
        "id": "view-in-github",
        "colab_type": "text"
      },
      "source": [
        "<a href=\"https://colab.research.google.com/github/RealMyeong/python3-study/blob/main/11/Programmers_1101.ipynb\" target=\"_parent\"><img src=\"https://colab.research.google.com/assets/colab-badge.svg\" alt=\"Open In Colab\"/></a>"
      ]
    },
    {
      "cell_type": "code",
      "execution_count": null,
      "metadata": {
        "id": "MMJIt3Uv95pn"
      },
      "outputs": [],
      "source": [
        "# 부족한 금액 계산하기\n",
        "def solution(price, money, count):\n",
        "    cnt_sum = count*(count+1) / 2\n",
        "    price *= cnt_sum\n",
        "    if money - price >0:\n",
        "        return 0\n",
        "    else:\n",
        "        return (price-money)\n",
        "\n",
        "# 다른 풀이\n",
        "def solution(price, money, count):\n",
        "    return max(0, count*(count+1)/2 * price - money)"
      ]
    },
    {
      "cell_type": "code",
      "source": [
        "# 행렬의 덧셈\n",
        "def solution(arr1, arr2):\n",
        "    answer = []\n",
        "    for i in range(len(arr1)):\n",
        "        i_row = []\n",
        "        for j in range(len(arr1[0])):\n",
        "            i_row.append(arr1[i][j]+arr2[i][j])\n",
        "        answer.append(i_row)\n",
        "    return answer\n",
        "\n",
        "# 다른 풀이\n",
        "def sumMatrix(A,B):\n",
        "    return [list(map(sum, zip(*x))) for x in zip(A, B)]"
      ],
      "metadata": {
        "id": "VN4xXZQN_kNp"
      },
      "execution_count": null,
      "outputs": []
    }
  ]
}