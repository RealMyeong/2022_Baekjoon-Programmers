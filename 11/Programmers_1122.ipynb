{
  "nbformat": 4,
  "nbformat_minor": 0,
  "metadata": {
    "colab": {
      "provenance": [],
      "authorship_tag": "ABX9TyM1dGqG3xM/gVltAA/NV5Yg",
      "include_colab_link": true
    },
    "kernelspec": {
      "name": "python3",
      "display_name": "Python 3"
    },
    "language_info": {
      "name": "python"
    }
  },
  "cells": [
    {
      "cell_type": "markdown",
      "metadata": {
        "id": "view-in-github",
        "colab_type": "text"
      },
      "source": [
        "<a href=\"https://colab.research.google.com/github/RealMyeong/python3-study/blob/main/11/Programmers_1122.ipynb\" target=\"_parent\"><img src=\"https://colab.research.google.com/assets/colab-badge.svg\" alt=\"Open In Colab\"/></a>"
      ]
    },
    {
      "cell_type": "code",
      "execution_count": null,
      "metadata": {
        "id": "MMJIt3Uv95pn"
      },
      "outputs": [],
      "source": [
        "# 삼총사\n",
        "# 첫 번째 시도\n",
        "# a, b, c의 범위 설정이 잘못된 것 같음.\n",
        "def solution(number):\n",
        "    length = len(number)\n",
        "    answer = 0\n",
        "    \n",
        "    comb_list = []\n",
        "    for a in range(0, length-2):\n",
        "        for b in range(a+1, length):\n",
        "            for c in range(a+2, length):\n",
        "                if a != b and b != c and a != c:\n",
        "                    n_list =  sorted([number[a] , number[b] , number[c]])\n",
        "                    if not n_list in comb_list:\n",
        "                        comb_list.append(n_list)\n",
        "    for i in comb_list:\n",
        "        if sum(i)==0:\n",
        "          answer += 1\n",
        "\n",
        "    return answer"
      ]
    },
    {
      "cell_type": "code",
      "source": [
        "# 두 번째 시도\n",
        "# 정답. 역시나 범위 설정문제\n",
        "def solution(number):\n",
        "    length = len(number)\n",
        "    answer = 0\n",
        "    \n",
        "    for a in range(0, length-2):\n",
        "        for b in range(a+1, length-1):\n",
        "            for c in range(b+1, length):\n",
        "                    if number[a] + number[b] + number[c] == 0:\n",
        "                        answer += 1\n",
        "\n",
        "    return answer"
      ],
      "metadata": {
        "id": "VKYFBCkz3wIU"
      },
      "execution_count": null,
      "outputs": []
    },
    {
      "cell_type": "code",
      "source": [
        "# Combination을 이용한 풀이\n",
        "from itertools import combinations # 조합 \n",
        "\n",
        "def solution(number):\n",
        "    \n",
        "    answer = 0\n",
        "    \n",
        "    for i in combinations(number, 3): \n",
        "        if sum(i) == 0 : \n",
        "            answer += 1 \n",
        "    \n",
        "    return answer "
      ],
      "metadata": {
        "id": "0YzukdZ2ORzi"
      },
      "execution_count": null,
      "outputs": []
    }
  ]
}