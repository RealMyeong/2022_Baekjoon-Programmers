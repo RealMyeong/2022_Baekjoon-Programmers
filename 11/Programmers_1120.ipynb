{
  "nbformat": 4,
  "nbformat_minor": 0,
  "metadata": {
    "colab": {
      "provenance": [],
      "authorship_tag": "ABX9TyMAcdylBOy+CfZWBQcVdIKd",
      "include_colab_link": true
    },
    "kernelspec": {
      "name": "python3",
      "display_name": "Python 3"
    },
    "language_info": {
      "name": "python"
    }
  },
  "cells": [
    {
      "cell_type": "markdown",
      "metadata": {
        "id": "view-in-github",
        "colab_type": "text"
      },
      "source": [
        "<a href=\"https://colab.research.google.com/github/RealMyeong/python3-study/blob/main/11/Programmers_1120.ipynb\" target=\"_parent\"><img src=\"https://colab.research.google.com/assets/colab-badge.svg\" alt=\"Open In Colab\"/></a>"
      ]
    },
    {
      "cell_type": "code",
      "execution_count": 9,
      "metadata": {
        "id": "MMJIt3Uv95pn"
      },
      "outputs": [],
      "source": [
        "# 숫자 문자열과 영단어\n",
        "\n",
        "def solution(s):\n",
        "    word2idx = {\n",
        "        'zero' : '0',\n",
        "        'one' : '1', \n",
        "        'two': '2', \n",
        "        'three' : '3', \n",
        "        'four' : '4', \n",
        "        'five': '5', \n",
        "        'six': '6', \n",
        "        'seven' : '7', \n",
        "        'eight' : '8', \n",
        "        'nine' : '9'\n",
        "    }\n",
        "    \n",
        "    num = ''\n",
        "    n_list = []\n",
        "    \n",
        "    for i in range(len(s)):\n",
        "        if num in word2idx.keys():\n",
        "            n_list.append(word2idx[num])\n",
        "            num = ''        \n",
        "        \n",
        "        if s[i].isdigit():\n",
        "            n_list.append(s[i])\n",
        "            \n",
        "        else:\n",
        "            num += s[i]\n",
        "            \n",
        "    if num != '' and num in word2idx.keys():\n",
        "        n_list.append(word2idx[num])\n",
        "\n",
        "    answer = int(''.join(n_list))\n",
        "            \n",
        "    return answer"
      ]
    },
    {
      "cell_type": "code",
      "source": [
        "solution(\"23four5six7\")"
      ],
      "metadata": {
        "colab": {
          "base_uri": "https://localhost:8080/"
        },
        "id": "0YzukdZ2ORzi",
        "outputId": "c868b54f-ebba-496d-b147-91e04f83d594"
      },
      "execution_count": 10,
      "outputs": [
        {
          "output_type": "execute_result",
          "data": {
            "text/plain": [
              "234567"
            ]
          },
          "metadata": {},
          "execution_count": 10
        }
      ]
    }
  ]
}