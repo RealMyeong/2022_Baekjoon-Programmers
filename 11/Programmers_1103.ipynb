{
  "nbformat": 4,
  "nbformat_minor": 0,
  "metadata": {
    "colab": {
      "provenance": [],
      "authorship_tag": "ABX9TyNaZ8XAvwzuzFtROtxfrGFy",
      "include_colab_link": true
    },
    "kernelspec": {
      "name": "python3",
      "display_name": "Python 3"
    },
    "language_info": {
      "name": "python"
    }
  },
  "cells": [
    {
      "cell_type": "markdown",
      "metadata": {
        "id": "view-in-github",
        "colab_type": "text"
      },
      "source": [
        "<a href=\"https://colab.research.google.com/github/RealMyeong/python3-study/blob/main/11/Programmers_1103.ipynb\" target=\"_parent\"><img src=\"https://colab.research.google.com/assets/colab-badge.svg\" alt=\"Open In Colab\"/></a>"
      ]
    },
    {
      "cell_type": "code",
      "execution_count": null,
      "metadata": {
        "id": "MMJIt3Uv95pn",
        "colab": {
          "base_uri": "https://localhost:8080/",
          "height": 36
        },
        "outputId": "63b61ab2-264c-40db-bcdf-31421d62463f"
      },
      "outputs": [
        {
          "output_type": "execute_result",
          "data": {
            "text/plain": [
              "'Abcd'"
            ],
            "application/vnd.google.colaboratory.intrinsic+json": {
              "type": "string"
            }
          },
          "metadata": {},
          "execution_count": 4
        }
      ],
      "source": [
        "# 직사각형 별찍기\n",
        "a, b = map(int, input().strip().split(' '))\n",
        "for i in range(b):\n",
        "    print('*'*a)"
      ]
    },
    {
      "cell_type": "code",
      "source": [
        "# 최대공약수와 최소공배수\n",
        "def solution(n, m):\n",
        "    import math\n",
        "    a = math.gcd(n, m)\n",
        "    b = n * m // a\n",
        "    \n",
        "    answer = [a, b]\n",
        "\n",
        "    return answer"
      ],
      "metadata": {
        "id": "E3f7qIUBpmh7"
      },
      "execution_count": null,
      "outputs": []
    }
  ]
}