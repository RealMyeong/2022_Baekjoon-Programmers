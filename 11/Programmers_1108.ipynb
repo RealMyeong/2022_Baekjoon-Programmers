{
  "nbformat": 4,
  "nbformat_minor": 0,
  "metadata": {
    "colab": {
      "provenance": [],
      "authorship_tag": "ABX9TyPTFc+HPjUGPCvLqXdw866K",
      "include_colab_link": true
    },
    "kernelspec": {
      "name": "python3",
      "display_name": "Python 3"
    },
    "language_info": {
      "name": "python"
    }
  },
  "cells": [
    {
      "cell_type": "markdown",
      "metadata": {
        "id": "view-in-github",
        "colab_type": "text"
      },
      "source": [
        "<a href=\"https://colab.research.google.com/github/RealMyeong/python3-study/blob/main/11/Programmers_1108.ipynb\" target=\"_parent\"><img src=\"https://colab.research.google.com/assets/colab-badge.svg\" alt=\"Open In Colab\"/></a>"
      ]
    },
    {
      "cell_type": "code",
      "execution_count": null,
      "metadata": {
        "id": "MMJIt3Uv95pn"
      },
      "outputs": [],
      "source": [
        "# 숫자의 표현\n",
        "# 시간 초과가 나버린 모습\n",
        "def solution(n):\n",
        "    answer = 1\n",
        "    for i in range(1, n):\n",
        "        for j in range(2, n):\n",
        "            if ((i+j)*(j-i+1)) / 2 == n and j > i:\n",
        "                answer += 1\n",
        "    return answer"
      ]
    },
    {
      "cell_type": "code",
      "source": [
        "# 중간에 조건 추가해서 빠져나오게 해주니 통과\n",
        "def solution(n):\n",
        "    answer = 1\n",
        "    for i in range(1, n):\n",
        "        sum = 0\n",
        "        for j in range(i, n):\n",
        "            sum += j\n",
        "            if sum == n:\n",
        "                answer += 1\n",
        "                break\n",
        "            elif sum>n:\n",
        "                break\n",
        "    return answer"
      ],
      "metadata": {
        "id": "CqTU1_RVi0p-"
      },
      "execution_count": null,
      "outputs": []
    }
  ]
}