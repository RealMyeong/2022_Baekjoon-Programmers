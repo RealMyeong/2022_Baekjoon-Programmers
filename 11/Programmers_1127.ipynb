{
  "nbformat": 4,
  "nbformat_minor": 0,
  "metadata": {
    "colab": {
      "provenance": [],
      "authorship_tag": "ABX9TyNpAvxA8HrEreyykcyluaw4",
      "include_colab_link": true
    },
    "kernelspec": {
      "name": "python3",
      "display_name": "Python 3"
    },
    "language_info": {
      "name": "python"
    }
  },
  "cells": [
    {
      "cell_type": "markdown",
      "metadata": {
        "id": "view-in-github",
        "colab_type": "text"
      },
      "source": [
        "<a href=\"https://colab.research.google.com/github/RealMyeong/python3-study/blob/main/11/Programmers_1127.ipynb\" target=\"_parent\"><img src=\"https://colab.research.google.com/assets/colab-badge.svg\" alt=\"Open In Colab\"/></a>"
      ]
    },
    {
      "cell_type": "code",
      "execution_count": 1,
      "metadata": {
        "id": "MMJIt3Uv95pn"
      },
      "outputs": [],
      "source": [
        "# 멀리 뛰기\n",
        "\n",
        "def solution(n):\n",
        "    import math as m\n",
        "    \n",
        "    if n == 1:\n",
        "        return 1\n",
        "    \n",
        "    else:\n",
        "        answer = 1\n",
        "        max_l = n//2\n",
        "        i = 1\n",
        "        while n >= max_l:\n",
        "            n -= 1\n",
        "            a = m.comb(n,i)\n",
        "            answer += a\n",
        "            i += 1\n",
        "        return answer % 1234567\n",
        "        "
      ]
    }
  ]
}