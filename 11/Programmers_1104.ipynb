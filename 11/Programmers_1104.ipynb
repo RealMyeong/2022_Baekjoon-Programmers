{
  "nbformat": 4,
  "nbformat_minor": 0,
  "metadata": {
    "colab": {
      "provenance": [],
      "authorship_tag": "ABX9TyP7gvfNUucmPtVmgOjFiswT",
      "include_colab_link": true
    },
    "kernelspec": {
      "name": "python3",
      "display_name": "Python 3"
    },
    "language_info": {
      "name": "python"
    }
  },
  "cells": [
    {
      "cell_type": "markdown",
      "metadata": {
        "id": "view-in-github",
        "colab_type": "text"
      },
      "source": [
        "<a href=\"https://colab.research.google.com/github/RealMyeong/python3-study/blob/main/11/Programmers_1104.ipynb\" target=\"_parent\"><img src=\"https://colab.research.google.com/assets/colab-badge.svg\" alt=\"Open In Colab\"/></a>"
      ]
    },
    {
      "cell_type": "code",
      "execution_count": 1,
      "metadata": {
        "id": "MMJIt3Uv95pn"
      },
      "outputs": [],
      "source": [
        "# 올바른 괄호\n",
        "# 첫 번째 풀이\n",
        "def solution(s):\n",
        "    if len(s) % 2 != 0:\n",
        "        return False\n",
        "    elif s[0] == ')' or s[-1] == '(':\n",
        "        return False\n",
        "    else:\n",
        "        error = 0\n",
        "        for i in s:\n",
        "            if i == '(':\n",
        "                error += 1\n",
        "            else:\n",
        "                error -= 1\n",
        "        if error == 0:\n",
        "            return True\n",
        "        else:\n",
        "            return False\n"
      ]
    },
    {
      "cell_type": "code",
      "source": [
        "# 두 번째 풀이\n",
        "def solution(s):\n",
        "    _list = []\n",
        "    for i in s:\n",
        "        if i == '(':\n",
        "            _list.append(i)\n",
        "        else:\n",
        "            if _list ==[]:\n",
        "                return False\n",
        "            else:\n",
        "                _list.pop()\n",
        "    if len(_list)==0:\n",
        "        return True\n",
        "    else:\n",
        "        return False"
      ],
      "metadata": {
        "id": "E3f7qIUBpmh7"
      },
      "execution_count": null,
      "outputs": []
    },
    {
      "cell_type": "code",
      "source": [
        "# 다른 사람의 풀이\n",
        "def solution(s):\n",
        "    x = 0\n",
        "    for w in s:\n",
        "        if x < 0:\n",
        "            break\n",
        "        x = x+1 if w==\"(\" else x-1 if w==\")\" else x\n",
        "    return x==0"
      ],
      "metadata": {
        "id": "t4QYOLupATj8"
      },
      "execution_count": null,
      "outputs": []
    }
  ]
}