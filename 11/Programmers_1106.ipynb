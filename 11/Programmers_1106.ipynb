{
  "nbformat": 4,
  "nbformat_minor": 0,
  "metadata": {
    "colab": {
      "provenance": [],
      "authorship_tag": "ABX9TyOdjDAA8ZeGbgntmGoRZGpW",
      "include_colab_link": true
    },
    "kernelspec": {
      "name": "python3",
      "display_name": "Python 3"
    },
    "language_info": {
      "name": "python"
    }
  },
  "cells": [
    {
      "cell_type": "markdown",
      "metadata": {
        "id": "view-in-github",
        "colab_type": "text"
      },
      "source": [
        "<a href=\"https://colab.research.google.com/github/RealMyeong/python3-study/blob/main/11/Programmers_1106.ipynb\" target=\"_parent\"><img src=\"https://colab.research.google.com/assets/colab-badge.svg\" alt=\"Open In Colab\"/></a>"
      ]
    },
    {
      "cell_type": "code",
      "execution_count": null,
      "metadata": {
        "id": "MMJIt3Uv95pn"
      },
      "outputs": [],
      "source": [
        "# 이진 변환 반복하기\n",
        "def solution(s):\n",
        "    c = len(s)\n",
        "    \n",
        "    zero = 0\n",
        "    t_cnt = 0\n",
        "    \n",
        "    while s != '1':\n",
        "        \n",
        "        zero_cnt = s.count('0')\n",
        "        zero += zero_cnt\n",
        "        \n",
        "        s = s.replace('0', '')\n",
        "        c = len(s)\n",
        "        \n",
        "        s = str(format(c, 'b')) # 이진수로 변환\n",
        "        t_cnt += 1\n",
        "\n",
        "    answer = [t_cnt, zero]\n",
        "    return answer"
      ]
    }
  ]
}