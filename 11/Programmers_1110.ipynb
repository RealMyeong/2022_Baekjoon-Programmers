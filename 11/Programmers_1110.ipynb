{
  "nbformat": 4,
  "nbformat_minor": 0,
  "metadata": {
    "colab": {
      "provenance": [],
      "authorship_tag": "ABX9TyOdRXWKqGtZ6qcxifAoGUos",
      "include_colab_link": true
    },
    "kernelspec": {
      "name": "python3",
      "display_name": "Python 3"
    },
    "language_info": {
      "name": "python"
    }
  },
  "cells": [
    {
      "cell_type": "markdown",
      "metadata": {
        "id": "view-in-github",
        "colab_type": "text"
      },
      "source": [
        "<a href=\"https://colab.research.google.com/github/RealMyeong/python3-study/blob/main/11/Programmers_1110.ipynb\" target=\"_parent\"><img src=\"https://colab.research.google.com/assets/colab-badge.svg\" alt=\"Open In Colab\"/></a>"
      ]
    },
    {
      "cell_type": "code",
      "execution_count": null,
      "metadata": {
        "id": "MMJIt3Uv95pn"
      },
      "outputs": [],
      "source": [
        "# 3진법 뒤집기\n",
        "def solution(n):\n",
        "    tri_not = ''\n",
        "    \n",
        "    while n > 0:\n",
        "        tri_not += str(n%3)\n",
        "        n = n // 3\n",
        "    \n",
        "    answer = int(tri_not, 3)\n",
        "        \n",
        "    return answer"
      ]
    }
  ]
}