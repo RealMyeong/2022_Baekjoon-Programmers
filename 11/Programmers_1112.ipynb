{
  "nbformat": 4,
  "nbformat_minor": 0,
  "metadata": {
    "colab": {
      "provenance": [],
      "authorship_tag": "ABX9TyPdR/itP8/S6ZHG/FFrWP43",
      "include_colab_link": true
    },
    "kernelspec": {
      "name": "python3",
      "display_name": "Python 3"
    },
    "language_info": {
      "name": "python"
    }
  },
  "cells": [
    {
      "cell_type": "markdown",
      "metadata": {
        "id": "view-in-github",
        "colab_type": "text"
      },
      "source": [
        "<a href=\"https://colab.research.google.com/github/RealMyeong/python3-study/blob/main/11/Programmers_1112.ipynb\" target=\"_parent\"><img src=\"https://colab.research.google.com/assets/colab-badge.svg\" alt=\"Open In Colab\"/></a>"
      ]
    },
    {
      "cell_type": "code",
      "execution_count": null,
      "metadata": {
        "id": "MMJIt3Uv95pn"
      },
      "outputs": [],
      "source": [
        "# 다음 큰 숫자\n",
        "def solution(n):\n",
        "    n_bin = str(format(n, 'b'))\n",
        "    one_cnt = n_bin.count('1')\n",
        "    \n",
        "    next_num = n+1\n",
        "    \n",
        "    while True:\n",
        "        \n",
        "        next_bin = str(format(next_num, 'b'))\n",
        "        next_one_cnt = next_bin.count('1')\n",
        "        \n",
        "        if one_cnt == next_one_cnt:\n",
        "            return next_num\n",
        "        else:\n",
        "            next_num += 1"
      ]
    }
  ]
}