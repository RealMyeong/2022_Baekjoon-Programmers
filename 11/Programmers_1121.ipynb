{
  "nbformat": 4,
  "nbformat_minor": 0,
  "metadata": {
    "colab": {
      "provenance": [],
      "authorship_tag": "ABX9TyPSrYU1suaeJWblDeu7fhDy",
      "include_colab_link": true
    },
    "kernelspec": {
      "name": "python3",
      "display_name": "Python 3"
    },
    "language_info": {
      "name": "python"
    }
  },
  "cells": [
    {
      "cell_type": "markdown",
      "metadata": {
        "id": "view-in-github",
        "colab_type": "text"
      },
      "source": [
        "<a href=\"https://colab.research.google.com/github/RealMyeong/python3-study/blob/main/11/Programmers_1121.ipynb\" target=\"_parent\"><img src=\"https://colab.research.google.com/assets/colab-badge.svg\" alt=\"Open In Colab\"/></a>"
      ]
    },
    {
      "cell_type": "code",
      "execution_count": 12,
      "metadata": {
        "id": "MMJIt3Uv95pn"
      },
      "outputs": [],
      "source": [
        "# 구명 보트\n",
        "# 시간 초과가 나옴\n",
        "def solution(people, limit):\n",
        "    people.sort()\n",
        "    answer = 0\n",
        "    \n",
        "    while len(people)>1:\n",
        "        if people[-1] + people[0] <= limit:\n",
        "            people = people[1:-1]\n",
        "            answer += 1\n",
        "        else:\n",
        "            people = people[:-1]\n",
        "            answer += 1\n",
        "            \n",
        "    if len(people)==1:\n",
        "        answer += 1\n",
        "        \n",
        "    return answer"
      ]
    },
    {
      "cell_type": "code",
      "source": [
        "# 다른 사람 풀이\n",
        "def solution(people, limit) :\n",
        "    answer = 0\n",
        "    people.sort()\n",
        "\n",
        "    a = 0\n",
        "    b = len(people) - 1\n",
        "    while a < b :\n",
        "        if people[b] + people[a] <= limit :\n",
        "            a += 1\n",
        "            answer += 1\n",
        "        b -= 1\n",
        "    return len(people) - answer"
      ],
      "metadata": {
        "id": "0YzukdZ2ORzi"
      },
      "execution_count": 14,
      "outputs": []
    }
  ]
}