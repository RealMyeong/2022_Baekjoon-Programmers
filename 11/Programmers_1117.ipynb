{
  "nbformat": 4,
  "nbformat_minor": 0,
  "metadata": {
    "colab": {
      "provenance": [],
      "authorship_tag": "ABX9TyN2kFczM71TVp+EyVh7KK2o",
      "include_colab_link": true
    },
    "kernelspec": {
      "name": "python3",
      "display_name": "Python 3"
    },
    "language_info": {
      "name": "python"
    }
  },
  "cells": [
    {
      "cell_type": "markdown",
      "metadata": {
        "id": "view-in-github",
        "colab_type": "text"
      },
      "source": [
        "<a href=\"https://colab.research.google.com/github/RealMyeong/python3-study/blob/main/11/Programmers_1117.ipynb\" target=\"_parent\"><img src=\"https://colab.research.google.com/assets/colab-badge.svg\" alt=\"Open In Colab\"/></a>"
      ]
    },
    {
      "cell_type": "code",
      "execution_count": 11,
      "metadata": {
        "id": "MMJIt3Uv95pn",
        "colab": {
          "base_uri": "https://localhost:8080/"
        },
        "outputId": "23d1dd2d-ca25-47be-fb42-6f5c6b94baa2"
      },
      "outputs": [
        {
          "output_type": "execute_result",
          "data": {
            "text/plain": [
              "0"
            ]
          },
          "metadata": {},
          "execution_count": 11
        }
      ],
      "source": [
        "# 짝지어 제거하기\n",
        "def solution(s):\n",
        "    chr = []\n",
        "    for i in s:\n",
        "        if chr == []:\n",
        "            chr.append(i)\n",
        "        elif chr[-1] == i:\n",
        "            chr.pop()\n",
        "        else:\n",
        "            chr.append(i)\n",
        "            \n",
        "    if chr == []:\n",
        "        return 1\n",
        "    else:\n",
        "        return 0\n",
        "\n",
        "solution('ababab')"
      ]
    }
  ]
}