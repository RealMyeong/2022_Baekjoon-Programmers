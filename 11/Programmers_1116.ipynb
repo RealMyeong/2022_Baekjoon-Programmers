{
  "nbformat": 4,
  "nbformat_minor": 0,
  "metadata": {
    "colab": {
      "provenance": [],
      "authorship_tag": "ABX9TyPQlKrRFyvXrWTu+N92lvFX",
      "include_colab_link": true
    },
    "kernelspec": {
      "name": "python3",
      "display_name": "Python 3"
    },
    "language_info": {
      "name": "python"
    }
  },
  "cells": [
    {
      "cell_type": "markdown",
      "metadata": {
        "id": "view-in-github",
        "colab_type": "text"
      },
      "source": [
        "<a href=\"https://colab.research.google.com/github/RealMyeong/python3-study/blob/main/11/Programmers_1116.ipynb\" target=\"_parent\"><img src=\"https://colab.research.google.com/assets/colab-badge.svg\" alt=\"Open In Colab\"/></a>"
      ]
    },
    {
      "cell_type": "code",
      "execution_count": null,
      "metadata": {
        "id": "MMJIt3Uv95pn"
      },
      "outputs": [],
      "source": [
        "# 카펫\n",
        "\n",
        "def solution(brown, yellow):\n",
        "  \n",
        "    answer = []\n",
        "    total = brown + yellow   # a * b = total\n",
        "    \n",
        "    for b in range(1,total+1):\n",
        "        \n",
        "        if total / b == int(total/b):            # total / b = a, 정수여야 한다.\n",
        "            a = total / b\n",
        "            if a >= b:                      # a >= b\n",
        "                if 2*a + 2*b == brown + 4:  # 2*a + 2*b = brown + 4 \n",
        "                    return [a,b]\n",
        "            \n",
        "    return answer"
      ]
    }
  ]
}