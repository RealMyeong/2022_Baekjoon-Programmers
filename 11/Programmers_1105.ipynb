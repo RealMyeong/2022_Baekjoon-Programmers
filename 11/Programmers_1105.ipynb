{
  "nbformat": 4,
  "nbformat_minor": 0,
  "metadata": {
    "colab": {
      "provenance": [],
      "authorship_tag": "ABX9TyO9JLsIbcEXiEutMl20Wy3o",
      "include_colab_link": true
    },
    "kernelspec": {
      "name": "python3",
      "display_name": "Python 3"
    },
    "language_info": {
      "name": "python"
    }
  },
  "cells": [
    {
      "cell_type": "markdown",
      "metadata": {
        "id": "view-in-github",
        "colab_type": "text"
      },
      "source": [
        "<a href=\"https://colab.research.google.com/github/RealMyeong/python3-study/blob/main/11/Programmers_1105.ipynb\" target=\"_parent\"><img src=\"https://colab.research.google.com/assets/colab-badge.svg\" alt=\"Open In Colab\"/></a>"
      ]
    },
    {
      "cell_type": "code",
      "execution_count": null,
      "metadata": {
        "id": "MMJIt3Uv95pn"
      },
      "outputs": [],
      "source": [
        "# 최솟값 만들기\n",
        "def solution(A,B):\n",
        "    A.sort()\n",
        "    B.sort(reverse=True)\n",
        "    sum = 0\n",
        "    for a, b in zip(A, B):\n",
        "        sum += a * b\n",
        "\n",
        "    return sum\n"
      ]
    }
  ]
}