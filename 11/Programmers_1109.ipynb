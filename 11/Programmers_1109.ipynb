{
  "nbformat": 4,
  "nbformat_minor": 0,
  "metadata": {
    "colab": {
      "provenance": [],
      "authorship_tag": "ABX9TyOUyHxc9MNFfY0CSsNFItjU",
      "include_colab_link": true
    },
    "kernelspec": {
      "name": "python3",
      "display_name": "Python 3"
    },
    "language_info": {
      "name": "python"
    }
  },
  "cells": [
    {
      "cell_type": "markdown",
      "metadata": {
        "id": "view-in-github",
        "colab_type": "text"
      },
      "source": [
        "<a href=\"https://colab.research.google.com/github/RealMyeong/python3-study/blob/main/11/Programmers_1109.ipynb\" target=\"_parent\"><img src=\"https://colab.research.google.com/assets/colab-badge.svg\" alt=\"Open In Colab\"/></a>"
      ]
    },
    {
      "cell_type": "code",
      "execution_count": null,
      "metadata": {
        "id": "MMJIt3Uv95pn"
      },
      "outputs": [],
      "source": [
        "# 이상한 문자 만들기\n",
        "def solution(s):\n",
        "    s = s.lower()\n",
        "    words = s.split(' ')\n",
        "    ans = []\n",
        "    for i in words:\n",
        "        if i == ' ':\n",
        "            ans.append(i)\n",
        "        else:\n",
        "            s_w = ''\n",
        "            for j in range(len(i)):\n",
        "                if j%2==0:\n",
        "                    s_w += i[j].upper()\n",
        "                else:\n",
        "                    s_w += i[j]\n",
        "            ans.append(s_w)\n",
        "    answer = ' '.join(ans)\n",
        "    return answer"
      ]
    },
    {
      "cell_type": "code",
      "source": [
        "# 다른 사람 풀이\n",
        "\n",
        "def solution(n):\n",
        "    return \" \".join(map(lambda x: \"\".join([a.lower() if i % 2 else a.upper() for i, a in enumerate(x)]), n.split(\" \")))\n"
      ],
      "metadata": {
        "id": "CqTU1_RVi0p-"
      },
      "execution_count": null,
      "outputs": []
    }
  ]
}