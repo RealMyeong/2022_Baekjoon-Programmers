{
  "nbformat": 4,
  "nbformat_minor": 0,
  "metadata": {
    "colab": {
      "provenance": [],
      "authorship_tag": "ABX9TyOMo2/FW4edDTyP/A0C8zZY",
      "include_colab_link": true
    },
    "kernelspec": {
      "name": "python3",
      "display_name": "Python 3"
    },
    "language_info": {
      "name": "python"
    }
  },
  "cells": [
    {
      "cell_type": "markdown",
      "metadata": {
        "id": "view-in-github",
        "colab_type": "text"
      },
      "source": [
        "<a href=\"https://colab.research.google.com/github/RealMyeong/python3-study/blob/main/11/Programmers_1113.ipynb\" target=\"_parent\"><img src=\"https://colab.research.google.com/assets/colab-badge.svg\" alt=\"Open In Colab\"/></a>"
      ]
    },
    {
      "cell_type": "code",
      "execution_count": null,
      "metadata": {
        "id": "MMJIt3Uv95pn"
      },
      "outputs": [],
      "source": [
        "# 시저 암호\n",
        "def solution(s, n):\n",
        "    answer = ''\n",
        "\n",
        "    for i in s:\n",
        "        ascii = ord(i)\n",
        "        ascii += n\n",
        "\n",
        "        if i == ' ': # 공백 문자일때\n",
        "            answer += i\n",
        "\n",
        "        elif i.isupper(): # 대문자일때\n",
        "            if ascii > 90:\n",
        "                ascii -= 26\n",
        "                answer += chr(ascii)\n",
        "            else:\n",
        "                answer += chr(ascii)\n",
        "\n",
        "        else: # 소문자일때\n",
        "            if ascii > 122:\n",
        "                ascii -= 26\n",
        "                answer += chr(ascii)\n",
        "            else:\n",
        "                answer += chr(ascii)\n",
        "                \n",
        "    return answer"
      ]
    }
  ]
}