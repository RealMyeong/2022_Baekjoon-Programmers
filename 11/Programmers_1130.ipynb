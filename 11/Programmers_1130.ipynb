{
  "nbformat": 4,
  "nbformat_minor": 0,
  "metadata": {
    "colab": {
      "provenance": [],
      "authorship_tag": "ABX9TyOf+I5XKASMWsrzYU3nymGe",
      "include_colab_link": true
    },
    "kernelspec": {
      "name": "python3",
      "display_name": "Python 3"
    },
    "language_info": {
      "name": "python"
    }
  },
  "cells": [
    {
      "cell_type": "markdown",
      "metadata": {
        "id": "view-in-github",
        "colab_type": "text"
      },
      "source": [
        "<a href=\"https://colab.research.google.com/github/RealMyeong/python3-study/blob/main/11/Programmers_1130.ipynb\" target=\"_parent\"><img src=\"https://colab.research.google.com/assets/colab-badge.svg\" alt=\"Open In Colab\"/></a>"
      ]
    },
    {
      "cell_type": "code",
      "source": [
        "# 캐시\n",
        "# 나의 풀이\n",
        "def solution(cacheSize, cities):\n",
        "    cache = []\n",
        "    answer = 0\n",
        "    if cacheSize==0:\n",
        "        answer = len(cities) * 5\n",
        "    else:\n",
        "        for city in cities:\n",
        "            c = city.lower()\n",
        "            if c in cache:\n",
        "                cache.remove(c)\n",
        "                cache.append(c)\n",
        "                answer += 1\n",
        "            elif len(cache) == cacheSize:\n",
        "                cache = cache[1:]\n",
        "                cache.append(c)\n",
        "                answer += 5\n",
        "            else:\n",
        "                cache.append(c)\n",
        "                answer += 5\n",
        "    return answer"
      ],
      "metadata": {
        "id": "yqdJ9EkayvS5"
      },
      "execution_count": null,
      "outputs": []
    }
  ]
}