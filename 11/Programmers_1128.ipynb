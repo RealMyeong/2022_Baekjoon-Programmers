{
  "nbformat": 4,
  "nbformat_minor": 0,
  "metadata": {
    "colab": {
      "provenance": [],
      "authorship_tag": "ABX9TyOlGwAeRLMgdbgWLgZiCyUR",
      "include_colab_link": true
    },
    "kernelspec": {
      "name": "python3",
      "display_name": "Python 3"
    },
    "language_info": {
      "name": "python"
    }
  },
  "cells": [
    {
      "cell_type": "markdown",
      "metadata": {
        "id": "view-in-github",
        "colab_type": "text"
      },
      "source": [
        "<a href=\"https://colab.research.google.com/github/RealMyeong/python3-study/blob/main/11/Programmers_1128.ipynb\" target=\"_parent\"><img src=\"https://colab.research.google.com/assets/colab-badge.svg\" alt=\"Open In Colab\"/></a>"
      ]
    },
    {
      "cell_type": "code",
      "source": [
        "# H-index\n",
        "def solution(citations):\n",
        "    citations.sort()\n",
        "    answer = []\n",
        "    \n",
        "    for i in range(len(citations)):\n",
        "        \n",
        "        if len(citations) - i  <= citations[i] :\n",
        "            \n",
        "            answer.append(len(citations)-i)\n",
        "            \n",
        "    return max(answer)"
      ],
      "metadata": {
        "id": "yqdJ9EkayvS5"
      },
      "execution_count": null,
      "outputs": []
    },
    {
      "cell_type": "code",
      "execution_count": null,
      "metadata": {
        "id": "MMJIt3Uv95pn"
      },
      "outputs": [],
      "source": [
        "# 다른 사람의 풀이\n",
        "\n",
        "def solution(citations):\n",
        "    citations.sort()\n",
        "    for idx , citation in enumerate(citations):\n",
        "        if citation >= len(citations) - idx :\n",
        "            return len(citations) - idx\n",
        "    return 0\n",
        "        "
      ]
    }
  ]
}