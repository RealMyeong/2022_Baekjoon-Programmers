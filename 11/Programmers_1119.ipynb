{
  "nbformat": 4,
  "nbformat_minor": 0,
  "metadata": {
    "colab": {
      "provenance": [],
      "authorship_tag": "ABX9TyP/9pcPoXbALm3/g/DOGqn/",
      "include_colab_link": true
    },
    "kernelspec": {
      "name": "python3",
      "display_name": "Python 3"
    },
    "language_info": {
      "name": "python"
    }
  },
  "cells": [
    {
      "cell_type": "markdown",
      "metadata": {
        "id": "view-in-github",
        "colab_type": "text"
      },
      "source": [
        "<a href=\"https://colab.research.google.com/github/RealMyeong/python3-study/blob/main/11/Programmers_1119.ipynb\" target=\"_parent\"><img src=\"https://colab.research.google.com/assets/colab-badge.svg\" alt=\"Open In Colab\"/></a>"
      ]
    },
    {
      "cell_type": "code",
      "execution_count": null,
      "metadata": {
        "id": "MMJIt3Uv95pn"
      },
      "outputs": [],
      "source": [
        "# K번째 수\n",
        "\n",
        "def solution(array, commands):\n",
        "    answer = []\n",
        "    \n",
        "    for s in commands:\n",
        "        n = array[s[0]-1:s[1]]\n",
        "        n.sort()\n",
        "        n = n[s[2]-1]\n",
        "        answer.append(n)\n",
        "        \n",
        "    return answer"
      ]
    }
  ]
}