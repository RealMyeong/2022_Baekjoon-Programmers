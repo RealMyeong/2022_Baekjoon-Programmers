{
  "nbformat": 4,
  "nbformat_minor": 0,
  "metadata": {
    "colab": {
      "provenance": [],
      "authorship_tag": "ABX9TyMnwl4IX9a11PJO5Q8fa6lG",
      "include_colab_link": true
    },
    "kernelspec": {
      "name": "python3",
      "display_name": "Python 3"
    },
    "language_info": {
      "name": "python"
    }
  },
  "cells": [
    {
      "cell_type": "markdown",
      "metadata": {
        "id": "view-in-github",
        "colab_type": "text"
      },
      "source": [
        "<a href=\"https://colab.research.google.com/github/RealMyeong/python3-study/blob/main/11/Programmers_1114.ipynb\" target=\"_parent\"><img src=\"https://colab.research.google.com/assets/colab-badge.svg\" alt=\"Open In Colab\"/></a>"
      ]
    },
    {
      "cell_type": "code",
      "execution_count": 7,
      "metadata": {
        "id": "MMJIt3Uv95pn",
        "colab": {
          "base_uri": "https://localhost:8080/"
        },
        "outputId": "3557ee0f-b685-4b7a-9040-24ca4ef36607"
      },
      "outputs": [
        {
          "output_type": "stream",
          "name": "stdout",
          "text": [
            "['#####', '# # #', '### #', '#  ##', '#####']\n"
          ]
        }
      ],
      "source": [
        "# [1차] 비밀지도\n",
        "\n",
        "def solution(n, arr1, arr2):\n",
        "    arr1_b = [format(x,'b').zfill(n) for x in arr1]\n",
        "    arr2_b = [format(x,'b').zfill(n) for x in arr2]\n",
        "    \n",
        "    answer = []\n",
        "    for a, b in zip(arr1_b, arr2_b):\n",
        "        \n",
        "        row = ''\n",
        "        for i in range(n):\n",
        "            if a[i] == '1' or b[i] == '1':\n",
        "                row += '#'\n",
        "            else:\n",
        "                row += ' '\n",
        "        answer.append(row)\n",
        "                \n",
        "    return answer\n",
        "\n",
        "print(solution(5, [9,20,28,18,11], [30,1,21,17,28]))"
      ]
    }
  ]
}