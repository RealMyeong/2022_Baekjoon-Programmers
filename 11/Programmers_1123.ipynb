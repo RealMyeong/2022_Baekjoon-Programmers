{
  "nbformat": 4,
  "nbformat_minor": 0,
  "metadata": {
    "colab": {
      "provenance": [],
      "authorship_tag": "ABX9TyMbe/uC5sxMaxeroxyiOBcG",
      "include_colab_link": true
    },
    "kernelspec": {
      "name": "python3",
      "display_name": "Python 3"
    },
    "language_info": {
      "name": "python"
    }
  },
  "cells": [
    {
      "cell_type": "markdown",
      "metadata": {
        "id": "view-in-github",
        "colab_type": "text"
      },
      "source": [
        "<a href=\"https://colab.research.google.com/github/RealMyeong/python3-study/blob/main/11/Programmers_1123.ipynb\" target=\"_parent\"><img src=\"https://colab.research.google.com/assets/colab-badge.svg\" alt=\"Open In Colab\"/></a>"
      ]
    },
    {
      "cell_type": "code",
      "execution_count": null,
      "metadata": {
        "id": "MMJIt3Uv95pn"
      },
      "outputs": [],
      "source": [
        "# N개의 최소공배수\n",
        "\n",
        "def solution(arr):\n",
        "    import math\n",
        "    \n",
        "    gcd = 0\n",
        "    lcm = 0\n",
        "    \n",
        "    i=0\n",
        "    while i < len(arr)-1:\n",
        "        if lcm==0:\n",
        "            gcd = math.gcd(arr[i], arr[i+1])\n",
        "            lcm = arr[i] * arr[i+1] // gcd\n",
        "            i += 1\n",
        "        else:\n",
        "            gcd = math.gcd(lcm, arr[i+1])\n",
        "            lcm = lcm * arr[i+1] // gcd\n",
        "            i += 1\n",
        "            \n",
        "    return lcm"
      ]
    }
  ]
}