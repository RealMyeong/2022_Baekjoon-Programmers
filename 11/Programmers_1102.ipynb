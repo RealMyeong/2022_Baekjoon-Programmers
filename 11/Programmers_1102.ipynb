{
  "nbformat": 4,
  "nbformat_minor": 0,
  "metadata": {
    "colab": {
      "provenance": [],
      "authorship_tag": "ABX9TyONBTcGv7MO/+vvCpDsWy8/",
      "include_colab_link": true
    },
    "kernelspec": {
      "name": "python3",
      "display_name": "Python 3"
    },
    "language_info": {
      "name": "python"
    }
  },
  "cells": [
    {
      "cell_type": "markdown",
      "metadata": {
        "id": "view-in-github",
        "colab_type": "text"
      },
      "source": [
        "<a href=\"https://colab.research.google.com/github/RealMyeong/python3-study/blob/main/11/Programmers_1102.ipynb\" target=\"_parent\"><img src=\"https://colab.research.google.com/assets/colab-badge.svg\" alt=\"Open In Colab\"/></a>"
      ]
    },
    {
      "cell_type": "code",
      "execution_count": 4,
      "metadata": {
        "id": "MMJIt3Uv95pn",
        "colab": {
          "base_uri": "https://localhost:8080/",
          "height": 36
        },
        "outputId": "63b61ab2-264c-40db-bcdf-31421d62463f"
      },
      "outputs": [
        {
          "output_type": "execute_result",
          "data": {
            "text/plain": [
              "'Abcd'"
            ],
            "application/vnd.google.colaboratory.intrinsic+json": {
              "type": "string"
            }
          },
          "metadata": {},
          "execution_count": 4
        }
      ],
      "source": [
        "# JadenCase 문자열 만들기\n",
        "# 공백문자가 연속으로 나올 수 있다는 조건이 있는걸 확인못함\n",
        "# 근데 도대체 공백문자가 연속인 문자열을 사용해야할 이유가 있는것인가....\n",
        "def solution(s):\n",
        "    s_split = s.lower().split()\n",
        "    answer = []\n",
        "    \n",
        "    for i in s_split:\n",
        "        if i[0].isdigit():\n",
        "            answer.append(i)\n",
        "            \n",
        "        else:\n",
        "            word = i.title()\n",
        "            answer.append(word)\n",
        "            \n",
        "    answer = ' '.join(answer)\n",
        "    return answer\n",
        "\n",
        "# 다시 푼 것.\n",
        "def solution(s):\n",
        "    jaden = []\n",
        "    answer = []\n",
        "    word = ''\n",
        "    for i in s.lower():\n",
        "        if i==' ':\n",
        "            if word != '':\n",
        "                answer.append(word)\n",
        "                word = ''\n",
        "            answer.append(i)\n",
        "            \n",
        "        else:\n",
        "            word += i\n",
        "    answer.append(word)\n",
        "\n",
        "    for j in answer:\n",
        "        if j == ' ':\n",
        "            jaden.append(j)\n",
        "        elif j[0].isdigit():\n",
        "            jaden.append(j)\n",
        "        else:\n",
        "            jaden.append(j.title())\n",
        "                \n",
        "    answer = ''.join(jaden)\n",
        "    return answer\n",
        "\n",
        "\n",
        "# 위 두 개는 다 틀림.....\n",
        "# 두 번째 풀이는 테스트 케이스 한 개에서 오답인데\n",
        "# 또 다른 풀이\n",
        "def solution(s):\n",
        "    s = s.split(\" \")\n",
        "    for i in range(len(s)):\n",
        "        s[i] = s[i][:1].upper() + s[i][1:].lower()\n",
        "    return ' '.join(s)"
      ]
    }
  ]
}