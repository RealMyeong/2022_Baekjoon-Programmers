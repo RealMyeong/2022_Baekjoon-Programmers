{
  "nbformat": 4,
  "nbformat_minor": 0,
  "metadata": {
    "colab": {
      "provenance": [],
      "authorship_tag": "ABX9TyPzvYvli/vLlrinr+bzHX4C",
      "include_colab_link": true
    },
    "kernelspec": {
      "name": "python3",
      "display_name": "Python 3"
    },
    "language_info": {
      "name": "python"
    }
  },
  "cells": [
    {
      "cell_type": "markdown",
      "metadata": {
        "id": "view-in-github",
        "colab_type": "text"
      },
      "source": [
        "<a href=\"https://colab.research.google.com/github/RealMyeong/python3-study/blob/main/11/Programmers_1111.ipynb\" target=\"_parent\"><img src=\"https://colab.research.google.com/assets/colab-badge.svg\" alt=\"Open In Colab\"/></a>"
      ]
    },
    {
      "cell_type": "code",
      "execution_count": null,
      "metadata": {
        "id": "MMJIt3Uv95pn"
      },
      "outputs": [],
      "source": [
        "# 예산\n",
        "# 풀이 1\n",
        "def solution(d, budget):\n",
        "    \n",
        "    while budget < sum(d):\n",
        "        d.remove(max(d))\n",
        "    \n",
        "    return len(d)"
      ]
    },
    {
      "cell_type": "code",
      "source": [
        "# 풀이 2\n",
        "def solution(d, budget):\n",
        "    d.sort()\n",
        "    \n",
        "    cnt = 0\n",
        "    for i in d:\n",
        "        if i <= budget:\n",
        "            budget -= i\n",
        "            cnt += 1\n",
        "        else:\n",
        "            continue\n",
        "    \n",
        "    return cnt"
      ],
      "metadata": {
        "id": "oJY3P3bM9d6_"
      },
      "execution_count": null,
      "outputs": []
    }
  ]
}