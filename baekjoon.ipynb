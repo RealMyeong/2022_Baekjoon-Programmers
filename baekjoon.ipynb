{
  "nbformat": 4,
  "nbformat_minor": 0,
  "metadata": {
    "colab": {
      "name": "baekjoon.ipynb",
      "provenance": [],
      "authorship_tag": "ABX9TyNeolQSPzK2F9sCirLMaePy",
      "include_colab_link": true
    },
    "kernelspec": {
      "name": "python3",
      "display_name": "Python 3"
    },
    "language_info": {
      "name": "python"
    }
  },
  "cells": [
    {
      "cell_type": "markdown",
      "metadata": {
        "id": "view-in-github",
        "colab_type": "text"
      },
      "source": [
        "<a href=\"https://colab.research.google.com/github/RealMyeong/python3-study/blob/main/baekjoon.ipynb\" target=\"_parent\"><img src=\"https://colab.research.google.com/assets/colab-badge.svg\" alt=\"Open In Colab\"/></a>"
      ]
    },
    {
      "cell_type": "code",
      "source": [
        "\n",
        "#----백준 2525 파이썬 스마트 오븐------\n",
        "#현재 시각\n",
        "time, min = map(int, input().split())\n",
        "#요리에 소요되는 시간\n",
        "need_time = int(input())\n",
        "add_time = need_time + min\n",
        "def food():\n",
        "  if (time + add_time//60) < 24 :\n",
        "    if add_time > 60 : \n",
        "      time2 = time + add_time//60\n",
        "      min = add_time%60\n",
        "      print(time2, min)\n",
        "    else:\n",
        "      print(time, add_time)     \n",
        "  elif (time + (add_time//60)) >= 24:\n",
        "    time2 = (time + (add_time//60)) - 24\n",
        "    min = add_time % 60\n",
        "    print(time2, min)\n",
        "\n",
        "  else:\n",
        "    print(time, add_time)\n",
        "\n",
        "food()"
      ],
      "metadata": {
        "id": "Y-Syq7lBoI6T"
      },
      "execution_count": null,
      "outputs": []
    },
    {
      "cell_type": "code",
      "source": [
        "#----백준 2530 인공지능 시계----\n",
        "# 초가 60이 넘어갔을때를 고려를 안해서 틀림\n",
        "'''time, min, sec = map(int, input().split())\n",
        "need_sec = int(input())\n",
        "need_min = need_sec//60\n",
        "need_time = need_sec//3600\n",
        "sec = need_sec%60\n",
        "time += need_time\n",
        "min += need_min\n",
        "if min > 60:\n",
        "  time = time + min//60\n",
        "  min = min%60\n",
        "  if time > 24:\n",
        "    time = time - 24\n",
        "    print(time, min, sec)\n",
        "  else:\n",
        "    print(time, min, sec)\n",
        "else:\n",
        "  print(time, min, sec)'''\n",
        "\n",
        "#---수정----\n",
        "hour, min, sec = map(int, input().split())\n",
        "need_sec = int(input())\n",
        "\n",
        "sec += need_sec % 60\n",
        "need_sec = need_sec//60\n",
        "if sec >= 60:\n",
        "  sec -= 60\n",
        "  min += 1\n",
        "\n",
        "min += need_sec % 60\n",
        "need_sec = need_sec//60\n",
        "if min >= 60:\n",
        "  min -= 60\n",
        "  hour = hour + 1\n",
        "\n",
        "hour = hour + need_sec%24\n",
        "if hour >= 24:\n",
        "  hour = hour - 24\n",
        "\n",
        "print(hour, min, sec)\n",
        "\n",
        "\n"
      ],
      "metadata": {
        "id": "vR9RoEZcx_tL"
      },
      "execution_count": null,
      "outputs": []
    },
    {
      "cell_type": "code",
      "source": [
        "H, M, S = map(int, input().split())\n",
        "D = int(input()) \n",
        "\n",
        "S += D % 60\n",
        "D = D // 60\n",
        "if S >= 60:\n",
        "    S -= 60\n",
        "    M += 1\n",
        "\n",
        "M += D % 60\n",
        "D = D // 60\n",
        "if M >= 60:\n",
        "    M -= 60\n",
        "    H += 1\n",
        "\n",
        "H += D % 24\n",
        "if H >= 24:\n",
        "    H -= 24\n",
        "\n",
        "print(H,M,S)"
      ],
      "metadata": {
        "id": "OQXbjNuBcq_V"
      },
      "execution_count": null,
      "outputs": []
    },
    {
      "cell_type": "code",
      "source": [
        "import math as m\n",
        "#수록곡의 갯수와 평균값\n",
        "song, avg = map(int, input().split())\n",
        "#저작권이 있는 노래 최소 갯수\n",
        "min_copyright_song = (avg-1) * song + 1\n",
        "print(min_copyright_song)"
      ],
      "metadata": {
        "id": "bXLwRPGdePZm"
      },
      "execution_count": null,
      "outputs": []
    },
    {
      "cell_type": "code",
      "source": [
        "# 백준 파이썬 5355 화성식\n",
        "# 케이스 갯수\n",
        "t = int(input())\n",
        "# 수식 입력\n",
        "for j in range(t):\n",
        "  a = input().split()\n",
        "  b = 0\n",
        "  for i in range(len(a)):\n",
        "    if i == 0 :\n",
        "      b =+ float(a[i])\n",
        "    else :\n",
        "      if a[i] == '@':\n",
        "        b = b * 3\n",
        "      elif a[i] == '%':\n",
        "        b = b + 5\n",
        "      elif a[i] == '#':\n",
        "        b = b - 7\n",
        "  print('%.2f' % b)\n"
      ],
      "metadata": {
        "id": "inQrxfVPhwQq"
      },
      "execution_count": null,
      "outputs": []
    },
    {
      "cell_type": "code",
      "source": [
        "# 백준 파이썬 2675 문자 반복\n",
        "t = int(input())\n",
        "for i in range(t): #변수 부분 '_'로 대체 가능\n",
        "  a, b = input().split()\n",
        "  for i in range(len(b)) : #바로 문자열로 범위 지정 가능\n",
        "    print(int(a)*b[i], end = '')\n",
        "  print()\n",
        "\n",
        "#t에 바로 입력 안하고 range에 바로 인풋을 받아버리는 방법도 있음."
      ],
      "metadata": {
        "id": "YkmdHBGNEfkt"
      },
      "execution_count": null,
      "outputs": []
    },
    {
      "cell_type": "code",
      "source": [
        "# 백준 파이썬 2935\n",
        "a = int(input())\n",
        "b = input()\n",
        "c = int(input())\n",
        "if b == '+' :\n",
        "  print(a+c)\n",
        "elif b == '*':\n",
        "  print(a*c)"
      ],
      "metadata": {
        "id": "9aaRZygCLNkU"
      },
      "execution_count": null,
      "outputs": []
    },
    {
      "cell_type": "code",
      "source": [
        "# 백준 파이썬 9498 학점\n",
        "a = int(input())\n",
        "if 90<= a <= 100 :\n",
        "  print('A')\n",
        "elif 80<= a < 90 :\n",
        "  print('B')\n",
        "elif 70<= a < 80 :\n",
        "  print('C')\n",
        "elif 60<= a < 70 :\n",
        "  print('D')\n",
        "elif 0<= a <60 :\n",
        "  print('F')"
      ],
      "metadata": {
        "id": "56H8db12Lyj_"
      },
      "execution_count": null,
      "outputs": []
    },
    {
      "cell_type": "code",
      "source": [
        "# 백준 파이썬 10817 2번째로 큰 수\n",
        "a = list(map(int, input().split()))\n",
        "for j in range(len(a)-1):\n",
        "  for i in range(len(a)-1):\n",
        "    if (a[i]) > (a[i+1]):\n",
        "      a[i], a[i+1] = a[i+1], a[i]\n",
        "print(a[-2])\n"
      ],
      "metadata": {
        "id": "EARYpNEEMpHL"
      },
      "execution_count": null,
      "outputs": []
    },
    {
      "cell_type": "code",
      "source": [
        "# 백준 파이썬 11653 소인수분해\n",
        "a = int(input())\n",
        "if a == 1 :\n",
        "  print('')\n",
        "\n",
        "for i in range(2,a+1):\n",
        "  if a % i == 0 :\n",
        "    while a % i == 0:\n",
        "      print(i)\n",
        "      a = a / i\n",
        "\n"
      ],
      "metadata": {
        "id": "4uFsX5haanfw"
      },
      "execution_count": null,
      "outputs": []
    },
    {
      "cell_type": "code",
      "source": [
        "# 백준 파이썬 1789 수들의 합\n",
        "a = int(input())\n",
        "i = 1\n"
      ],
      "metadata": {
        "id": "4C0wkuAA2HCt"
      },
      "execution_count": null,
      "outputs": []
    },
    {
      "cell_type": "code",
      "source": [
        "#백준 10250 ACM호텔\n",
        "t = int(input())\n",
        "h, w, n = map(int,input().split())\n",
        "room = []\n",
        "for i in range(h):\n",
        "  line = []\n",
        "  for j in range(w):\n",
        "    line.append(0)\n",
        "  room.append(line)\n",
        "\n",
        "for j in range(w):\n",
        "  for k in range(h):\n",
        "    if room[k][j]==0:\n",
        "      room[k][j]=(100*(k+1))+(j+1)\n",
        "\n",
        "for i in range(t):\n",
        "  print(room[(n%h)-1][n//h])"
      ],
      "metadata": {
        "id": "hE4e2Y6XnX-U"
      },
      "execution_count": null,
      "outputs": []
    },
    {
      "cell_type": "code",
      "source": [
        "#백준 11726 2xn 타일링\n",
        "\n",
        "memory = {1:1, 2:2}\n",
        "def tile(n):\n",
        "    if n <= 3:\n",
        "      return n\n",
        "    elif 3<n<1001 :\n",
        "      return tile(n-2) + tile(n-1)\n",
        "\n",
        "print((tile(int(input()))%10007))"
      ],
      "metadata": {
        "id": "MBhZke4GRno8"
      },
      "execution_count": null,
      "outputs": []
    },
    {
      "cell_type": "code",
      "source": [
        ""
      ],
      "metadata": {
        "id": "p9K4LrBvawZY"
      },
      "execution_count": null,
      "outputs": []
    },
    {
      "cell_type": "code",
      "source": [
        "\n",
        "def solution(s):\n",
        "\n",
        "    if s[0] != '0' and 1<=len(s)<=5:\n",
        "        answer = (int(s))\n",
        "        return answer\n",
        "        print(answer)\n",
        "\n"
      ],
      "metadata": {
        "colab": {
          "base_uri": "https://localhost:8080/"
        },
        "id": "laLK1QovxBKG",
        "outputId": "691aac2b-249b-4dcd-a52b-8175c0b73659"
      },
      "execution_count": null,
      "outputs": [
        {
          "name": "stdout",
          "output_type": "stream",
          "text": [
            "1234\n"
          ]
        },
        {
          "output_type": "execute_result",
          "data": {
            "text/plain": [
              "1234"
            ]
          },
          "metadata": {},
          "execution_count": 7
        }
      ]
    },
    {
      "cell_type": "code",
      "source": [
        "def solution(n):\n",
        "    answer = ''\n",
        "    if n <= 10000 :\n",
        "        for i in range(n) :\n",
        "            if i % 2 == 0:\n",
        "                answer += '수'\n",
        "            else:\n",
        "                answer += '박'\n",
        "        return answer\n",
        "    print(answer)\n",
        "\n",
        "\n",
        "solution(2)"
      ],
      "metadata": {
        "colab": {
          "base_uri": "https://localhost:8080/",
          "height": 36
        },
        "id": "f8H9R8lK07go",
        "outputId": "e38aa5fa-ed0e-40cb-c1c8-cd877f516200"
      },
      "execution_count": null,
      "outputs": [
        {
          "output_type": "execute_result",
          "data": {
            "text/plain": [
              "'수박'"
            ],
            "application/vnd.google.colaboratory.intrinsic+json": {
              "type": "string"
            }
          },
          "metadata": {},
          "execution_count": 54
        }
      ]
    },
    {
      "cell_type": "code",
      "source": [
        "memory = {1: 1, 2: 1}\n",
        "\n",
        "def fibonacci(n):\n",
        "    if n in memory:\n",
        "        number = memory[n]\n",
        "    else:\n",
        "       number = fibonacci(n-1) + fibonacci(n-2)\n",
        "       memory[n] = number\n",
        "    return number\n",
        "\n",
        "print(fibonacci(100))\n",
        "\n",
        "\n"
      ],
      "metadata": {
        "colab": {
          "base_uri": "https://localhost:8080/"
        },
        "id": "S3YDmMba522f",
        "outputId": "76e05b5a-75ae-4d8a-f957-00af01bc6f02"
      },
      "execution_count": null,
      "outputs": [
        {
          "output_type": "stream",
          "name": "stdout",
          "text": [
            "354224848179261915075\n"
          ]
        }
      ]
    },
    {
      "cell_type": "code",
      "source": [
        "n = int(input())\n",
        "dp =[0]*10000\n",
        "dp[1],dp[2] = 1,2\n",
        "for i in range(3,10000):\n",
        "    dp[i] = dp[i-2]+dp[i-1]\n",
        "\n",
        "print(dp[n])"
      ],
      "metadata": {
        "colab": {
          "base_uri": "https://localhost:8080/"
        },
        "id": "FWrHaVYl-t_m",
        "outputId": "82091a74-72fb-44e3-e1a4-eb6f0f5c61ea"
      },
      "execution_count": null,
      "outputs": [
        {
          "output_type": "stream",
          "name": "stdout",
          "text": [
            "40\n",
            "165580141\n"
          ]
        }
      ]
    },
    {
      "cell_type": "code",
      "source": [
        "#내맘대로 문자열\n",
        "\n",
        "def solution(strings, n):\n",
        "  list_len = len(strings)\n",
        "  for i in range(list_len):\n",
        "    for j in range(1,list_len):\n",
        "      if strings[j-1][n] > strings[j][n]:\n",
        "        strings[j-1], strings[j] = strings[j], strings[j-1]\n",
        "      elif strings[j-1][n] == strings[j][n]:\n",
        "        if strings[j-1] > strings[j]:\n",
        "          strings[j-1], strings[j] = strings[j], strings[j-1]\n",
        "  return strings\n",
        "\n",
        "print(solution([\"abce\", \"abcd\", \"cdx\", \"cdef\", \"fee\", \"abx\"], 2))"
      ],
      "metadata": {
        "colab": {
          "base_uri": "https://localhost:8080/"
        },
        "id": "AvYd8j7i-w4b",
        "outputId": "b6611791-6842-47e8-e7a3-2c7eadd91978"
      },
      "execution_count": null,
      "outputs": [
        {
          "output_type": "stream",
          "name": "stdout",
          "text": [
            "['abcd', 'abce', 'cdef', 'fee', 'abx', 'cdx']\n"
          ]
        }
      ]
    },
    {
      "cell_type": "code",
      "source": [
        "def strange_sort(strings, n):\n",
        "    '''strings의 문자열들을 n번째 글자를 기준으로 정렬해서 return하세요'''\n",
        "    return sorted(strings, key=lambda x: x[n])\n",
        "\n",
        "strings = [\"abce\", \"abcd\", \"cdx\", \"cdef\", \"fee\", \"abx\"] \n",
        "print(strange_sort(strings, 2))"
      ],
      "metadata": {
        "colab": {
          "base_uri": "https://localhost:8080/"
        },
        "id": "uFoPjxIaFZio",
        "outputId": "9c54b53a-d54c-416b-924a-809e83fa975f"
      },
      "execution_count": null,
      "outputs": [
        {
          "output_type": "stream",
          "name": "stdout",
          "text": [
            "['abce', 'abcd', 'cdef', 'fee', 'cdx', 'abx']\n"
          ]
        }
      ]
    },
    {
      "cell_type": "code",
      "source": [
        "# 백준 14916\n",
        "\n",
        "# 거스름돈은 2원, 5원 / 거스름돈은 동전의 갯수가 최소\n",
        "\n",
        "money = int(input())\n",
        "\n",
        "a = [-1, 1, -1, 2, 1, 3, 2, 4, 3, 2] \n",
        "b = [4, 3, 5, 4, 3, 5, 4, 6, 5, 4] \n",
        "\n",
        "if money <= 10:\n",
        "  print(a[money-1])\n",
        "else:\n",
        "  print(b[(money%10)-1]+(2*((money//10)-1)))\n"
      ],
      "metadata": {
        "colab": {
          "base_uri": "https://localhost:8080/"
        },
        "id": "Ue7OLak2XvLZ",
        "outputId": "a69325d9-324a-41d7-8314-ee065abd4ac3"
      },
      "execution_count": null,
      "outputs": [
        {
          "output_type": "stream",
          "name": "stdout",
          "text": [
            "213342\n",
            "42669\n"
          ]
        }
      ]
    },
    {
      "cell_type": "code",
      "source": [
        "\n",
        "money = int(input())\n",
        "\n",
        "count = 0\n",
        "\n",
        "while True:\n",
        "  if money % 5 == 0:\n",
        "    count += money//5\n",
        "    break\n",
        "  else:\n",
        "    money -= 2\n",
        "    count += 1\n",
        "  if money <0:\n",
        "    break\n",
        "  \n",
        "if money<0:\n",
        "  print(-1)\n",
        "else:\n",
        "  print(count)\n",
        "\n",
        "\n"
      ],
      "metadata": {
        "colab": {
          "base_uri": "https://localhost:8080/"
        },
        "id": "IPZdwkdBdfOU",
        "outputId": "d4c75985-3152-4c69-cc3e-e336764f5cd1"
      },
      "execution_count": null,
      "outputs": [
        {
          "output_type": "stream",
          "name": "stdout",
          "text": [
            "213342\n",
            "42669\n"
          ]
        }
      ]
    },
    {
      "cell_type": "code",
      "source": [
        "## 백준 1789 수들의 합\n",
        "\n",
        "s = int(input())\n",
        "n = 1\n",
        "\n",
        "while (n*(n+1))/2 <= s:\n",
        "  n = n + 1\n",
        "\n",
        "print(n-1)\n",
        "\n",
        "  \n"
      ],
      "metadata": {
        "colab": {
          "base_uri": "https://localhost:8080/"
        },
        "id": "lRVcjZ1LoQ5_",
        "outputId": "7330574d-084e-43ff-8a5a-e6a8cf4e9a81"
      },
      "execution_count": null,
      "outputs": [
        {
          "output_type": "stream",
          "name": "stdout",
          "text": [
            "200\n",
            "19\n"
          ]
        }
      ]
    },
    {
      "cell_type": "code",
      "source": [
        "# 백준 2753 윤년\n",
        "year = int(input())\n",
        "\n",
        "if year %4 ==0 and year % 100 != 0:\n",
        "  print(1)\n",
        "elif year % 400 == 0:\n",
        "  print(1)\n",
        "else:\n",
        "  print(0)\n"
      ],
      "metadata": {
        "colab": {
          "base_uri": "https://localhost:8080/"
        },
        "id": "MvGfpajSJ43W",
        "outputId": "0ab7d154-ee92-4823-e11d-f356ac26d8fb"
      },
      "execution_count": null,
      "outputs": [
        {
          "output_type": "stream",
          "name": "stdout",
          "text": [
            "2012\n",
            "1\n"
          ]
        }
      ]
    },
    {
      "cell_type": "code",
      "source": [
        "# 백준 10039 평균 점수\n",
        "\n",
        "score = []\n",
        "for i in range(5):\n",
        "  score.append(int(input()))\n",
        "\n",
        "for j in range(5):\n",
        "  if score[j] <40:\n",
        "    score[j] = 40\n",
        "\n",
        "print(int(sum(score)/5))\n",
        "\n"
      ],
      "metadata": {
        "id": "sWQm2tiRLaev"
      },
      "execution_count": null,
      "outputs": []
    },
    {
      "cell_type": "code",
      "source": [
        "# 백준 1934 최소공배수\n",
        "# 1 번답 시간초과\n",
        "t = int(input())\n",
        "for i in range(t):\n",
        "  n = 1\n",
        "  a, b = map(int, input().split())\n",
        "  while n <= (a * b):\n",
        "    if n % a == 0 and n % b == 0 :\n",
        "      print(n)\n",
        "      break\n",
        "    else:\n",
        "      n += 1\n",
        "\n",
        "\n",
        "## 유클리드 호제법 풀이\n",
        "def gcd(x, y):  #최대공약수 구하기\n",
        "  if y == 0:\n",
        "    return x\n",
        "  else:\n",
        "    return gcd(y, x%y)\n",
        "  \n",
        "def lcm(x, y):  ## 최소공배수 구하기\n",
        "  result = (x*y) // gcd(x,y)\n",
        "  return result\n",
        "\n",
        "num = int(input())\n",
        "for i in range(num):\n",
        "  x, y = map(int, input().split())\n",
        "  print(lcm(x, y))"
      ],
      "metadata": {
        "colab": {
          "base_uri": "https://localhost:8080/"
        },
        "id": "4xvxMekOXIoj",
        "outputId": "e886b085-1070-408f-b847-713731b731dc"
      },
      "execution_count": null,
      "outputs": [
        {
          "output_type": "stream",
          "name": "stdout",
          "text": [
            "3\n",
            "10 333\n",
            "3330\n",
            "52 22\n",
            "572\n",
            "13 17\n",
            "221\n"
          ]
        }
      ]
    },
    {
      "cell_type": "code",
      "source": [
        "# 백준 2480 주사위 세개\n",
        "a = list(map(int, input().split()))\n",
        "same_count=[]\n",
        "for i in range(1,7):\n",
        "  same_count.append(a.count(i))\n",
        "if max(same_count)==3 :\n",
        "  same_num = same_count.index(3)+1\n",
        "  print(10000+1000*same_num)\n",
        "elif max(same_count)==2:\n",
        "  same_num = same_count.index(2)+1\n",
        "  print(1000+100*same_num)\n",
        "elif max(same_count)==1:\n",
        "  print(100*max(a))"
      ],
      "metadata": {
        "colab": {
          "base_uri": "https://localhost:8080/"
        },
        "id": "PYQ0INpxjDof",
        "outputId": "69b790bc-b1d8-4ba2-8799-ad1908104ddc"
      },
      "execution_count": 18,
      "outputs": [
        {
          "output_type": "stream",
          "name": "stdout",
          "text": [
            "2 3 3 4 4 4 5\n",
            "14000\n"
          ]
        }
      ]
    },
    {
      "cell_type": "code",
      "source": [
        "# 백준 4101 크냐?\n",
        "\n",
        "while True:\n",
        "  a, b = map(int, input().split())\n",
        "  if a==0 and b==0:\n",
        "    break\n",
        "  elif a > b :\n",
        "    print('Yes')\n",
        "  else:\n",
        "    print('No')\n",
        "\n"
      ],
      "metadata": {
        "colab": {
          "base_uri": "https://localhost:8080/"
        },
        "id": "_lYSJjNnqSmJ",
        "outputId": "25e8c98d-fceb-4bd6-ec78-8f4ef4476fed"
      },
      "execution_count": 20,
      "outputs": [
        {
          "name": "stdout",
          "output_type": "stream",
          "text": [
            "19 20\n",
            "No\n",
            "20 1\n",
            "Yes\n",
            "0 0\n"
          ]
        }
      ]
    }
  ]
}