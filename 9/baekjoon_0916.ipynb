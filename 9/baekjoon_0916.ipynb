{
  "nbformat": 4,
  "nbformat_minor": 0,
  "metadata": {
    "colab": {
      "provenance": [],
      "authorship_tag": "ABX9TyMDttVOMQ2sLlqSYp/+dYb/",
      "include_colab_link": true
    },
    "kernelspec": {
      "name": "python3",
      "display_name": "Python 3"
    },
    "language_info": {
      "name": "python"
    }
  },
  "cells": [
    {
      "cell_type": "markdown",
      "metadata": {
        "id": "view-in-github",
        "colab_type": "text"
      },
      "source": [
        "<a href=\"https://colab.research.google.com/github/RealMyeong/python3-study/blob/main/9/baekjoon_0916.ipynb\" target=\"_parent\"><img src=\"https://colab.research.google.com/assets/colab-badge.svg\" alt=\"Open In Colab\"/></a>"
      ]
    },
    {
      "cell_type": "code",
      "execution_count": 2,
      "metadata": {
        "colab": {
          "base_uri": "https://localhost:8080/"
        },
        "id": "aoujDHq0Nnik",
        "outputId": "990150c1-6a05-42a1-b4c3-7c9a61a6d578"
      },
      "outputs": [
        {
          "name": "stdout",
          "output_type": "stream",
          "text": [
            "5\n",
            "0 4\n",
            "1 2\n",
            "1 -1\n",
            "2 2\n",
            "3 3\n"
          ]
        }
      ],
      "source": [
        "# 백준 11651 좌표 정렬하기 2\n",
        "n = int(input())\n",
        "dot_yx = []\n",
        "for _ in range(n):\n",
        "  x, y = map(int, input().split())\n",
        "  dot_yx.append([y,x])\n",
        "dot_yx.sort()\n",
        "for i in dot_yx:\n",
        "  print(i[1], i[0])"
      ]
    }
  ]
}