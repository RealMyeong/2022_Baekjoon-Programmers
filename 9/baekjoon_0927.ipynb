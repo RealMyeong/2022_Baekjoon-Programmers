{
  "nbformat": 4,
  "nbformat_minor": 0,
  "metadata": {
    "colab": {
      "provenance": [],
      "authorship_tag": "ABX9TyMp69gjeijyhcNL+XAve7Fg",
      "include_colab_link": true
    },
    "kernelspec": {
      "name": "python3",
      "display_name": "Python 3"
    },
    "language_info": {
      "name": "python"
    }
  },
  "cells": [
    {
      "cell_type": "markdown",
      "metadata": {
        "id": "view-in-github",
        "colab_type": "text"
      },
      "source": [
        "<a href=\"https://colab.research.google.com/github/RealMyeong/python3-study/blob/main/9/baekjoon_0927.ipynb\" target=\"_parent\"><img src=\"https://colab.research.google.com/assets/colab-badge.svg\" alt=\"Open In Colab\"/></a>"
      ]
    },
    {
      "cell_type": "code",
      "execution_count": 1,
      "metadata": {
        "colab": {
          "base_uri": "https://localhost:8080/"
        },
        "id": "6vxBNBXd8YH1",
        "outputId": "9882a13c-a3bb-4b42-a536-f6507b31e9d8"
      },
      "outputs": [
        {
          "output_type": "stream",
          "name": "stdout",
          "text": [
            "5 11\n",
            "baekjoononlinejudge\n",
            "startlink\n",
            "codeplus\n",
            "sundaycoding\n",
            "codingsh\n",
            "baekjoon\n",
            "codeplus\n",
            "codeminus\n",
            "startlink\n",
            "starlink\n",
            "sundaycoding\n",
            "codingsh\n",
            "codinghs\n",
            "sondaycoding\n",
            "startrink\n",
            "icerink\n",
            "4\n"
          ]
        }
      ],
      "source": [
        "# 백준 14425 문자열 집합\n",
        "\n",
        "n, m = map(int, input().split())\n",
        "sen_1 = []\n",
        "sen_2 = []\n",
        "for i in range(n+m):\n",
        "  sentence = input()\n",
        "  if i < n :\n",
        "    sen_1.append(sentence)\n",
        "  else:\n",
        "    sen_2.append(sentence)\n",
        "\n",
        "set_1 = set(sen_1)\n",
        "\n",
        "cnt=0\n",
        "for i in sen_2:\n",
        "  if i in set_1:\n",
        "    cnt+=1\n",
        "print(cnt)"
      ]
    }
  ]
}