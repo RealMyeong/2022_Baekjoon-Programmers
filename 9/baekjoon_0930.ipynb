{
  "nbformat": 4,
  "nbformat_minor": 0,
  "metadata": {
    "colab": {
      "provenance": [],
      "authorship_tag": "ABX9TyOrYuowpi/u9DUq4G5AUItZ",
      "include_colab_link": true
    },
    "kernelspec": {
      "name": "python3",
      "display_name": "Python 3"
    },
    "language_info": {
      "name": "python"
    }
  },
  "cells": [
    {
      "cell_type": "markdown",
      "metadata": {
        "id": "view-in-github",
        "colab_type": "text"
      },
      "source": [
        "<a href=\"https://colab.research.google.com/github/RealMyeong/python3-study/blob/main/9/baekjoon_0930.ipynb\" target=\"_parent\"><img src=\"https://colab.research.google.com/assets/colab-badge.svg\" alt=\"Open In Colab\"/></a>"
      ]
    },
    {
      "cell_type": "code",
      "execution_count": null,
      "metadata": {
        "id": "-DHb5Vk9XnNx"
      },
      "outputs": [],
      "source": [
        "# 백준 1764 듣보잡\n",
        "import sys\n",
        "input = sys.stdin.readline\n",
        "\n",
        "n, m = map(int, input().split())\n",
        "not_heard = set([input().strip() for _ in range(n)]) # 보지도 못한놈들 집합\n",
        "not_seen = set([input().strip() for _ in range(m)]) # 듣지도 못한놈들 집합\n",
        "\n",
        "not_h_s = list(not_heard & not_seen) # 듣도 보도 못한놈들 집합 ( 보지도 못한놈들 집합과 듣지도 못한놈들 집합의 교집합)\n",
        "not_h_s.sort() # 사전 순 출력을 위해 정렬해줌\n",
        "\n",
        "print(len(not_h_s))\n",
        "for i in not_h_s:\n",
        "  print(i)"
      ]
    }
  ]
}