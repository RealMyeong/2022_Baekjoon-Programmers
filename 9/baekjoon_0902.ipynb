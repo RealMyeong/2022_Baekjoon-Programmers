{
  "nbformat": 4,
  "nbformat_minor": 0,
  "metadata": {
    "colab": {
      "provenance": [],
      "authorship_tag": "ABX9TyMVng/ygCBP/bKwRUbLWe2A",
      "include_colab_link": true
    },
    "kernelspec": {
      "name": "python3",
      "display_name": "Python 3"
    },
    "language_info": {
      "name": "python"
    }
  },
  "cells": [
    {
      "cell_type": "markdown",
      "metadata": {
        "id": "view-in-github",
        "colab_type": "text"
      },
      "source": [
        "<a href=\"https://colab.research.google.com/github/RealMyeong/python3-study/blob/main/9/baekjoon_0902.ipynb\" target=\"_parent\"><img src=\"https://colab.research.google.com/assets/colab-badge.svg\" alt=\"Open In Colab\"/></a>"
      ]
    },
    {
      "cell_type": "code",
      "execution_count": 2,
      "metadata": {
        "colab": {
          "base_uri": "https://localhost:8080/"
        },
        "id": "gSDPcVLMEuRU",
        "outputId": "2127d316-4525-4cbb-e913-eefc12821ce3"
      },
      "outputs": [
        {
          "output_type": "stream",
          "name": "stdout",
          "text": [
            "1\n",
            "4\n",
            "3\n",
            "21\n"
          ]
        }
      ],
      "source": [
        "# 백준 2775 부녀회장이 될테야\n",
        "t = int(input())\n",
        "for _ in range(t):\n",
        "  k = int(input())\n",
        "  n = int(input())\n",
        "  f_0 = []\n",
        "  for u in range(1,n+1):\n",
        "    f_0.append(u)\n",
        "  for i in range(k):\n",
        "    for j in range(1, n):\n",
        "      f_0[j] += f_0[j-1]\n",
        "  print(f_0[-1])"
      ]
    }
  ]
}