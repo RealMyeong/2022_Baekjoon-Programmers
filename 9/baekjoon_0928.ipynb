{
  "nbformat": 4,
  "nbformat_minor": 0,
  "metadata": {
    "colab": {
      "provenance": [],
      "authorship_tag": "ABX9TyOr/17XSk5M95nExhZ7Cg3c",
      "include_colab_link": true
    },
    "kernelspec": {
      "name": "python3",
      "display_name": "Python 3"
    },
    "language_info": {
      "name": "python"
    }
  },
  "cells": [
    {
      "cell_type": "markdown",
      "metadata": {
        "id": "view-in-github",
        "colab_type": "text"
      },
      "source": [
        "<a href=\"https://colab.research.google.com/github/RealMyeong/python3-study/blob/main/9/baekjoon_0928.ipynb\" target=\"_parent\"><img src=\"https://colab.research.google.com/assets/colab-badge.svg\" alt=\"Open In Colab\"/></a>"
      ]
    },
    {
      "cell_type": "code",
      "execution_count": 2,
      "metadata": {
        "colab": {
          "base_uri": "https://localhost:8080/"
        },
        "id": "G4C7PkmTHyBB",
        "outputId": "f78ed21a-9a55-45dd-dc87-38b9c3450407"
      },
      "outputs": [
        {
          "name": "stdout",
          "output_type": "stream",
          "text": [
            "10 1\n",
            "Bulbasaur\n",
            "Ivysaur\n",
            "Venusaur\n",
            "Charmander\n",
            "Charmeleon\n",
            "Charizard\n",
            "Squirtle\n",
            "Wartortle\n",
            "Blastoise\n",
            "Caterpie\n"
          ]
        }
      ],
      "source": [
        "# 백준 1620 나는야 포켓몬 마스터 이다솜\n",
        "# n : 포켓몬의 개수\n",
        "# m : 맞춰야 하는 문제의 개수\n",
        "import sys\n",
        "input = sys.stdin.readline\n",
        "n, m = map(int, input().split())\n",
        "\n",
        "pname2index = {}  \n",
        "for i in range(n):\n",
        "  name = input().strip()\n",
        "  pname2index[name] = str(i+1)\n",
        "\n",
        "index2pname = {index : name for name, index in pname2index.items()}\n",
        "\n",
        "for _ in range(m):\n",
        "  q = input().strip()\n",
        "  if q in pname2index:\n",
        "    print(pname2index[q])\n",
        "  else:\n",
        "    print(index2pname[q])"
      ]
    },
    {
      "cell_type": "code",
      "source": [
        "import sys\n",
        "input = sys.stdin.readline\n",
        "n, m = map(int, input().split())\n",
        "\n",
        "pname2index = {}\n",
        "for i in range(n):\n",
        "  name = input().strip()\n",
        "  pname2index[name] = i+1\n",
        "  pname2index[i+1] = name\n",
        "\n",
        "  \n",
        "for _ in range(m):\n",
        "  q = input().strip()\n",
        "  if q.isdigit():\n",
        "    print(pname2index[int(q)])\n",
        "  else:\n",
        "    print(pname2index[q])"
      ],
      "metadata": {
        "id": "2B5e1lU4NSyw"
      },
      "execution_count": null,
      "outputs": []
    }
  ]
}