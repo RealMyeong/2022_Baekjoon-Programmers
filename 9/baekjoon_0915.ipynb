{
  "nbformat": 4,
  "nbformat_minor": 0,
  "metadata": {
    "colab": {
      "provenance": [],
      "authorship_tag": "ABX9TyPsQ5M1sX5Ljx+TyM3mIMe9",
      "include_colab_link": true
    },
    "kernelspec": {
      "name": "python3",
      "display_name": "Python 3"
    },
    "language_info": {
      "name": "python"
    }
  },
  "cells": [
    {
      "cell_type": "markdown",
      "metadata": {
        "id": "view-in-github",
        "colab_type": "text"
      },
      "source": [
        "<a href=\"https://colab.research.google.com/github/RealMyeong/python3-study/blob/main/9/baekjoon_0915.ipynb\" target=\"_parent\"><img src=\"https://colab.research.google.com/assets/colab-badge.svg\" alt=\"Open In Colab\"/></a>"
      ]
    },
    {
      "cell_type": "code",
      "execution_count": 24,
      "metadata": {
        "colab": {
          "base_uri": "https://localhost:8080/"
        },
        "id": "12JZVPAWSGDk",
        "outputId": "7816b550-001d-4e5e-849e-cd86d22da3fe"
      },
      "outputs": [
        {
          "output_type": "stream",
          "name": "stdout",
          "text": [
            "6\n",
            "1 2\n",
            "1 -1\n",
            "2 1\n",
            "3 -1\n",
            "3 -5\n",
            "4 1\n",
            "1 -1\n",
            "1 2\n",
            "2 1\n",
            "3 -1\n",
            "3 -5\n",
            "4 1\n"
          ]
        }
      ],
      "source": [
        "# 백준 11650 좌표 정렬하기\n",
        "n = int(input())\n",
        "x_list = []\n",
        "for _ in range(n):\n",
        "  a = input().split()\n",
        "  x_list.append(a)\n",
        "\n",
        "x_list.sort()\n",
        "for i in x_list:\n",
        "  print(' '.join(i))"
      ]
    },
    {
      "cell_type": "markdown",
      "source": [
        "위에는 그냥 틀렸다고 나옴.... 문자열로 출력해서 그런가?"
      ],
      "metadata": {
        "id": "NaDk00txaVz2"
      }
    },
    {
      "cell_type": "code",
      "source": [
        "n = int(input())\n",
        "x_list = []\n",
        "for _ in range(n):\n",
        "  a = list(map(int, input().split()))\n",
        "  x_list.append(a)\n",
        "\n",
        "x_list.sort()\n",
        "for i in range(n):\n",
        "  print(x_list[i][0], x_list[i][1])"
      ],
      "metadata": {
        "colab": {
          "base_uri": "https://localhost:8080/"
        },
        "id": "0mGwygwHZZj3",
        "outputId": "8a8d199c-3397-4325-87fd-4f1bf331fbb4"
      },
      "execution_count": 26,
      "outputs": [
        {
          "output_type": "stream",
          "name": "stdout",
          "text": [
            "6\n",
            "1 2\n",
            "1 -1\n",
            "2 1\n",
            "3 -1\n",
            "3 -5\n",
            "4 1\n",
            "1 -1\n",
            "1 2\n",
            "2 1\n",
            "3 -5\n",
            "3 -1\n",
            "4 1\n"
          ]
        }
      ]
    }
  ]
}