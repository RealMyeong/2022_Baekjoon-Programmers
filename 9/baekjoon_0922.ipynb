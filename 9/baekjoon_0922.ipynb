{
  "nbformat": 4,
  "nbformat_minor": 0,
  "metadata": {
    "colab": {
      "provenance": [],
      "authorship_tag": "ABX9TyM+86FMVu79u4u1PWa1GgFi",
      "include_colab_link": true
    },
    "kernelspec": {
      "name": "python3",
      "display_name": "Python 3"
    },
    "language_info": {
      "name": "python"
    }
  },
  "cells": [
    {
      "cell_type": "markdown",
      "metadata": {
        "id": "view-in-github",
        "colab_type": "text"
      },
      "source": [
        "<a href=\"https://colab.research.google.com/github/RealMyeong/python3-study/blob/main/9/baekjoon_0922.ipynb\" target=\"_parent\"><img src=\"https://colab.research.google.com/assets/colab-badge.svg\" alt=\"Open In Colab\"/></a>"
      ]
    },
    {
      "cell_type": "code",
      "execution_count": 31,
      "metadata": {
        "colab": {
          "base_uri": "https://localhost:8080/"
        },
        "id": "8u36SuqrOB69",
        "outputId": "4212c693-4c12-4695-9a1d-498eb8a88c95"
      },
      "outputs": [
        {
          "output_type": "stream",
          "name": "stdout",
          "text": [
            "1\n",
            "0\n"
          ]
        }
      ],
      "source": [
        "# 백준 2231 분해합\n",
        "n = input()\n",
        "n_list = list(map(int, n))\n",
        "n_len = len(n_list)\n",
        "\n",
        "generator_list = []\n",
        "\n",
        "for i in range(10 * n_len):\n",
        "  num = int(n) - i\n",
        "  if num < 0 :\n",
        "    break\n",
        "  num_list = list(map(int, str(num)))\n",
        "  create_num = num + sum(num_list)\n",
        "  if create_num == int(n):\n",
        "    generator_list.append(num)\n",
        "\n",
        "\n",
        "if len(generator_list) == 0:\n",
        "  print(0)\n",
        "else:\n",
        "  print(min(generator_list))"
      ]
    }
  ]
}