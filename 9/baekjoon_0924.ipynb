{
  "nbformat": 4,
  "nbformat_minor": 0,
  "metadata": {
    "colab": {
      "provenance": [],
      "authorship_tag": "ABX9TyOhEmcNRn9TxZJS/93pi9nD",
      "include_colab_link": true
    },
    "kernelspec": {
      "name": "python3",
      "display_name": "Python 3"
    },
    "language_info": {
      "name": "python"
    }
  },
  "cells": [
    {
      "cell_type": "markdown",
      "metadata": {
        "id": "view-in-github",
        "colab_type": "text"
      },
      "source": [
        "<a href=\"https://colab.research.google.com/github/RealMyeong/python3-study/blob/main/9/baekjoon_0924.ipynb\" target=\"_parent\"><img src=\"https://colab.research.google.com/assets/colab-badge.svg\" alt=\"Open In Colab\"/></a>"
      ]
    },
    {
      "cell_type": "code",
      "execution_count": 6,
      "metadata": {
        "colab": {
          "base_uri": "https://localhost:8080/"
        },
        "id": "C9WCwESjxhQg",
        "outputId": "eed78ffa-fc5e-4752-cd86-b5fabe1d0cdb"
      },
      "outputs": [
        {
          "output_type": "stream",
          "name": "stdout",
          "text": [
            "10 13\n",
            "BBBBBBBBWBWBW\n",
            "BBBBBBBBBWBWB\n",
            "BBBBBBBBWBWBW\n",
            "BBBBBBBBBWBWB\n",
            "BBBBBBBBWBWBW\n",
            "BBBBBBBBBWBWB\n",
            "BBBBBBBBWBWBW\n",
            "BBBBBBBBBWBWB\n",
            "WWWWWWWWWWBWB\n",
            "WWWWWWWWWWBWB\n",
            "[32, 4, 4, 4, 4, 4, 4, 0, 1, 1, 1, 1, 4, 0, 1, 1, 1, 1]\n"
          ]
        }
      ],
      "source": [
        "# 백준 1018 체스판 다시 칠하기\n",
        "m, n = map(int, input().split())\n",
        "\n",
        "plate = []\n",
        "for _ in range(m):\n",
        "  plate.append(list(input()))\n",
        "\n",
        "need_draw_square=[]\n",
        "\n",
        "for i in range(m-7):\n",
        "  for j in range(n-7):\n",
        "    cnt = 0 # 몇 번 색칠하는지\n",
        "    for w in range(8):\n",
        "      for v in range(7):\n",
        "        if plate[i+w][j+v] != plate[i+w][j+v+1]:\n",
        "          pass\n",
        "        elif plate[i+w][j+v] == plate[i+w][j+v+1]:\n",
        "          if plate[i+w][j+v] == 'W':\n",
        "            plate[i+w][j+v+1] = 'B'\n",
        "            cnt += 1\n",
        "          elif plate[i+w][j+v] == 'B':\n",
        "            plate[i+w][j+v+1] = 'W'\n",
        "            cnt += 1\n",
        "    need_draw_square.append(cnt)\n",
        "\n",
        "print(need_draw_square)\n"
      ]
    },
    {
      "cell_type": "code",
      "source": [
        "plate"
      ],
      "metadata": {
        "colab": {
          "base_uri": "https://localhost:8080/"
        },
        "id": "m8Oj2fEI6RfL",
        "outputId": "ebd3fc81-2260-40c0-be37-54b057368289"
      },
      "execution_count": 8,
      "outputs": [
        {
          "output_type": "execute_result",
          "data": {
            "text/plain": [
              "[['B', 'W', 'B', 'W', 'B', 'W', 'B', 'W', 'B', 'W', 'B', 'W', 'B'],\n",
              " ['B', 'W', 'B', 'W', 'B', 'W', 'B', 'W', 'B', 'W', 'B', 'W', 'B'],\n",
              " ['B', 'W', 'B', 'W', 'B', 'W', 'B', 'W', 'B', 'W', 'B', 'W', 'B'],\n",
              " ['B', 'W', 'B', 'W', 'B', 'W', 'B', 'W', 'B', 'W', 'B', 'W', 'B'],\n",
              " ['B', 'W', 'B', 'W', 'B', 'W', 'B', 'W', 'B', 'W', 'B', 'W', 'B'],\n",
              " ['B', 'W', 'B', 'W', 'B', 'W', 'B', 'W', 'B', 'W', 'B', 'W', 'B'],\n",
              " ['B', 'W', 'B', 'W', 'B', 'W', 'B', 'W', 'B', 'W', 'B', 'W', 'B'],\n",
              " ['B', 'W', 'B', 'W', 'B', 'W', 'B', 'W', 'B', 'W', 'B', 'W', 'B'],\n",
              " ['W', 'B', 'W', 'B', 'W', 'B', 'W', 'B', 'W', 'B', 'W', 'B', 'W'],\n",
              " ['W', 'B', 'W', 'B', 'W', 'B', 'W', 'B', 'W', 'B', 'W', 'B', 'W']]"
            ]
          },
          "metadata": {},
          "execution_count": 8
        }
      ]
    },
    {
      "cell_type": "markdown",
      "source": [
        "처음 풀이.... 최소가 되는 정사각형 갯수는 어떻게 해야할지 감이 안잡힘\n",
        "\n",
        "칠해진 결과를 보니 위 아래 행도 달라야 하는데 같아져버림.. ㅋㅋ\n",
        "\n",
        "뭔가 잘못됐다 생각해 다른 분들의 도움을 받고자 함\n"
      ],
      "metadata": {
        "id": "IET1Yqry5_Rm"
      }
    },
    {
      "cell_type": "code",
      "source": [
        "m, n = map(int, input().split())\n",
        "plate = []\n",
        "count = []\n",
        "\n",
        "for _ in range(m):\n",
        "    plate.append(input())\n",
        "\n",
        "for a in range(m-7):\n",
        "    for b in range(n-7):\n",
        "        W = 0\n",
        "        B = 0\n",
        "        for i in range(a, a+8):\n",
        "            for j in range(b, b+8):\n",
        "                if (i+j) % 2 == 0:\n",
        "                    if plate[i][j] != 'W':\n",
        "                        W += 1\n",
        "                    if plate[i][j] != 'B':\n",
        "                        B += 1\n",
        "                else:\n",
        "                    if plate[i][j] != 'B':\n",
        "                        W += 1\n",
        "                    if plate[i][j] != 'W':\n",
        "                        B += 1\n",
        "        count.append(min(W, B))\n",
        "\n",
        "print(min(count))"
      ],
      "metadata": {
        "id": "5uXYDV4Q6mi0"
      },
      "execution_count": null,
      "outputs": []
    }
  ]
}