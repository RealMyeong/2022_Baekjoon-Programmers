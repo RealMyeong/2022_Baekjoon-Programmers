{
  "nbformat": 4,
  "nbformat_minor": 0,
  "metadata": {
    "colab": {
      "provenance": [],
      "authorship_tag": "ABX9TyMsYpXRjhujiNYZI2l117fD",
      "include_colab_link": true
    },
    "kernelspec": {
      "name": "python3",
      "display_name": "Python 3"
    },
    "language_info": {
      "name": "python"
    }
  },
  "cells": [
    {
      "cell_type": "markdown",
      "metadata": {
        "id": "view-in-github",
        "colab_type": "text"
      },
      "source": [
        "<a href=\"https://colab.research.google.com/github/RealMyeong/python3-study/blob/main/9/baekjoon_0903.ipynb\" target=\"_parent\"><img src=\"https://colab.research.google.com/assets/colab-badge.svg\" alt=\"Open In Colab\"/></a>"
      ]
    },
    {
      "cell_type": "code",
      "execution_count": null,
      "metadata": {
        "colab": {
          "base_uri": "https://localhost:8080/"
        },
        "id": "XmxSmSkhxCAQ",
        "outputId": "f2841a02-660a-48e2-ccaf-0ef38a43840c"
      },
      "outputs": [
        {
          "output_type": "stream",
          "name": "stdout",
          "text": [
            "4\n",
            "-1\n"
          ]
        }
      ],
      "source": [
        "# 백준 2839 설탕 배달\n",
        "n = int(input())\n",
        "count = 0\n",
        "while n > 0:\n",
        "  if n % 5 == 0:\n",
        "    count += n//5\n",
        "    n = 0\n",
        "  else:\n",
        "    n -= 3\n",
        "    count += 1\n",
        "if n == 0 :\n",
        "  print(count)\n",
        "else:\n",
        "  print(-1)"
      ]
    }
  ]
}