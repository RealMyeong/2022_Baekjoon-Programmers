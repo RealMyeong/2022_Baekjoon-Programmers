{
  "nbformat": 4,
  "nbformat_minor": 0,
  "metadata": {
    "colab": {
      "provenance": [],
      "authorship_tag": "ABX9TyMaQPUZEf/jmGN5mBV+5Gj9",
      "include_colab_link": true
    },
    "kernelspec": {
      "name": "python3",
      "display_name": "Python 3"
    },
    "language_info": {
      "name": "python"
    }
  },
  "cells": [
    {
      "cell_type": "markdown",
      "metadata": {
        "id": "view-in-github",
        "colab_type": "text"
      },
      "source": [
        "<a href=\"https://colab.research.google.com/github/RealMyeong/python3-study/blob/main/9/baekjoon_0925.ipynb\" target=\"_parent\"><img src=\"https://colab.research.google.com/assets/colab-badge.svg\" alt=\"Open In Colab\"/></a>"
      ]
    },
    {
      "cell_type": "code",
      "execution_count": 38,
      "metadata": {
        "colab": {
          "base_uri": "https://localhost:8080/"
        },
        "id": "5xz-mjD_seI8",
        "outputId": "a0b83fce-152a-49b5-efdb-92fcd999866e"
      },
      "outputs": [
        {
          "output_type": "stream",
          "name": "stdout",
          "text": [
            "10\n",
            "6666\n"
          ]
        }
      ],
      "source": [
        "# 백준 1436 영화감독 숌\n",
        "\n",
        "n = int(input())\n",
        "\n",
        "title_list = []\n",
        "i=666\n",
        "while True:\n",
        "  if len(title_list) == n:\n",
        "    print(title_list[-1])\n",
        "    break\n",
        "  i_list = list(str(i))\n",
        "  six_cnt = 0\n",
        "  for j in range(len(i_list)-1):\n",
        "    if i_list[-1-j] == '6' and i_list[-2-j] == '6':\n",
        "      six_cnt += 1\n",
        "    if six_cnt >= 2:\n",
        "      title_list.append(i)\n",
        "      i+=1\n",
        "      break\n",
        "  i += 1\n",
        "\n"
      ]
    },
    {
      "cell_type": "code",
      "source": [
        "n = int(input())\n",
        "\n",
        "num = 666\n",
        "cnt = 0\n",
        "while True:\n",
        "  if '666' in str(num):\n",
        "    cnt += 1\n",
        "  if cnt == n:\n",
        "    print(num)\n",
        "    break\n",
        "  num += 1"
      ],
      "metadata": {
        "colab": {
          "base_uri": "https://localhost:8080/"
        },
        "id": "cNzST5he4py0",
        "outputId": "53d1253d-ee33-4d36-fcd3-19eab60b8181"
      },
      "execution_count": 36,
      "outputs": [
        {
          "output_type": "stream",
          "name": "stdout",
          "text": [
            "10\n",
            "6663\n"
          ]
        }
      ]
    }
  ]
}