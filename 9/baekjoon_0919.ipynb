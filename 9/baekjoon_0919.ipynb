{
  "nbformat": 4,
  "nbformat_minor": 0,
  "metadata": {
    "colab": {
      "provenance": [],
      "authorship_tag": "ABX9TyOTijem9z6/ltiQ/FEuJVa2",
      "include_colab_link": true
    },
    "kernelspec": {
      "name": "python3",
      "display_name": "Python 3"
    },
    "language_info": {
      "name": "python"
    }
  },
  "cells": [
    {
      "cell_type": "markdown",
      "metadata": {
        "id": "view-in-github",
        "colab_type": "text"
      },
      "source": [
        "<a href=\"https://colab.research.google.com/github/RealMyeong/python3-study/blob/main/9/baekjoon_0919.ipynb\" target=\"_parent\"><img src=\"https://colab.research.google.com/assets/colab-badge.svg\" alt=\"Open In Colab\"/></a>"
      ]
    },
    {
      "cell_type": "code",
      "execution_count": 5,
      "metadata": {
        "colab": {
          "base_uri": "https://localhost:8080/"
        },
        "id": "tLH2vA7g0-F8",
        "outputId": "82a2bedf-0a16-4e9e-a652-8a62fe3abed1"
      },
      "outputs": [
        {
          "output_type": "stream",
          "name": "stdout",
          "text": [
            "6\n",
            "1000 999 1000 999 1000 999\n",
            "3 0 3 0 3 0\n"
          ]
        }
      ],
      "source": [
        "# 백준 18870 좌표 압축\n",
        "n = int(input())\n",
        "x_list = input().split()\n",
        "x_list_2 = []\n",
        "for i in range(len(x_list)):\n",
        "  k = 0\n",
        "  for j in range(len(x_list)):\n",
        "    if int(x_list[i]) > int(x_list[j]):\n",
        "      k += 1\n",
        "  x_list_2.append(str(k))\n",
        "\n",
        "print(' '.join(x_list_2))\n"
      ]
    },
    {
      "cell_type": "code",
      "source": [
        "import sys\n",
        "n = int(input())\n",
        "# x_list = list(map(int, input().split()))\n",
        "x_list = list(map(int, sys.stdin.readline().split()))\n",
        "x_set = set(x_list)\n",
        "x_unique_list = list(x_set)\n",
        "x_unique_list.sort()\n",
        "\n",
        "x_2 = {}\n",
        "for i in range(len(x_unique_list)):\n",
        "  x_2[x_unique_list[i]] = i\n",
        "\n",
        "for j in range(n):\n",
        "  x_prime = x_2[x_list[j]]\n",
        "  print(x_prime, end=' ')"
      ],
      "metadata": {
        "colab": {
          "base_uri": "https://localhost:8080/"
        },
        "id": "t766KtKZ55Dx",
        "outputId": "14ebaf9b-89e0-4991-c65f-4e9bff1acc85"
      },
      "execution_count": 12,
      "outputs": [
        {
          "output_type": "stream",
          "name": "stdout",
          "text": [
            "6\n",
            "1000 999 1000 999 1000 999\n",
            "1 0 1 0 1 0 "
          ]
        }
      ]
    }
  ]
}