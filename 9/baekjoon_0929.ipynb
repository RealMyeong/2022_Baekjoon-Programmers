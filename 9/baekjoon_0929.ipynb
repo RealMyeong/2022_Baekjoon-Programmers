{
  "nbformat": 4,
  "nbformat_minor": 0,
  "metadata": {
    "colab": {
      "provenance": [],
      "authorship_tag": "ABX9TyP+/RXps9bcJnekxwgCkD4u",
      "include_colab_link": true
    },
    "kernelspec": {
      "name": "python3",
      "display_name": "Python 3"
    },
    "language_info": {
      "name": "python"
    }
  },
  "cells": [
    {
      "cell_type": "markdown",
      "metadata": {
        "id": "view-in-github",
        "colab_type": "text"
      },
      "source": [
        "<a href=\"https://colab.research.google.com/github/RealMyeong/python3-study/blob/main/9/baekjoon_0929.ipynb\" target=\"_parent\"><img src=\"https://colab.research.google.com/assets/colab-badge.svg\" alt=\"Open In Colab\"/></a>"
      ]
    },
    {
      "cell_type": "code",
      "execution_count": 7,
      "metadata": {
        "colab": {
          "base_uri": "https://localhost:8080/"
        },
        "id": "LaL2BXovOFt_",
        "outputId": "61c1e001-346c-4c49-e59d-43ebfdbeae88"
      },
      "outputs": [
        {
          "output_type": "stream",
          "name": "stdout",
          "text": [
            "10\n",
            "6 3 2 10 10 10 -10 -10 7 3\n",
            "8\n",
            "10 9 -5 2 3 4 5 -10\n",
            "3 0 0 1 2 0 0 2 "
          ]
        }
      ],
      "source": [
        "# 백준 10816 숫자 카드 2\n",
        "from collections import Counter\n",
        "\n",
        "n = int(input())\n",
        "hand_card = [n for n in map(int, input().split())]\n",
        "card_counter = Counter(hand_card)\n",
        "\n",
        "m = int(input())\n",
        "check_list = [n for n in map(int, input().split())]\n",
        "\n",
        "for i in check_list:\n",
        "  if i in card_counter:\n",
        "    print(card_counter[i], end=' ')\n",
        "  else:\n",
        "    print(0, end=' ')\n"
      ]
    }
  ]
}