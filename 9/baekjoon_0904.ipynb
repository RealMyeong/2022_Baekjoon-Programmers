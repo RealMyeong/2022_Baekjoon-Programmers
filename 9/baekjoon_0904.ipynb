{
  "nbformat": 4,
  "nbformat_minor": 0,
  "metadata": {
    "colab": {
      "provenance": [],
      "authorship_tag": "ABX9TyNlIrbdBPUPZcXO+e+UI2ne",
      "include_colab_link": true
    },
    "kernelspec": {
      "name": "python3",
      "display_name": "Python 3"
    },
    "language_info": {
      "name": "python"
    }
  },
  "cells": [
    {
      "cell_type": "markdown",
      "metadata": {
        "id": "view-in-github",
        "colab_type": "text"
      },
      "source": [
        "<a href=\"https://colab.research.google.com/github/RealMyeong/python3-study/blob/main/9/baekjoon_0904.ipynb\" target=\"_parent\"><img src=\"https://colab.research.google.com/assets/colab-badge.svg\" alt=\"Open In Colab\"/></a>"
      ]
    },
    {
      "cell_type": "code",
      "execution_count": null,
      "metadata": {
        "colab": {
          "base_uri": "https://localhost:8080/"
        },
        "id": "f_I1tB8f6Zp8",
        "outputId": "65690063-533c-4605-ab65-8955115aebc3"
      },
      "outputs": [
        {
          "output_type": "stream",
          "name": "stdout",
          "text": [
            "1 30\n",
            "2\n",
            "3\n",
            "5\n",
            "7\n",
            "11\n",
            "13\n",
            "17\n",
            "19\n",
            "23\n",
            "29\n"
          ]
        }
      ],
      "source": [
        "# 백준 1929 소수 구하기\n",
        "m, n = map(int, input().split())\n",
        "num = list(range(m, n+1))\n",
        "if 1 in num:\n",
        "  num.remove(1)\n",
        "for i in num:\n",
        "  error = 0\n",
        "  for j in range(2, i):\n",
        "    if i % j == 0:\n",
        "      error += 1\n",
        "  if error == 0:\n",
        "    print(i)\n",
        "\n",
        "\n",
        "# 위에는 시간 초과 뜸.\n",
        "# 두 번째 for문에서 범위를 2부터 i-1까지가 아니라 i의 제곱근 까지만 해도 된다는 말을 봄\n",
        "\n",
        "m, n = map(int, input().split())\n",
        "for i in range(m,n+1):\n",
        "  if i == 1:\n",
        "    continue\n",
        "  error = 0\n",
        "  for j in range(2, int(i**0.5)+1):\n",
        "    if i % j == 0:\n",
        "      error += 1\n",
        "      break\n",
        "  if error == 0:\n",
        "    print(i)\n",
        "\n",
        "    \n",
        "m,n=map(int,input().split())\n",
        "for i in range(m,n+1):\n",
        "    if i==1:#1은 소수가 아니므로 제외\n",
        "        continue\n",
        "    for j in range(2,int(i**0.5)+1):\n",
        "        if i%j==0: #약수가 존재하므로 소수가 아님\n",
        "            break   #더이상 검사할 필요가 없으므로 멈춤\n",
        "    else:\n",
        "        print(i)"
      ]
    }
  ]
}