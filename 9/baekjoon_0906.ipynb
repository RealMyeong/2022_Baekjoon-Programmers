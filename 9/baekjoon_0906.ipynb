{
  "nbformat": 4,
  "nbformat_minor": 0,
  "metadata": {
    "colab": {
      "provenance": [],
      "authorship_tag": "ABX9TyPDqtDUuaxao3mDbi+56nb0",
      "include_colab_link": true
    },
    "kernelspec": {
      "name": "python3",
      "display_name": "Python 3"
    },
    "language_info": {
      "name": "python"
    }
  },
  "cells": [
    {
      "cell_type": "markdown",
      "metadata": {
        "id": "view-in-github",
        "colab_type": "text"
      },
      "source": [
        "<a href=\"https://colab.research.google.com/github/RealMyeong/python3-study/blob/main/9/baekjoon_0906.ipynb\" target=\"_parent\"><img src=\"https://colab.research.google.com/assets/colab-badge.svg\" alt=\"Open In Colab\"/></a>"
      ]
    },
    {
      "cell_type": "code",
      "execution_count": 8,
      "metadata": {
        "id": "-0scz49DE8pU"
      },
      "outputs": [],
      "source": [
        "# 백준 9020 골드바흐의 추측\n",
        "def sosu(x):\n",
        "  if x==1:\n",
        "    return False\n",
        "  for i in range(2, int(x**0.5) + 1):\n",
        "    if x % i == 0:\n",
        "      return False\n",
        "  return True\n",
        "\n",
        "t = int(input())\n",
        "for i in range(t):\n",
        "  n = int(input())\n",
        "\n",
        "  # n을 반으로 쪼개서 생각\n",
        "  a, b = n//2, n//2\n",
        "  while a > 0:\n",
        "    if sosu(a) and sosu(b):\n",
        "      print(a, b)\n",
        "      break  # a, b 둘 다 소수면 출력하고 끝.\n",
        "      \n",
        "    # 아니면 a는 1씩 빼주고 b는 1씩 더해줌\n",
        "    else: \n",
        "      a -= 1\n",
        "      b += 1"
      ]
    }
  ]
}