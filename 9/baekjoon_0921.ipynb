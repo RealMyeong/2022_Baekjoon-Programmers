{
  "nbformat": 4,
  "nbformat_minor": 0,
  "metadata": {
    "colab": {
      "provenance": [],
      "authorship_tag": "ABX9TyO14+Zh2dVhzx8dgImS8djX",
      "include_colab_link": true
    },
    "kernelspec": {
      "name": "python3",
      "display_name": "Python 3"
    },
    "language_info": {
      "name": "python"
    }
  },
  "cells": [
    {
      "cell_type": "markdown",
      "metadata": {
        "id": "view-in-github",
        "colab_type": "text"
      },
      "source": [
        "<a href=\"https://colab.research.google.com/github/RealMyeong/python3-study/blob/main/9/baekjoon_0921.ipynb\" target=\"_parent\"><img src=\"https://colab.research.google.com/assets/colab-badge.svg\" alt=\"Open In Colab\"/></a>"
      ]
    },
    {
      "cell_type": "code",
      "execution_count": null,
      "metadata": {
        "id": "Bc9ljpflLz2H"
      },
      "outputs": [],
      "source": [
        "# 백준 2798 블랙잭\n",
        "n, m = map(int,input().split())\n",
        "card = list(map(int, input().split()))\n",
        "sum_list = []\n",
        "for i in range(n-2):\n",
        "  for j in range(i+1, n-1):\n",
        "    for k in range(j+1, n):\n",
        "      sum = card[i] + card[j] + card[k]\n",
        "      if sum == m :\n",
        "        sum_list.append(sum)       \n",
        "      elif sum < m :\n",
        "        sum_list.append(sum)\n",
        "      else:\n",
        "        pass\n",
        "\n",
        "print(max(sum_list))\n"
      ]
    }
  ]
}