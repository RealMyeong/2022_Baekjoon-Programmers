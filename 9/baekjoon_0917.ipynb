{
  "nbformat": 4,
  "nbformat_minor": 0,
  "metadata": {
    "colab": {
      "provenance": [],
      "authorship_tag": "ABX9TyN3raGsb8Pu++iDfh4SwAvh",
      "include_colab_link": true
    },
    "kernelspec": {
      "name": "python3",
      "display_name": "Python 3"
    },
    "language_info": {
      "name": "python"
    }
  },
  "cells": [
    {
      "cell_type": "markdown",
      "metadata": {
        "id": "view-in-github",
        "colab_type": "text"
      },
      "source": [
        "<a href=\"https://colab.research.google.com/github/RealMyeong/python3-study/blob/main/9/baekjoon_0917.ipynb\" target=\"_parent\"><img src=\"https://colab.research.google.com/assets/colab-badge.svg\" alt=\"Open In Colab\"/></a>"
      ]
    },
    {
      "cell_type": "code",
      "execution_count": null,
      "metadata": {
        "id": "cPNCDTYVbfpz"
      },
      "outputs": [],
      "source": [
        "# 백준 1181 단어 정렬\n",
        "n = int(input())\n",
        "word_list = []\n",
        "for _ in range(n):\n",
        "  word = input()\n",
        "  word_len = len(word)\n",
        "  if [word_len, word] not in word_list:\n",
        "    word_list.append([word_len, word])\n",
        "\n",
        "word_list.sort(key = lambda x : (x[0], x[1]))\n",
        "for i in word_list:\n",
        "  print(i[1])"
      ]
    },
    {
      "cell_type": "code",
      "source": [
        "import sys\n",
        "n = int(input())\n",
        "word_list = []\n",
        "for _ in range(n):\n",
        "  word = sys.stdin.readline().strip()\n",
        "  word_len = len(word)\n",
        "  if [word_len, word] not in word_list:\n",
        "    word_list.append([word_len, word])\n",
        "\n",
        "word_list.sort(key = lambda x : (x[0], x[1]))\n",
        "for i in word_list:\n",
        "  print(i[1])"
      ],
      "metadata": {
        "colab": {
          "base_uri": "https://localhost:8080/"
        },
        "id": "VJHXph5odDXC",
        "outputId": "7f8640ee-29ce-4af6-ae80-fcde35962020"
      },
      "execution_count": 2,
      "outputs": [
        {
          "output_type": "stream",
          "name": "stdout",
          "text": [
            "i\n",
            "im\n",
            "it\n",
            "no\n",
            "no\n",
            "but\n",
            "more\n",
            "more\n",
            "wait\n",
            "wont\n",
            "yours\n",
            "cannot\n",
            "hesitate\n"
          ]
        }
      ]
    },
    {
      "cell_type": "markdown",
      "source": [
        "딕셔너리를 이용한 풀이"
      ],
      "metadata": {
        "id": "p4kPU4ajfIjc"
      }
    },
    {
      "cell_type": "code",
      "source": [
        "import sys\n",
        "N = int(sys.stdin.readline())\n",
        "\n",
        "len_dict = {}\n",
        "key_list = []\n",
        "for _ in range(N):\n",
        "    s = sys.stdin.readline().strip()\n",
        "    if len(s) in key_list:\n",
        "        len_dict[len(s)].append(s)\n",
        "    else:\n",
        "        len_dict[len(s)] = [s]\n",
        "        key_list.append(len(s))\n",
        "        \n",
        "key_list = sorted(key_list)\n",
        "for n in key_list:\n",
        "    result = sorted(set(len_dict[n]))\n",
        "    for s in result:\n",
        "        print(s)"
      ],
      "metadata": {
        "id": "UyHQIl5mfKLX"
      },
      "execution_count": null,
      "outputs": []
    },
    {
      "cell_type": "code",
      "source": [
        "import sys\n",
        "read = sys.stdin.readline\n",
        "n = int(read())\n",
        "_set = set([read().strip() for _ in range(n)])\n",
        "list = list(_set)\n",
        "list.sort()\n",
        "list.sort(key=len)\n",
        "for i in range(len(list)):\n",
        "    print(list[i])"
      ],
      "metadata": {
        "id": "twG24K8Dfjh3"
      },
      "execution_count": null,
      "outputs": []
    }
  ]
}