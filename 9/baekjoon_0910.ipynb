{
  "nbformat": 4,
  "nbformat_minor": 0,
  "metadata": {
    "colab": {
      "provenance": [],
      "authorship_tag": "ABX9TyNS/l5MUFLihFrEZqDpnX8r",
      "include_colab_link": true
    },
    "kernelspec": {
      "name": "python3",
      "display_name": "Python 3"
    },
    "language_info": {
      "name": "python"
    }
  },
  "cells": [
    {
      "cell_type": "markdown",
      "metadata": {
        "id": "view-in-github",
        "colab_type": "text"
      },
      "source": [
        "<a href=\"https://colab.research.google.com/github/RealMyeong/python3-study/blob/main/9/baekjoon_0910.ipynb\" target=\"_parent\"><img src=\"https://colab.research.google.com/assets/colab-badge.svg\" alt=\"Open In Colab\"/></a>"
      ]
    },
    {
      "cell_type": "code",
      "execution_count": null,
      "metadata": {
        "id": "eNECAeAwkeiH"
      },
      "outputs": [],
      "source": [
        "# 백준 2751 수 정렬하기 2\n",
        "import sys\n",
        "n = int(input())\n",
        "num=[]\n",
        "for _ in range(n):\n",
        "  num.append(int(sys.stdin.readline()))\n",
        "for i in sorted(num):\n",
        "  print(i)"
      ]
    }
  ]
}