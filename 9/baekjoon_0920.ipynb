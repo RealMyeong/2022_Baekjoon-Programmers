{
  "nbformat": 4,
  "nbformat_minor": 0,
  "metadata": {
    "colab": {
      "provenance": [],
      "authorship_tag": "ABX9TyMYLuQHGhBWArnEzn0nWvpl",
      "include_colab_link": true
    },
    "kernelspec": {
      "name": "python3",
      "display_name": "Python 3"
    },
    "language_info": {
      "name": "python"
    }
  },
  "cells": [
    {
      "cell_type": "markdown",
      "metadata": {
        "id": "view-in-github",
        "colab_type": "text"
      },
      "source": [
        "<a href=\"https://colab.research.google.com/github/RealMyeong/python3-study/blob/main/9/baekjoon_0920.ipynb\" target=\"_parent\"><img src=\"https://colab.research.google.com/assets/colab-badge.svg\" alt=\"Open In Colab\"/></a>"
      ]
    },
    {
      "cell_type": "code",
      "execution_count": 24,
      "metadata": {
        "colab": {
          "base_uri": "https://localhost:8080/"
        },
        "id": "wsi9PTC6-Jt1",
        "outputId": "5a086ba8-0d2f-47a3-b920-97a7cbb3f7db"
      },
      "outputs": [
        {
          "output_type": "stream",
          "name": "stdout",
          "text": [
            "ABBA: 1\n",
            "ABC: (0, 1)\n",
            "ABABA: (1, 3)\n",
            "ABCA: (0, 2)\n",
            "(0, 1)\n"
          ]
        }
      ],
      "source": [
        "# 백준 25501 재귀의 귀재\n",
        "\n",
        "def recursion(s, l, r):\n",
        "    if l >= r: return 1, l+1\n",
        "    elif s[l] != s[r]: return 0, l+1\n",
        "    else: \n",
        "      return recursion(s, l+1, r-1)\n",
        "\n",
        "def isPalindrome(s):\n",
        "    return recursion(s, 0, len(s)-1)\n",
        "\n",
        "t = int(input())\n",
        "for i in range(t):\n",
        "  s = input()\n",
        "  answer = list(isPalindrome(s))\n",
        "  print(answer[0], answer[1])\n",
        "\n"
      ]
    },
    {
      "cell_type": "code",
      "source": [
        "cnt = 0\n",
        "def recursion(s, l, r):\n",
        "    global cnt\n",
        "    cnt += 1\n",
        "    if l >= r: return 1, l+1\n",
        "    elif s[l] != s[r]: return 0, l+1\n",
        "    else: \n",
        "      return recursion(s, l+1, r-1)\n",
        "\n",
        "def isPalindrome(s):\n",
        "    return recursion(s, 0, len(s)-1)\n",
        "\n",
        "t = int(input())\n",
        "for i in range(t):\n",
        "  s = input()\n",
        "  cnt = 0\n",
        "  answer = isPalindrome(s)\n",
        "  print(answer[0], answer[1])"
      ],
      "metadata": {
        "id": "QdYaR2lsD4qF"
      },
      "execution_count": null,
      "outputs": []
    }
  ]
}