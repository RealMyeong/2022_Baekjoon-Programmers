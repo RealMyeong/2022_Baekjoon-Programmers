{
  "nbformat": 4,
  "nbformat_minor": 0,
  "metadata": {
    "colab": {
      "provenance": [],
      "authorship_tag": "ABX9TyPNQ52vjdm8sgb5OgqdNzUv",
      "include_colab_link": true
    },
    "kernelspec": {
      "name": "python3",
      "display_name": "Python 3"
    },
    "language_info": {
      "name": "python"
    }
  },
  "cells": [
    {
      "cell_type": "markdown",
      "metadata": {
        "id": "view-in-github",
        "colab_type": "text"
      },
      "source": [
        "<a href=\"https://colab.research.google.com/github/RealMyeong/python3-study/blob/main/9/baekjoon_0905.ipynb\" target=\"_parent\"><img src=\"https://colab.research.google.com/assets/colab-badge.svg\" alt=\"Open In Colab\"/></a>"
      ]
    },
    {
      "cell_type": "code",
      "execution_count": 22,
      "metadata": {
        "colab": {
          "base_uri": "https://localhost:8080/"
        },
        "id": "Cp90FI1fpxMw",
        "outputId": "700c33f2-3233-4a59-8e92-d12e5e1d487e"
      },
      "outputs": [
        {
          "name": "stdout",
          "output_type": "stream",
          "text": [
            "0\n"
          ]
        }
      ],
      "source": [
        "# 백준 4948 베르트랑 공준\n",
        "# 소수 찾는 함수 정의\n",
        "def prime(x):\n",
        "  if x == 1:\n",
        "    return False\n",
        "  for i in range(2, int(x**0.5)+1):\n",
        "    if x % i == 0:\n",
        "      return False\n",
        "  return True\n",
        "\n",
        "while True:\n",
        "  n = int(input())\n",
        "  count = 0\n",
        "  if n == 0:\n",
        "    break\n",
        "  for i in range(n+1, 2*n+1):\n",
        "    if prime(i):\n",
        "      count += 1\n",
        "  print(count)"
      ]
    },
    {
      "cell_type": "code",
      "source": [
        "123456 * 2"
      ],
      "metadata": {
        "colab": {
          "base_uri": "https://localhost:8080/"
        },
        "id": "rJBktvwkyy6Z",
        "outputId": "c7c4a9a4-e162-4b11-f8e5-51c6450183b2"
      },
      "execution_count": 24,
      "outputs": [
        {
          "output_type": "execute_result",
          "data": {
            "text/plain": [
              "246912"
            ]
          },
          "metadata": {},
          "execution_count": 24
        }
      ]
    },
    {
      "cell_type": "markdown",
      "source": [
        "위에 시간 초과 뜸\n",
        "\n",
        "미리 리스트에 지정해놓고 꺼내오는 식으로 해봄"
      ],
      "metadata": {
        "id": "pKPQpGRcxa4m"
      }
    },
    {
      "cell_type": "code",
      "source": [
        "def prime(x):\n",
        "  if x == 1:\n",
        "    return False\n",
        "  for i in range(2, int(x**0.5)+1):\n",
        "    if x % i == 0:\n",
        "      return False\n",
        "  return True\n",
        "\n",
        "# 1 <= n <= 123,456\n",
        "# 2 <= 2*n <= 246912\n",
        "n_list = list(range(1,246913))\n",
        "prime_list=[]\n",
        "for i in n_list:\n",
        "  if prime(i):\n",
        "    prime_list.append(i)\n",
        "\n",
        "while True:\n",
        "  n = int(input())\n",
        "  count = 0\n",
        "  if n == 0:\n",
        "    break\n",
        "  for i in prime_list: # 만들어 둔 소수 리스트에서 숫자 꺼내서 비교\n",
        "    if n < i <= 2*n:\n",
        "      count += 1\n",
        "  print(count)"
      ],
      "metadata": {
        "colab": {
          "base_uri": "https://localhost:8080/"
        },
        "id": "99i7BRa0xgAI",
        "outputId": "a47dccd7-426e-4efd-c3a0-790b005d2293"
      },
      "execution_count": 23,
      "outputs": [
        {
          "name": "stdout",
          "output_type": "stream",
          "text": [
            "3\n",
            "1\n",
            "10\n",
            "4\n",
            "13\n",
            "3\n",
            "0\n"
          ]
        }
      ]
    }
  ]
}