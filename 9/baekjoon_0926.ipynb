{
  "nbformat": 4,
  "nbformat_minor": 0,
  "metadata": {
    "colab": {
      "provenance": [],
      "authorship_tag": "ABX9TyPQlHT0nfxwhZ1MM6k4W9KB",
      "include_colab_link": true
    },
    "kernelspec": {
      "name": "python3",
      "display_name": "Python 3"
    },
    "language_info": {
      "name": "python"
    }
  },
  "cells": [
    {
      "cell_type": "markdown",
      "metadata": {
        "id": "view-in-github",
        "colab_type": "text"
      },
      "source": [
        "<a href=\"https://colab.research.google.com/github/RealMyeong/python3-study/blob/main/9/baekjoon_0926.ipynb\" target=\"_parent\"><img src=\"https://colab.research.google.com/assets/colab-badge.svg\" alt=\"Open In Colab\"/></a>"
      ]
    },
    {
      "cell_type": "code",
      "source": [
        "# 백준 10815 숫자 카드\n",
        "import sys\n",
        "\n",
        "n = int(sys.stdin.readline())\n",
        "hand_card = list(map(int, sys.stdin.readline().split()))\n",
        "m = int(sys.stdin.readline())\n",
        "num = list(map(int, sys.stdin.readline().split()))\n",
        "\n",
        "one_hot_list = [0] * m\n",
        "\n",
        "for index, number in enumerate(num):\n",
        "  if number in hand_card:\n",
        "    one_hot_list[index] = 1\n",
        "\n",
        "for i in one_hot_list:\n",
        "  print(i, end=' ')"
      ],
      "metadata": {
        "colab": {
          "base_uri": "https://localhost:8080/"
        },
        "id": "OtAkOGksw4s6",
        "outputId": "6bb70736-95b4-4245-f4d4-de44d223413f"
      },
      "execution_count": 2,
      "outputs": [
        {
          "output_type": "stream",
          "name": "stdout",
          "text": [
            "5\n",
            "6 3 2 10 -10\n",
            "8\n",
            "10 9 -5 2 3 4 5 -10\n",
            "1 0 0 1 1 0 0 1 "
          ]
        }
      ]
    },
    {
      "cell_type": "markdown",
      "source": [
        "시간 초과 뜸. 왜 뜨는거지..?"
      ],
      "metadata": {
        "id": "NuSJ0iHxyvOg"
      }
    },
    {
      "cell_type": "code",
      "source": [
        "import sys\n",
        "\n",
        "N = int(sys.stdin.readline())\n",
        "hand_card = list(map(int, sys.stdin.readline().split()))\n",
        "M = int(sys.stdin.readline())\n",
        "num = list(map(int, sys.stdin.readline().split()))\n",
        "\n",
        "num_dict = {}  \n",
        "for i in range(len(hand_card)):\n",
        "    num_dict[hand_card[i]] = 0 \n",
        "\n",
        "for j in range(M):\n",
        "    if num[j] not in num_dict:\n",
        "        print(0, end=' ')\n",
        "    else:\n",
        "        print(1, end=' ')"
      ],
      "metadata": {
        "id": "WOBunHh40V3n"
      },
      "execution_count": null,
      "outputs": []
    },
    {
      "cell_type": "markdown",
      "source": [
        "역시 딕셔너리는 신입니다 ^_^\n",
        "\n",
        "근데 또 hand_card부분만 set으로 바꿔주니까 통과하네요?\n",
        "\n",
        "이건 또 무슨 경우여..."
      ],
      "metadata": {
        "id": "7iEBYDnV4I9q"
      }
    },
    {
      "cell_type": "code",
      "source": [
        "import sys\n",
        "\n",
        "n = int(sys.stdin.readline())\n",
        "hand_card = set(map(int, sys.stdin.readline().split()))\n",
        "m = int(sys.stdin.readline())\n",
        "num = list(map(int, sys.stdin.readline().split()))\n",
        "\n",
        "for i in num:\n",
        "  if i in hand_card:\n",
        "    print(1, end=' ')\n",
        "  else:\n",
        "    print(0, end=' ')"
      ],
      "metadata": {
        "id": "thd95HH9y6oA"
      },
      "execution_count": null,
      "outputs": []
    }
  ]
}