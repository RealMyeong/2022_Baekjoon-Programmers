{
  "nbformat": 4,
  "nbformat_minor": 0,
  "metadata": {
    "colab": {
      "provenance": [],
      "authorship_tag": "ABX9TyMLmLQOf2x24Oa4J+DZpvsJ",
      "include_colab_link": true
    },
    "kernelspec": {
      "name": "python3",
      "display_name": "Python 3"
    },
    "language_info": {
      "name": "python"
    }
  },
  "cells": [
    {
      "cell_type": "markdown",
      "metadata": {
        "id": "view-in-github",
        "colab_type": "text"
      },
      "source": [
        "<a href=\"https://colab.research.google.com/github/RealMyeong/python3-study/blob/main/9/baekjoon_0923.ipynb\" target=\"_parent\"><img src=\"https://colab.research.google.com/assets/colab-badge.svg\" alt=\"Open In Colab\"/></a>"
      ]
    },
    {
      "cell_type": "code",
      "execution_count": 6,
      "metadata": {
        "colab": {
          "base_uri": "https://localhost:8080/"
        },
        "id": "3mox5hb7cny5",
        "outputId": "b60e9214-a393-4047-bb6a-a25e6d5f2694"
      },
      "outputs": [
        {
          "output_type": "stream",
          "name": "stdout",
          "text": [
            "5\n",
            "55 185\n",
            "58 183\n",
            "88 186\n",
            "60 175\n",
            "46 155\n",
            "2 2 1 2 5 "
          ]
        }
      ],
      "source": [
        "# 백준 7568 덩치\n",
        "n = int(input())\n",
        "tall = []\n",
        "weight = []\n",
        "for _ in range(n):\n",
        "  t, w = map(int, input().split())\n",
        "  tall.append(t)\n",
        "  weight.append(w)\n",
        "\n",
        "# 자신보다 덩치가 큰 사람 수\n",
        "bigger_cnt = []\n",
        "for i in range(n):\n",
        "  bigger = 0\n",
        "  same = 0\n",
        "  for j in range(n):\n",
        "    if tall[i] < tall[j] and weight[i] < weight[j]:\n",
        "      bigger += 1\n",
        "    elif (tall[i] <= tall[j] and weight[i] >= weight[j]) or (tall[i] >= tall[j] and weight[i] <= weight[j]) :\n",
        "      same += 1\n",
        "  bigger_cnt.append((bigger, same))\n",
        "\n",
        "ratings = [bigger_cnt[i][0]+1 for i in range(n)]\n",
        "for r in ratings:\n",
        "  print(r, end=' ')"
      ]
    }
  ]
}