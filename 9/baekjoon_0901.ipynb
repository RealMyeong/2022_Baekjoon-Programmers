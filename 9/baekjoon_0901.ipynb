{
  "nbformat": 4,
  "nbformat_minor": 0,
  "metadata": {
    "colab": {
      "provenance": [],
      "authorship_tag": "ABX9TyO0hxiBxwvenSFffT+yOq77",
      "include_colab_link": true
    },
    "kernelspec": {
      "name": "python3",
      "display_name": "Python 3"
    },
    "language_info": {
      "name": "python"
    }
  },
  "cells": [
    {
      "cell_type": "markdown",
      "metadata": {
        "id": "view-in-github",
        "colab_type": "text"
      },
      "source": [
        "<a href=\"https://colab.research.google.com/github/RealMyeong/python3-study/blob/main/9/baekjoon_0901.ipynb\" target=\"_parent\"><img src=\"https://colab.research.google.com/assets/colab-badge.svg\" alt=\"Open In Colab\"/></a>"
      ]
    },
    {
      "cell_type": "code",
      "execution_count": 18,
      "metadata": {
        "colab": {
          "base_uri": "https://localhost:8080/"
        },
        "id": "I8tYMmPNC4uE",
        "outputId": "0a6122fc-6ca9-4938-ed40-db6690a82d1c"
      },
      "outputs": [
        {
          "output_type": "stream",
          "name": "stdout",
          "text": [
            "1\n",
            "6 12 12\n",
            "602\n"
          ]
        }
      ],
      "source": [
        "# 백준 10250 ACM호텔\n",
        "t = int(input())\n",
        "for _ in range(t):\n",
        "  h, w, n = map(int, input().split())\n",
        "  floor = n % h\n",
        "  if floor == 0:\n",
        "    room = n // h\n",
        "    print(h*100 + room)\n",
        "  else:\n",
        "    room = n // h + 1\n",
        "    print(floor*100 + room)  "
      ]
    }
  ]
}