{
  "nbformat": 4,
  "nbformat_minor": 0,
  "metadata": {
    "colab": {
      "provenance": [],
      "authorship_tag": "ABX9TyP+Vpz6M30fe88u9aNrWsgS",
      "include_colab_link": true
    },
    "kernelspec": {
      "name": "python3",
      "display_name": "Python 3"
    },
    "language_info": {
      "name": "python"
    }
  },
  "cells": [
    {
      "cell_type": "markdown",
      "metadata": {
        "id": "view-in-github",
        "colab_type": "text"
      },
      "source": [
        "<a href=\"https://colab.research.google.com/github/RealMyeong/python3-study/blob/main/9/baekjoon_0918.ipynb\" target=\"_parent\"><img src=\"https://colab.research.google.com/assets/colab-badge.svg\" alt=\"Open In Colab\"/></a>"
      ]
    },
    {
      "cell_type": "code",
      "execution_count": 2,
      "metadata": {
        "colab": {
          "base_uri": "https://localhost:8080/"
        },
        "id": "RW34_Jeq6dV1",
        "outputId": "1e6cb8db-4484-468d-80c4-f432c73adbaf"
      },
      "outputs": [
        {
          "output_type": "stream",
          "name": "stdout",
          "text": [
            "3\n",
            "21 Junkyu\n",
            "21 Dohyun\n",
            "20 Sunyoung\n",
            "20 Sunyoung\n",
            "21 Junkyu\n",
            "21 Dohyun\n"
          ]
        }
      ],
      "source": [
        "# 백준 10814 나이순 정렬\n",
        "n = int(input())\n",
        "i = 1 # 가입 순서\n",
        "user_list = []\n",
        "for _ in range(n):\n",
        "  age, name = input().split()\n",
        "  user_list.append([int(age), name, i])\n",
        "  i += 1\n",
        "\n",
        "user_list.sort(key = lambda x : (x[0], x[2]))\n",
        "for i in user_list:\n",
        "  print(i[0], i[1])"
      ]
    }
  ]
}