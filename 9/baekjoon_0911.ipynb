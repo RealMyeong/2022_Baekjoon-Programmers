{
  "nbformat": 4,
  "nbformat_minor": 0,
  "metadata": {
    "colab": {
      "provenance": [],
      "authorship_tag": "ABX9TyPdIm8zUXAJpr2V+VY0P4Tu",
      "include_colab_link": true
    },
    "kernelspec": {
      "name": "python3",
      "display_name": "Python 3"
    },
    "language_info": {
      "name": "python"
    }
  },
  "cells": [
    {
      "cell_type": "markdown",
      "metadata": {
        "id": "view-in-github",
        "colab_type": "text"
      },
      "source": [
        "<a href=\"https://colab.research.google.com/github/RealMyeong/python3-study/blob/main/9/baekjoon_0911.ipynb\" target=\"_parent\"><img src=\"https://colab.research.google.com/assets/colab-badge.svg\" alt=\"Open In Colab\"/></a>"
      ]
    },
    {
      "cell_type": "code",
      "execution_count": null,
      "metadata": {
        "id": "C7hKpFSZLMMT"
      },
      "outputs": [],
      "source": [
        "# 백준 10989 수 정렬하기 3\n",
        "\n",
        "import sys\n",
        "n = int(input())\n",
        "num=[]\n",
        "for _ in range(n):\n",
        "  num.append(int(sys.stdin.readline()))\n",
        "for i in sorted(num):\n",
        "  print(i)\n",
        "\n",
        "# 메모리 초과 뜸\n",
        "# append를 할 때마다 메모리 재할당이 발생한다고 함"
      ]
    },
    {
      "cell_type": "code",
      "source": [
        "import sys\n",
        "n = int(input())\n",
        "\n",
        "a = [0] * 10001\n",
        "for _ in range(n):\n",
        "  # num = int(sys.stdin.readline())\n",
        "  num = int(input())\n",
        "  a[num] += 1\n",
        "\n",
        "for i in range(len(a)):\n",
        "  if a[i] != 0:\n",
        "    for _ in range(a[i]):\n",
        "      print(i)"
      ],
      "metadata": {
        "colab": {
          "base_uri": "https://localhost:8080/"
        },
        "id": "WxW5dtL9LqOA",
        "outputId": "ec154030-cd61-4c65-eafb-a47669ee9e3e"
      },
      "execution_count": 12,
      "outputs": [
        {
          "output_type": "stream",
          "name": "stdout",
          "text": [
            "10\n",
            "5\n",
            "1\n",
            "3\n",
            "2\n",
            "4\n",
            "2\n",
            "4\n",
            "5\n",
            "1\n",
            "7\n",
            "1\n",
            "1\n",
            "2\n",
            "2\n",
            "3\n",
            "4\n",
            "4\n",
            "5\n",
            "5\n",
            "7\n"
          ]
        }
      ]
    }
  ]
}