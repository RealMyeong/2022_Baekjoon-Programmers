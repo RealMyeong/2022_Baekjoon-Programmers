{
  "nbformat": 4,
  "nbformat_minor": 0,
  "metadata": {
    "colab": {
      "provenance": [],
      "authorship_tag": "ABX9TyNJ8VgcwsZmH7k12fnRJgmx",
      "include_colab_link": true
    },
    "kernelspec": {
      "name": "python3",
      "display_name": "Python 3"
    },
    "language_info": {
      "name": "python"
    }
  },
  "cells": [
    {
      "cell_type": "markdown",
      "metadata": {
        "id": "view-in-github",
        "colab_type": "text"
      },
      "source": [
        "<a href=\"https://colab.research.google.com/github/RealMyeong/python3-study/blob/main/9/baekjoon_0913.ipynb\" target=\"_parent\"><img src=\"https://colab.research.google.com/assets/colab-badge.svg\" alt=\"Open In Colab\"/></a>"
      ]
    },
    {
      "cell_type": "code",
      "execution_count": 28,
      "metadata": {
        "colab": {
          "base_uri": "https://localhost:8080/"
        },
        "id": "yYFumCYtQ58Z",
        "outputId": "d0cce151-47dc-4664-de40-b1dee6f76a44"
      },
      "outputs": [
        {
          "output_type": "stream",
          "name": "stdout",
          "text": [
            "5\n",
            "1\n",
            "1\n",
            "2\n",
            "2\n",
            "3\n",
            "2\n",
            "2\n",
            "2\n",
            "2\n"
          ]
        }
      ],
      "source": [
        "# 백준 2108 통계학\n",
        "import sys\n",
        "import numpy as np\n",
        "from collections import Counter\n",
        "\n",
        "n = int(input())\n",
        "num = []\n",
        "for _ in range(n):\n",
        "  num.append(int(sys.stdin.readline()))\n",
        "\n",
        "if n == 1:\n",
        "  print(num[0])\n",
        "  print(num[0])\n",
        "  print(num[0])\n",
        "  print(0)\n",
        "else:\n",
        "  num.sort()\n",
        "  num_counter = Counter(num)\n",
        "  most_common = num_counter.most_common(2)\n",
        "\n",
        "  print(int(np.rint(np.mean(num))))\n",
        "  print(int(np.median(num)))\n",
        "  if len(most_common) > 1:\n",
        "    if most_common[0][1] == most_common[1][1]:\n",
        "      print(most_common[1][0])\n",
        "    else:\n",
        "      print(most_common[0][0])\n",
        "  else:\n",
        "    print(most_common[0][0])\n",
        "  print(np.max(num)-np.min(num))\n",
        "\n",
        "\n",
        "# numpy 때문인지 계속 실패가 나옴\n",
        "import sys\n",
        "from collections import Counter\n",
        "\n",
        "n = int(input())\n",
        "num = []\n",
        "for _ in range(n):\n",
        "  num.append(int(sys.stdin.readline()))\n",
        "if n == 1:\n",
        "  print(num[0])\n",
        "  print(num[0])\n",
        "  print(num[0])\n",
        "  print(0)\n",
        "else:\n",
        "  num.sort()\n",
        "  num_counter = Counter(num)\n",
        "  most_common = num_counter.most_common(2)\n",
        "\n",
        "  print(round(sum(num) / n))\n",
        "  print(num[n // 2])\n",
        "  if len(most_common) > 1:\n",
        "    if most_common[0][1] == most_common[1][1]:\n",
        "      print(most_common[1][0])\n",
        "    else:\n",
        "      print(most_common[0][0])\n",
        "  else:\n",
        "    print(most_common[0][0])\n",
        "  print(num[-1] - num[0])\n"
      ]
    }
  ]
}