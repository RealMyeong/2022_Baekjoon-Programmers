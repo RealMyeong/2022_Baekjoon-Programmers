{
  "nbformat": 4,
  "nbformat_minor": 0,
  "metadata": {
    "colab": {
      "name": "baekjoon_0802.ipynb",
      "provenance": [],
      "authorship_tag": "ABX9TyMCvDWqSpiJVb84hfQH5Lx5",
      "include_colab_link": true
    },
    "kernelspec": {
      "name": "python3",
      "display_name": "Python 3"
    },
    "language_info": {
      "name": "python"
    }
  },
  "cells": [
    {
      "cell_type": "markdown",
      "metadata": {
        "id": "view-in-github",
        "colab_type": "text"
      },
      "source": [
        "<a href=\"https://colab.research.google.com/github/RealMyeong/python3-study/blob/main/baekjoon_0802.ipynb\" target=\"_parent\"><img src=\"https://colab.research.google.com/assets/colab-badge.svg\" alt=\"Open In Colab\"/></a>"
      ]
    },
    {
      "cell_type": "code",
      "execution_count": 4,
      "metadata": {
        "colab": {
          "base_uri": "https://localhost:8080/"
        },
        "id": "1qDZlNEF0xM4",
        "outputId": "cac2ba23-6f44-4c16-db42-3477e06b82da"
      },
      "outputs": [
        {
          "output_type": "stream",
          "name": "stdout",
          "text": [
            "1\n",
            "2\n",
            "100 a\n",
            "200 b\n",
            "b\n"
          ]
        }
      ],
      "source": [
        "#백준 11098 첼시르 도와줘!\n",
        "\n",
        "t = int(input())\n",
        "for i in range(t):\n",
        "  p = int(input())\n",
        "  name = []\n",
        "  price = []\n",
        "  for j in range(p):\n",
        "    a, b = input().split()\n",
        "    price.append(int(a))\n",
        "    name.append(b)\n",
        "  idx = price.index(max(price))\n",
        "  print(name[idx])"
      ]
    }
  ]
}