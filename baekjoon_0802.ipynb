{
  "nbformat": 4,
  "nbformat_minor": 0,
  "metadata": {
    "colab": {
      "name": "baekjoon_0802.ipynb",
      "provenance": [],
      "authorship_tag": "ABX9TyOxj7+SHvUHRexk9ctGDUb/",
      "include_colab_link": true
    },
    "kernelspec": {
      "name": "python3",
      "display_name": "Python 3"
    },
    "language_info": {
      "name": "python"
    }
  },
  "cells": [
    {
      "cell_type": "markdown",
      "metadata": {
        "id": "view-in-github",
        "colab_type": "text"
      },
      "source": [
        "<a href=\"https://colab.research.google.com/github/RealMyeong/python3-study/blob/main/baekjoon_0802.ipynb\" target=\"_parent\"><img src=\"https://colab.research.google.com/assets/colab-badge.svg\" alt=\"Open In Colab\"/></a>"
      ]
    },
    {
      "cell_type": "code",
      "execution_count": null,
      "metadata": {
        "id": "1qDZlNEF0xM4"
      },
      "outputs": [],
      "source": [
        "#백준 11098 첼시를 도와줘!\n",
        "\n",
        "t = int(input())\n",
        "for i in range(t):\n",
        "  p = int(input())\n",
        "  name = []\n",
        "  price = []\n",
        "  for j in range(p):\n",
        "    a, b = input().split()\n",
        "    price.append(int(a))\n",
        "    name.append(b)\n",
        "  idx = price.index(max(price))\n",
        "  print(name[idx])"
      ]
    },
    {
      "cell_type": "code",
      "source": [
        "#백준 5635 생일\n",
        "N = int(input())\n",
        "name = []\n",
        "birth = []\n",
        "for i in range(N):\n",
        "  stu = input().split(' ',1)\n",
        "  n = stu[0]\n",
        "  b_split = stu[1].split()\n",
        "  b_sorted = [0]*3\n",
        "  for j in range(3):\n",
        "    b_sorted[j] = int(b_split[2-j])\n",
        "  b = 10000*b_sorted[0] + 100*b_sorted[1] + b_sorted[2]\n",
        "  birth.append(b)\n",
        "  name.append(n)\n",
        "birth_sorted = sorted(birth)\n",
        "oldest_idx = birth.index(birth_sorted[0])\n",
        "youngest_idx = birth.index(birth_sorted[-1])\n",
        "print(name[youngest_idx])\n",
        "print(name[oldest_idx])\n",
        "\n",
        "\n",
        "#-----다른 사람 답안 중 신기한 답안----\n",
        "import sys\n",
        "n = int(sys.stdin.readline())\n",
        "birth = [sys.stdin.readline().rstrip().split() for _ in range(n)]\n",
        "birth.sort(key=lambda k: (int(k[3]), int(k[2]), int(k[1])))\n",
        "print(\"{}\\n{}\".format(birth[-1][0], birth[0][0]))\n",
        "\n"
      ],
      "metadata": {
        "id": "wYkswZQBdDdO"
      },
      "execution_count": null,
      "outputs": []
    }
  ]
}