{
  "nbformat": 4,
  "nbformat_minor": 0,
  "metadata": {
    "colab": {
      "name": "baekjoon_0730.ipynb",
      "provenance": [],
      "authorship_tag": "ABX9TyN9CbNRlYZ2xpZLzPNBwYp9",
      "include_colab_link": true
    },
    "kernelspec": {
      "name": "python3",
      "display_name": "Python 3"
    },
    "language_info": {
      "name": "python"
    },
    "gpuClass": "standard"
  },
  "cells": [
    {
      "cell_type": "markdown",
      "metadata": {
        "id": "view-in-github",
        "colab_type": "text"
      },
      "source": [
        "<a href=\"https://colab.research.google.com/github/RealMyeong/python3-study/blob/main/baekjoon_0730.ipynb\" target=\"_parent\"><img src=\"https://colab.research.google.com/assets/colab-badge.svg\" alt=\"Open In Colab\"/></a>"
      ]
    },
    {
      "cell_type": "code",
      "execution_count": 10,
      "metadata": {
        "colab": {
          "base_uri": "https://localhost:8080/"
        },
        "id": "b1vckyciye2k",
        "outputId": "11cfca62-b288-4dcd-83c3-1895755fa5e3"
      },
      "outputs": [
        {
          "name": "stdout",
          "output_type": "stream",
          "text": [
            "10\n"
          ]
        },
        {
          "output_type": "execute_result",
          "data": {
            "text/plain": [
              "(0, 0, 1)"
            ]
          },
          "metadata": {},
          "execution_count": 10
        }
      ],
      "source": [
        "#백준 10162 전자레인지\n",
        "'''\n",
        "    A : 5 min = 300sec\n",
        "    B : 1 min = 60sec\n",
        "    C : 10 sec\n",
        "    '''\n",
        "def min_button(t):\n",
        "  A, B, C = 0,0,0\n",
        "  if t % 300 == 0:\n",
        "    A += t//300   \n",
        "  else:\n",
        "    A += t//300\n",
        "    t = t % 300\n",
        "    if t % 60 == 0:\n",
        "      B += t//60     \n",
        "    else:\n",
        "      B += t//60\n",
        "      t = t % 60\n",
        "      if t % 10 == 0:\n",
        "        C += t//10\n",
        "      else:\n",
        "        return -1\n",
        "  return A, B, C\n",
        "\n",
        "min_button(int(input()))"
      ]
    }
  ]
}