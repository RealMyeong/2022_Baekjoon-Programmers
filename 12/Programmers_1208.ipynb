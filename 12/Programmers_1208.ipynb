{
  "nbformat": 4,
  "nbformat_minor": 0,
  "metadata": {
    "colab": {
      "provenance": [],
      "authorship_tag": "ABX9TyO50UIJoIp3bn6KUD9B1oUs",
      "include_colab_link": true
    },
    "kernelspec": {
      "name": "python3",
      "display_name": "Python 3"
    },
    "language_info": {
      "name": "python"
    }
  },
  "cells": [
    {
      "cell_type": "markdown",
      "metadata": {
        "id": "view-in-github",
        "colab_type": "text"
      },
      "source": [
        "<a href=\"https://colab.research.google.com/github/RealMyeong/python3-study/blob/main/12/Programmers_1208.ipynb\" target=\"_parent\"><img src=\"https://colab.research.google.com/assets/colab-badge.svg\" alt=\"Open In Colab\"/></a>"
      ]
    },
    {
      "cell_type": "code",
      "source": [
        "# 정수 삼각형\n",
        "\n",
        "def solution(triangle):\n",
        "    for i in range(1, len(triangle)):\n",
        "        for j in range(len(triangle[i])):\n",
        "            if j == 0:\n",
        "                triangle[i][j] += triangle[i-1][j] \n",
        "            elif j == len(triangle[i])-1:\n",
        "                triangle[i][j] += triangle[i-1][j-1]\n",
        "            else:\n",
        "                triangle[i][j] += max(triangle[i-1][j], triangle[i-1][j-1])\n",
        "\n",
        "    return max(triangle[-1])"
      ],
      "metadata": {
        "id": "yqdJ9EkayvS5"
      },
      "execution_count": 3,
      "outputs": []
    }
  ]
}