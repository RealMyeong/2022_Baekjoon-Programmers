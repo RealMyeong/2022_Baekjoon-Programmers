{
  "nbformat": 4,
  "nbformat_minor": 0,
  "metadata": {
    "colab": {
      "provenance": [],
      "authorship_tag": "ABX9TyNvxxd8+EpHv4waSBsVL8j1",
      "include_colab_link": true
    },
    "kernelspec": {
      "name": "python3",
      "display_name": "Python 3"
    },
    "language_info": {
      "name": "python"
    }
  },
  "cells": [
    {
      "cell_type": "markdown",
      "metadata": {
        "id": "view-in-github",
        "colab_type": "text"
      },
      "source": [
        "<a href=\"https://colab.research.google.com/github/RealMyeong/python3-study/blob/main/12/Programmers_1231.ipynb\" target=\"_parent\"><img src=\"https://colab.research.google.com/assets/colab-badge.svg\" alt=\"Open In Colab\"/></a>"
      ]
    },
    {
      "cell_type": "code",
      "source": [
        "# 실패율\n",
        "\n",
        "def solution(N, stages):\n",
        "    \n",
        "    fail_rate_list = []\n",
        "    challenger = len(stages)\n",
        "\n",
        "    for i in range(1, N+1):\n",
        "        fail_cnt = stages.count(i)\n",
        "        \n",
        "        if challenger == 0:\n",
        "            fail_rate = 0\n",
        "        else:\n",
        "            fail_rate = fail_cnt / challenger\n",
        "        \n",
        "        fail_rate_list.append([fail_rate, i])\n",
        "        challenger -= fail_cnt\n",
        "        \n",
        "    fail_rate_list = sorted(fail_rate_list, key = lambda x : x[0], reverse=True)\n",
        "    \n",
        "    answer = [i[1] for i in fail_rate_list]\n",
        "    \n",
        "    return answer"
      ],
      "metadata": {
        "id": "yqdJ9EkayvS5",
        "colab": {
          "base_uri": "https://localhost:8080/"
        },
        "outputId": "989f896e-0caa-45a7-ed37-706d1f177fa8"
      },
      "execution_count": null,
      "outputs": [
        {
          "output_type": "execute_result",
          "data": {
            "text/plain": [
              "4"
            ]
          },
          "metadata": {},
          "execution_count": 1
        }
      ]
    }
  ]
}