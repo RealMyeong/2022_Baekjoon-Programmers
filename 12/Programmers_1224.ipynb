{
  "nbformat": 4,
  "nbformat_minor": 0,
  "metadata": {
    "colab": {
      "provenance": [],
      "authorship_tag": "ABX9TyMd9Ety9hh/WEQcMmRZxypx",
      "include_colab_link": true
    },
    "kernelspec": {
      "name": "python3",
      "display_name": "Python 3"
    },
    "language_info": {
      "name": "python"
    }
  },
  "cells": [
    {
      "cell_type": "markdown",
      "metadata": {
        "id": "view-in-github",
        "colab_type": "text"
      },
      "source": [
        "<a href=\"https://colab.research.google.com/github/RealMyeong/python3-study/blob/main/12/Programmers_1224.ipynb\" target=\"_parent\"><img src=\"https://colab.research.google.com/assets/colab-badge.svg\" alt=\"Open In Colab\"/></a>"
      ]
    },
    {
      "cell_type": "code",
      "source": [
        "# 프린터\n",
        "\n",
        "def solution(priorities, location):\n",
        "    \n",
        "    idx = [x for x in range(len(priorities))] \n",
        "    print_sequence = priorities.copy()\n",
        "    \n",
        "    i = 0\n",
        "    while True:\n",
        "        if print_sequence[i] < max(print_sequence[i+1:]):\n",
        "            idx.append(idx.pop(i))\n",
        "            print_sequence.append(print_sequence.pop(i))\n",
        "            \n",
        "        else:\n",
        "            i += 1\n",
        "        \n",
        "        if print_sequence == sorted(priorities, reverse=True):\n",
        "            \n",
        "            return idx.index(location)+1\n"
      ],
      "metadata": {
        "id": "yqdJ9EkayvS5",
        "colab": {
          "base_uri": "https://localhost:8080/"
        },
        "outputId": "989f896e-0caa-45a7-ed37-706d1f177fa8"
      },
      "execution_count": null,
      "outputs": [
        {
          "output_type": "execute_result",
          "data": {
            "text/plain": [
              "4"
            ]
          },
          "metadata": {},
          "execution_count": 1
        }
      ]
    }
  ]
}