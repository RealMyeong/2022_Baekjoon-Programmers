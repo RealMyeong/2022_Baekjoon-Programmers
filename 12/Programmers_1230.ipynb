{
  "nbformat": 4,
  "nbformat_minor": 0,
  "metadata": {
    "colab": {
      "provenance": [],
      "authorship_tag": "ABX9TyMl1g3Uofy3TPUtgXCIaW6Y",
      "include_colab_link": true
    },
    "kernelspec": {
      "name": "python3",
      "display_name": "Python 3"
    },
    "language_info": {
      "name": "python"
    }
  },
  "cells": [
    {
      "cell_type": "markdown",
      "metadata": {
        "id": "view-in-github",
        "colab_type": "text"
      },
      "source": [
        "<a href=\"https://colab.research.google.com/github/RealMyeong/python3-study/blob/main/12/Programmers_1230.ipynb\" target=\"_parent\"><img src=\"https://colab.research.google.com/assets/colab-badge.svg\" alt=\"Open In Colab\"/></a>"
      ]
    },
    {
      "cell_type": "code",
      "source": [
        "# 콜라 문제\n",
        "\n",
        "def solution(a, b, n):\n",
        "    answer = 0\n",
        "    \n",
        "    while n >= a:\n",
        "        new = n // a *b\n",
        "        rest = n % a\n",
        "        \n",
        "        answer += new\n",
        "        \n",
        "        n = new + rest\n",
        "        \n",
        "    return answer"
      ],
      "metadata": {
        "id": "yqdJ9EkayvS5",
        "colab": {
          "base_uri": "https://localhost:8080/"
        },
        "outputId": "989f896e-0caa-45a7-ed37-706d1f177fa8"
      },
      "execution_count": null,
      "outputs": [
        {
          "output_type": "execute_result",
          "data": {
            "text/plain": [
              "4"
            ]
          },
          "metadata": {},
          "execution_count": 1
        }
      ]
    }
  ]
}