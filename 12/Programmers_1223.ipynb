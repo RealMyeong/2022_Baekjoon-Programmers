{
  "nbformat": 4,
  "nbformat_minor": 0,
  "metadata": {
    "colab": {
      "provenance": [],
      "authorship_tag": "ABX9TyMPMAhIM7Pd3kzDGdZvX4LZ",
      "include_colab_link": true
    },
    "kernelspec": {
      "name": "python3",
      "display_name": "Python 3"
    },
    "language_info": {
      "name": "python"
    }
  },
  "cells": [
    {
      "cell_type": "markdown",
      "metadata": {
        "id": "view-in-github",
        "colab_type": "text"
      },
      "source": [
        "<a href=\"https://colab.research.google.com/github/RealMyeong/python3-study/blob/main/12/Programmers_1223.ipynb\" target=\"_parent\"><img src=\"https://colab.research.google.com/assets/colab-badge.svg\" alt=\"Open In Colab\"/></a>"
      ]
    },
    {
      "cell_type": "code",
      "source": [
        "# 모의고사\n",
        "\n",
        "def solution(answers):\n",
        "    supo_1 = 0\n",
        "    supo_2 = 0\n",
        "    supo_3 = 0\n",
        "    \n",
        "    supo_1_pattern = [1,2,3,4,5] * 8\n",
        "    supo_2_pattern = [2,1,2,3,2,4,2,5] * 5\n",
        "    supo_3_pattern = [3,3,1,1,2,2,4,4,5,5] * 4\n",
        "    \n",
        "    for i in range(len(answers)):\n",
        "        idx = i % 40\n",
        "        if supo_1_pattern[idx]==answers[i]:\n",
        "            supo_1 += 1\n",
        "        if supo_2_pattern[idx]==answers[i]:\n",
        "            supo_2 += 1\n",
        "        if supo_3_pattern[idx]==answers[i]:\n",
        "            supo_3 += 1\n",
        "            \n",
        "    score = [supo_1, supo_2, supo_3]\n",
        "    max_score = max(score)\n",
        "    answer = []\n",
        "    \n",
        "    for i in range(3):\n",
        "        if score[i] == max_score:\n",
        "            answer.append(i+1)\n",
        "    return sorted(answer)"
      ],
      "metadata": {
        "id": "yqdJ9EkayvS5",
        "colab": {
          "base_uri": "https://localhost:8080/"
        },
        "outputId": "989f896e-0caa-45a7-ed37-706d1f177fa8"
      },
      "execution_count": null,
      "outputs": [
        {
          "output_type": "execute_result",
          "data": {
            "text/plain": [
              "4"
            ]
          },
          "metadata": {},
          "execution_count": 1
        }
      ]
    },
    {
      "cell_type": "code",
      "source": [
        "# 다른 풀이\n",
        "\n",
        "def solution(answers):\n",
        "    supo_1 = 0\n",
        "    supo_2 = 0\n",
        "    supo_3 = 0\n",
        "    \n",
        "    supo_1_pattern = [1,2,3,4,5]\n",
        "    supo_2_pattern = [2,1,2,3,2,4,2,5]\n",
        "    supo_3_pattern = [3,3,1,1,2,2,4,4,5,5]\n",
        "    \n",
        "    for i in range(len(answers)):\n",
        "        idx_1 = i % 5\n",
        "        idx_2 = i % 8\n",
        "        idx_3 = i % 10\n",
        "        if supo_1_pattern[idx_1]==answers[i]:\n",
        "            supo_1 += 1\n",
        "        if supo_2_pattern[idx_2]==answers[i]:\n",
        "            supo_2 += 1\n",
        "        if supo_3_pattern[idx_3]==answers[i]:\n",
        "            supo_3 += 1\n",
        "            \n",
        "    score = [supo_1, supo_2, supo_3]\n",
        "    max_score = max(score)\n",
        "    answer = []\n",
        "    \n",
        "    for i in range(3):\n",
        "        if score[i] == max_score:\n",
        "            answer.append(i+1)\n",
        "    return sorted(answer)"
      ],
      "metadata": {
        "id": "kbdm2pcNKSb9",
        "colab": {
          "base_uri": "https://localhost:8080/"
        },
        "outputId": "cac67c5f-cf4c-42f5-eeda-47a94ab1f2fe"
      },
      "execution_count": 4,
      "outputs": [
        {
          "output_type": "execute_result",
          "data": {
            "text/plain": [
              "[0, 0, 0, 0, 0, 0, 0, 0, 0]"
            ]
          },
          "metadata": {},
          "execution_count": 4
        }
      ]
    }
  ]
}