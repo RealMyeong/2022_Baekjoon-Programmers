{
  "nbformat": 4,
  "nbformat_minor": 0,
  "metadata": {
    "colab": {
      "provenance": [],
      "authorship_tag": "ABX9TyMGuiQXj+Y0syNJ7wX3vDyT",
      "include_colab_link": true
    },
    "kernelspec": {
      "name": "python3",
      "display_name": "Python 3"
    },
    "language_info": {
      "name": "python"
    }
  },
  "cells": [
    {
      "cell_type": "markdown",
      "metadata": {
        "id": "view-in-github",
        "colab_type": "text"
      },
      "source": [
        "<a href=\"https://colab.research.google.com/github/RealMyeong/python3-study/blob/main/12/Programmers_1203.ipynb\" target=\"_parent\"><img src=\"https://colab.research.google.com/assets/colab-badge.svg\" alt=\"Open In Colab\"/></a>"
      ]
    },
    {
      "cell_type": "code",
      "source": [
        "# 괄호 회전하기\n",
        "\n",
        "def solution(s):\n",
        "    answer = 0\n",
        "    for _ in range(len(s)):\n",
        "        stack = []\n",
        "        for i in s:\n",
        "            if stack == []:\n",
        "                stack.append(i)\n",
        "            elif stack[-1] == '(' and i==')':\n",
        "                stack.pop()\n",
        "            elif stack[-1] =='[' and i==']':\n",
        "                stack.pop()\n",
        "            elif stack[-1] == '{' and i=='}':\n",
        "                stack.pop()\n",
        "            else:\n",
        "                stack.append(i)\n",
        "        if stack==[]:\n",
        "            answer += 1\n",
        "        s = s[1:] + s[0]\n",
        "    return answer"
      ],
      "metadata": {
        "id": "yqdJ9EkayvS5"
      },
      "execution_count": null,
      "outputs": []
    }
  ]
}