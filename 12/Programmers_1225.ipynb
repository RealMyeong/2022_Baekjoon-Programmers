{
  "nbformat": 4,
  "nbformat_minor": 0,
  "metadata": {
    "colab": {
      "provenance": [],
      "authorship_tag": "ABX9TyM9ZvtoImEBAMXt4Ah2W7u9",
      "include_colab_link": true
    },
    "kernelspec": {
      "name": "python3",
      "display_name": "Python 3"
    },
    "language_info": {
      "name": "python"
    }
  },
  "cells": [
    {
      "cell_type": "markdown",
      "metadata": {
        "id": "view-in-github",
        "colab_type": "text"
      },
      "source": [
        "<a href=\"https://colab.research.google.com/github/RealMyeong/python3-study/blob/main/12/Programmers_1225.ipynb\" target=\"_parent\"><img src=\"https://colab.research.google.com/assets/colab-badge.svg\" alt=\"Open In Colab\"/></a>"
      ]
    },
    {
      "cell_type": "code",
      "source": [
        "# [1차] 뉴스 클러스터링\n",
        "# 틀림\n",
        "\n",
        "def solution(str1, str2):\n",
        "    import math\n",
        "    import re\n",
        "    \n",
        "    str1 = str1.lower()\n",
        "    str2 = str2.lower()\n",
        "    \n",
        "    str1 = re.sub(r'[^a-z]', ' ', str1)\n",
        "    str2 = re.sub(r'[^a-z]', ' ', str2)\n",
        "    \n",
        "    set_1 = []\n",
        "    set_2 = []\n",
        "    for i in range(len(str1)-1):\n",
        "        str_comb_1 = str1[i:i+2]\n",
        "        if not ' ' in str_comb_1:\n",
        "            set_1.append(str_comb_1)\n",
        "            \n",
        "    for j in range(len(str2)-1):\n",
        "        str_comb_2 = str2[j:j+2]\n",
        "        if not ' ' in str_comb_2:\n",
        "            set_2.append(str_comb_2)\n",
        "    \n",
        "    union = 0\n",
        "    intersection = 0\n",
        "    \n",
        "    for i, j in zip(set_1, set_2):\n",
        "        if i in set_2:\n",
        "            intersection += min(set_1.count(i), set_2.count(i))\n",
        "            union += max(set_1.count(i), set_2.count(i))\n",
        "        elif j in set_1:\n",
        "            intersection += min(set_1.count(j), set_2.count(j))\n",
        "            union += max(set_1.count(j), set_2.count(j))\n",
        "        else:\n",
        "            union += set_1.count(i)\n",
        "            union += set_2.count(j)\n",
        "        \n",
        "        \n",
        "    if union == intersection :\n",
        "        return 65536\n",
        "    else:\n",
        "        answer = math.floor((intersection / union) * 65536)\n",
        "        return answer"
      ],
      "metadata": {
        "id": "yqdJ9EkayvS5",
        "colab": {
          "base_uri": "https://localhost:8080/"
        },
        "outputId": "989f896e-0caa-45a7-ed37-706d1f177fa8"
      },
      "execution_count": null,
      "outputs": [
        {
          "output_type": "execute_result",
          "data": {
            "text/plain": [
              "4"
            ]
          },
          "metadata": {},
          "execution_count": 1
        }
      ]
    },
    {
      "cell_type": "code",
      "source": [
        "# 다른 풀이\n",
        "\n",
        "from collections import Counter\n",
        "\n",
        "def solution(str1, str2):\n",
        "    str1_low = str1.lower()\n",
        "    str2_low = str2.lower()\n",
        "    \n",
        "    str1_lst = []\n",
        "    str2_lst = []\n",
        "    \n",
        "    for i in range(len(str1_low)-1):\n",
        "        if str1_low[i].isalpha() and str1_low[i+1].isalpha():\n",
        "            str1_lst.append(str1_low[i] + str1_low[i+1])\n",
        "            \n",
        "    for j in range(len(str2_low)-1):\n",
        "        if str2_low[j].isalpha() and str2_low[j+1].isalpha():\n",
        "            str2_lst.append(str2_low[j] + str2_low[j+1])\n",
        "            \n",
        "    Counter1 = Counter(str1_lst)\n",
        "    Counter2 = Counter(str2_lst)\n",
        "    \n",
        "    inter = list((Counter1 & Counter2).elements())\n",
        "    union = list((Counter1 | Counter2).elements())\n",
        "    \n",
        "    if len(union) == 0 and len(inter) == 0:\n",
        "        return 65536\n",
        "    else:\n",
        "        return int(len(inter) / len(union) * 65536)"
      ],
      "metadata": {
        "id": "HbAZ8YsXKvVg"
      },
      "execution_count": null,
      "outputs": []
    },
    {
      "cell_type": "code",
      "source": [
        "# 다른 풀이2\n",
        "\n",
        "import re\n",
        "import math\n",
        "\n",
        "def solution(str1, str2):\n",
        "    str1 = [str1[i:i+2].lower() for i in range(0, len(str1)-1) if not re.findall('[^a-zA-Z]+', str1[i:i+2])]\n",
        "    str2 = [str2[i:i+2].lower() for i in range(0, len(str2)-1) if not re.findall('[^a-zA-Z]+', str2[i:i+2])]\n",
        "\n",
        "    gyo = set(str1) & set(str2)\n",
        "    hap = set(str1) | set(str2)\n",
        "\n",
        "    if len(hap) == 0 :\n",
        "        return 65536\n",
        "\n",
        "    gyo_sum = sum([min(str1.count(gg), str2.count(gg)) for gg in gyo])\n",
        "    hap_sum = sum([max(str1.count(hh), str2.count(hh)) for hh in hap])\n",
        "\n",
        "    return math.floor((gyo_sum/hap_sum)*65536)"
      ],
      "metadata": {
        "id": "WvZHedkELGX6"
      },
      "execution_count": null,
      "outputs": []
    }
  ]
}