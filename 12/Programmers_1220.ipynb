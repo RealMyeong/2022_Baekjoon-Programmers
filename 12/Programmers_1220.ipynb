{
  "nbformat": 4,
  "nbformat_minor": 0,
  "metadata": {
    "colab": {
      "provenance": [],
      "authorship_tag": "ABX9TyM7yU7W5IJt/T2a9b04oY3a",
      "include_colab_link": true
    },
    "kernelspec": {
      "name": "python3",
      "display_name": "Python 3"
    },
    "language_info": {
      "name": "python"
    }
  },
  "cells": [
    {
      "cell_type": "markdown",
      "metadata": {
        "id": "view-in-github",
        "colab_type": "text"
      },
      "source": [
        "<a href=\"https://colab.research.google.com/github/RealMyeong/python3-study/blob/main/12/Programmers_1220.ipynb\" target=\"_parent\"><img src=\"https://colab.research.google.com/assets/colab-badge.svg\" alt=\"Open In Colab\"/></a>"
      ]
    },
    {
      "cell_type": "code",
      "source": [
        "# n^2 배열 자르기\n",
        "\n",
        "def solution(n, left, right):\n",
        "\n",
        "    array = [[0] * n for _ in range(n)]\n",
        "\n",
        "    for i in range(n):\n",
        "        for j in range(n):\n",
        "            if j <= i:\n",
        "                array[i][j] += i+1\n",
        "            else:\n",
        "                array[i][j] += j+1\n",
        "\n",
        "    flatten = []\n",
        "    for i in array:\n",
        "        flatten += i\n",
        "\n",
        "    answer = flatten[left: right+1]\n",
        "    return answer\n",
        "\n",
        "solution(3,2,5)"
      ],
      "metadata": {
        "id": "yqdJ9EkayvS5",
        "colab": {
          "base_uri": "https://localhost:8080/"
        },
        "outputId": "c9c9de89-754c-4b69-af92-335987e90401"
      },
      "execution_count": 1,
      "outputs": [
        {
          "output_type": "execute_result",
          "data": {
            "text/plain": [
              "[3, 2, 2, 3]"
            ]
          },
          "metadata": {},
          "execution_count": 1
        }
      ]
    },
    {
      "cell_type": "markdown",
      "source": [
        "🔑 key point: 해당 위치 값 = max(해당 위치 // n, 해당 위치 % n) + 1  \n",
        "📌 Tip: max(i // n, i % n)"
      ],
      "metadata": {
        "id": "uZ_PkcjGZuqw"
      }
    },
    {
      "cell_type": "code",
      "source": [
        "# 다른 풀이\n",
        "def solution(n, left, right):\n",
        "    answer = []\n",
        "\n",
        "    for i in range(left, right + 1):\n",
        "        answer.append(max(i // n, i % n) + 1)\n",
        "\n",
        "    return answer"
      ],
      "metadata": {
        "id": "PK6pVLjzojh0"
      },
      "execution_count": null,
      "outputs": []
    }
  ]
}