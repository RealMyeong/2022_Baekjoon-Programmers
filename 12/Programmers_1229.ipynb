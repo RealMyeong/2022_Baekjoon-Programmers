{
  "nbformat": 4,
  "nbformat_minor": 0,
  "metadata": {
    "colab": {
      "provenance": [],
      "authorship_tag": "ABX9TyPs/ZGRCfv2JX/u3nNWaZ75",
      "include_colab_link": true
    },
    "kernelspec": {
      "name": "python3",
      "display_name": "Python 3"
    },
    "language_info": {
      "name": "python"
    }
  },
  "cells": [
    {
      "cell_type": "markdown",
      "metadata": {
        "id": "view-in-github",
        "colab_type": "text"
      },
      "source": [
        "<a href=\"https://colab.research.google.com/github/RealMyeong/python3-study/blob/main/12/Programmers_1229.ipynb\" target=\"_parent\"><img src=\"https://colab.research.google.com/assets/colab-badge.svg\" alt=\"Open In Colab\"/></a>"
      ]
    },
    {
      "cell_type": "code",
      "source": [
        "# 소수 만들기\n",
        "\n",
        "from itertools import combinations\n",
        "\n",
        "def solution(nums):\n",
        "    answer = 0\n",
        "    \n",
        "    sum_list = []\n",
        "    for i in combinations(nums, 3):\n",
        "        sum_list.append(sum(i))\n",
        "        \n",
        "    for j in sum_list:\n",
        "        error = 0\n",
        "        if j == 1:\n",
        "            continue\n",
        "        else:\n",
        "            for k in range(2,j):\n",
        "                if j % k == 0:\n",
        "                    error += 1\n",
        "                    break\n",
        "                    \n",
        "        if error == 0:\n",
        "            answer += 1\n",
        "            \n",
        "    return answer"
      ],
      "metadata": {
        "id": "yqdJ9EkayvS5",
        "colab": {
          "base_uri": "https://localhost:8080/"
        },
        "outputId": "989f896e-0caa-45a7-ed37-706d1f177fa8"
      },
      "execution_count": null,
      "outputs": [
        {
          "output_type": "execute_result",
          "data": {
            "text/plain": [
              "4"
            ]
          },
          "metadata": {},
          "execution_count": 1
        }
      ]
    }
  ]
}