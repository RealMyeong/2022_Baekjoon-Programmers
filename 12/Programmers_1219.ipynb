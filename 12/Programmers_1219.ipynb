{
  "nbformat": 4,
  "nbformat_minor": 0,
  "metadata": {
    "colab": {
      "provenance": [],
      "authorship_tag": "ABX9TyOF7JssfgZoEhjIdhUY0EAA",
      "include_colab_link": true
    },
    "kernelspec": {
      "name": "python3",
      "display_name": "Python 3"
    },
    "language_info": {
      "name": "python"
    }
  },
  "cells": [
    {
      "cell_type": "markdown",
      "metadata": {
        "id": "view-in-github",
        "colab_type": "text"
      },
      "source": [
        "<a href=\"https://colab.research.google.com/github/RealMyeong/python3-study/blob/main/12/Programmers_1219.ipynb\" target=\"_parent\"><img src=\"https://colab.research.google.com/assets/colab-badge.svg\" alt=\"Open In Colab\"/></a>"
      ]
    },
    {
      "cell_type": "code",
      "source": [
        "# 최고의 집합\n",
        "\n",
        "from functools import reduce\n",
        "\n",
        "def combinations_with_replacement(iterable, r):\n",
        "    # combinations_with_replacement('ABC', 2) --> AA AB AC BB BC CC\n",
        "    pool = tuple(iterable)\n",
        "    n = len(pool)\n",
        "    if not n and r:\n",
        "        return\n",
        "    indices = [0] * r\n",
        "    yield list(pool[i] for i in indices)\n",
        "    while True:\n",
        "        for i in reversed(range(r)):\n",
        "            if indices[i] != n - 1:\n",
        "                break\n",
        "        else:\n",
        "            return\n",
        "        indices[i:] = [indices[i] + 1] * (r - i)\n",
        "        yield list(pool[i] for i in indices)\n",
        "        \n",
        "def multiply(arr):\n",
        "    return reduce(lambda x, y: x * y, arr) \n",
        "\n",
        "def solution(n, s):    \n",
        "    if n > s:\n",
        "        return [-1]\n",
        "    \n",
        "    comb = list(combinations_with_replacement(range(1, s+1), n))\n",
        "    \n",
        "    filtered_set = []\n",
        "    for i in comb:\n",
        "        if sum(i)==s:\n",
        "            filtered_set.append(i)\n",
        "    \n",
        "    max_product = 0\n",
        "    answer = []\n",
        "    for i in filtered_set:\n",
        "        product = multiply(i)\n",
        "        if product > max_product:\n",
        "            max_product = product\n",
        "            answer = i\n",
        "            \n",
        "    return answer"
      ],
      "metadata": {
        "id": "yqdJ9EkayvS5",
        "colab": {
          "base_uri": "https://localhost:8080/"
        },
        "outputId": "3a7582a0-8f15-4280-fb37-b6aae39cba77"
      },
      "execution_count": null,
      "outputs": [
        {
          "output_type": "execute_result",
          "data": {
            "text/plain": [
              "[2, 3, 4, 5]"
            ]
          },
          "metadata": {},
          "execution_count": 4
        }
      ]
    },
    {
      "cell_type": "code",
      "source": [
        "# 다른 풀이\n",
        "def solution(n, s):\n",
        "    answer = []\n",
        "\n",
        "    if s < n :\n",
        "        return [-1]\n",
        "\n",
        "    for _ in range(n):\n",
        "        answer.append(s//n)\n",
        "\n",
        "    idx = len(answer)-1\n",
        "\n",
        "    for i in range(s - sum(answer)):\n",
        "        answer[idx] += 1\n",
        "        idx -= 1\n",
        "\n",
        "    return answer"
      ],
      "metadata": {
        "id": "7T0TNJSWmiu4"
      },
      "execution_count": null,
      "outputs": []
    }
  ]
}