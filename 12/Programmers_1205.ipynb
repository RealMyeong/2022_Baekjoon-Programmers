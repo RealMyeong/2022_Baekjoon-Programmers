{
  "nbformat": 4,
  "nbformat_minor": 0,
  "metadata": {
    "colab": {
      "provenance": [],
      "authorship_tag": "ABX9TyNM4sc6FfxADsdm6O0gUvri",
      "include_colab_link": true
    },
    "kernelspec": {
      "name": "python3",
      "display_name": "Python 3"
    },
    "language_info": {
      "name": "python"
    }
  },
  "cells": [
    {
      "cell_type": "markdown",
      "metadata": {
        "id": "view-in-github",
        "colab_type": "text"
      },
      "source": [
        "<a href=\"https://colab.research.google.com/github/RealMyeong/python3-study/blob/main/12/Programmers_1205.ipynb\" target=\"_parent\"><img src=\"https://colab.research.google.com/assets/colab-badge.svg\" alt=\"Open In Colab\"/></a>"
      ]
    },
    {
      "cell_type": "code",
      "source": [
        "# 튜플\n",
        "\n",
        "def solution(s):\n",
        "    answer = []\n",
        "    \n",
        "    s = s[2:-2]\n",
        "    s = s.split(\"},{\")\n",
        "    s.sort(key = len)\n",
        "    \n",
        "    for i in s:\n",
        "        _set = i.split(',')\n",
        "        for num in _set:\n",
        "            if int(num) not in answer:\n",
        "                answer.append(int(num))\n",
        "    return answer"
      ],
      "metadata": {
        "id": "yqdJ9EkayvS5"
      },
      "execution_count": null,
      "outputs": []
    }
  ]
}