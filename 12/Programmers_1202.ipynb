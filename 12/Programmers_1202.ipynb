{
  "nbformat": 4,
  "nbformat_minor": 0,
  "metadata": {
    "colab": {
      "provenance": [],
      "authorship_tag": "ABX9TyMd5CIhZ0a5XTvKMuRXWJIn",
      "include_colab_link": true
    },
    "kernelspec": {
      "name": "python3",
      "display_name": "Python 3"
    },
    "language_info": {
      "name": "python"
    }
  },
  "cells": [
    {
      "cell_type": "markdown",
      "metadata": {
        "id": "view-in-github",
        "colab_type": "text"
      },
      "source": [
        "<a href=\"https://colab.research.google.com/github/RealMyeong/python3-study/blob/main/12/Programmers_1202.ipynb\" target=\"_parent\"><img src=\"https://colab.research.google.com/assets/colab-badge.svg\" alt=\"Open In Colab\"/></a>"
      ]
    },
    {
      "cell_type": "code",
      "source": [
        "# 행렬의 곱셈\n",
        "def solution(arr1, arr2):\n",
        "    answer = []\n",
        "    \n",
        "    for i in range(len(arr1)):\n",
        "        row = []\n",
        "        \n",
        "        for j in range(len(arr2[0])):\n",
        "            a = 0\n",
        "            for k in range(len(arr1[0])):\n",
        "                a += arr1[i][k] * arr2[k][j]\n",
        "            row.append(a)\n",
        "            \n",
        "        answer.append(row)\n",
        "        \n",
        "    return answer"
      ],
      "metadata": {
        "id": "yqdJ9EkayvS5"
      },
      "execution_count": null,
      "outputs": []
    }
  ]
}