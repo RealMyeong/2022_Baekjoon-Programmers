{
  "nbformat": 4,
  "nbformat_minor": 0,
  "metadata": {
    "colab": {
      "provenance": [],
      "authorship_tag": "ABX9TyOek4nK84ZTFx9bXOSeo7nZ",
      "include_colab_link": true
    },
    "kernelspec": {
      "name": "python3",
      "display_name": "Python 3"
    },
    "language_info": {
      "name": "python"
    }
  },
  "cells": [
    {
      "cell_type": "markdown",
      "metadata": {
        "id": "view-in-github",
        "colab_type": "text"
      },
      "source": [
        "<a href=\"https://colab.research.google.com/github/RealMyeong/python3-study/blob/main/12/Programmers_1207.ipynb\" target=\"_parent\"><img src=\"https://colab.research.google.com/assets/colab-badge.svg\" alt=\"Open In Colab\"/></a>"
      ]
    },
    {
      "cell_type": "code",
      "source": [
        "# 위장\n",
        "\n",
        "def solution(clothes):\n",
        "    import math\n",
        "    clothes.sort(key = lambda x : x[1])\n",
        "    items = []\n",
        "    item = []\n",
        "    attribute = []\n",
        "    for i in clothes:\n",
        "        if item == []:\n",
        "            item.append(i[0])\n",
        "            attribute.append(i[1])\n",
        "        elif i[1] == attribute[-1]:\n",
        "            item.append(i[0])\n",
        "        else:\n",
        "            items.append(item)\n",
        "            item = []\n",
        "            item.append(i[0])\n",
        "            attribute.append(i[1])\n",
        "            \n",
        "    items.append(item)\n",
        "    answer = 1\n",
        "    if len(items) > 1:\n",
        "        for i in items:\n",
        "            answer *= len(i)+1\n",
        "        answer -= 1\n",
        "    else:\n",
        "        answer = len(items[0])"
      ],
      "metadata": {
        "id": "yqdJ9EkayvS5"
      },
      "execution_count": null,
      "outputs": []
    },
    {
      "cell_type": "code",
      "source": [
        "# 다른 사람의 풀이\n",
        "\n",
        "def solution(clothes):\n",
        "    clothes_type = {}\n",
        "\n",
        "    for c, t in clothes:\n",
        "        if t not in clothes_type:\n",
        "            clothes_type[t] = 2\n",
        "        else:\n",
        "            clothes_type[t] += 1\n",
        "\n",
        "    cnt = 1\n",
        "    for num in clothes_type.values():\n",
        "        cnt *= num\n",
        "\n",
        "    return cnt - 1"
      ],
      "metadata": {
        "id": "Nv2N6xVyJ_Gk"
      },
      "execution_count": null,
      "outputs": []
    }
  ]
}