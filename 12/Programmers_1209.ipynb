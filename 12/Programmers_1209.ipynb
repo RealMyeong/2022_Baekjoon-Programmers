{
  "nbformat": 4,
  "nbformat_minor": 0,
  "metadata": {
    "colab": {
      "provenance": [],
      "authorship_tag": "ABX9TyOa+9YT0rsjwb/dtap3NCjL",
      "include_colab_link": true
    },
    "kernelspec": {
      "name": "python3",
      "display_name": "Python 3"
    },
    "language_info": {
      "name": "python"
    }
  },
  "cells": [
    {
      "cell_type": "markdown",
      "metadata": {
        "id": "view-in-github",
        "colab_type": "text"
      },
      "source": [
        "<a href=\"https://colab.research.google.com/github/RealMyeong/python3-study/blob/main/12/Programmers_1209.ipynb\" target=\"_parent\"><img src=\"https://colab.research.google.com/assets/colab-badge.svg\" alt=\"Open In Colab\"/></a>"
      ]
    },
    {
      "cell_type": "code",
      "source": [
        "# 정수 삼각형\n",
        "\n",
        "def solution(operations):\n",
        "    answer = []\n",
        "    for i in operations:\n",
        "        oper = i.split()\n",
        "        if oper[0] == 'I':\n",
        "            answer.append(int(oper[1]))\n",
        "        elif oper[0] == 'D':\n",
        "            if answer == []:\n",
        "                continue\n",
        "            else:\n",
        "                if oper[1] == '1':\n",
        "                    answer.remove(max(answer))\n",
        "                elif oper[1] == '-1':\n",
        "                    answer.remove(min(answer))\n",
        "    if answer == []:\n",
        "        return [0,0]\n",
        "    else:\n",
        "        return [max(answer), min(answer)]"
      ],
      "metadata": {
        "id": "yqdJ9EkayvS5"
      },
      "execution_count": null,
      "outputs": []
    }
  ]
}