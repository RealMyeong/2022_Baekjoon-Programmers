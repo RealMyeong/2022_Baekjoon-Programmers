{
  "nbformat": 4,
  "nbformat_minor": 0,
  "metadata": {
    "colab": {
      "provenance": [],
      "authorship_tag": "ABX9TyMicd5YouWZm9QtbohuBbT1",
      "include_colab_link": true
    },
    "kernelspec": {
      "name": "python3",
      "display_name": "Python 3"
    },
    "language_info": {
      "name": "python"
    }
  },
  "cells": [
    {
      "cell_type": "markdown",
      "metadata": {
        "id": "view-in-github",
        "colab_type": "text"
      },
      "source": [
        "<a href=\"https://colab.research.google.com/github/RealMyeong/python3-study/blob/main/12/Programmers_1218.ipynb\" target=\"_parent\"><img src=\"https://colab.research.google.com/assets/colab-badge.svg\" alt=\"Open In Colab\"/></a>"
      ]
    },
    {
      "cell_type": "code",
      "source": [
        "# 기능 개발\n",
        "\n",
        "def solution(progresses, speeds):\n",
        "    import math\n",
        "    need_days = [] # 각 기능 개발까지 필요한 날짜\n",
        "\n",
        "    for x, y in zip(progresses, speeds):\n",
        "        need_day = math.ceil((100 - x) / y)\n",
        "        need_days.append(need_day)\n",
        "\n",
        "    answer = []\n",
        "    threshold = need_days[0]\n",
        "    cnt = 0\n",
        "    for i in range(0, len(need_days)):\n",
        "        if threshold >= need_days[i]:\n",
        "            cnt += 1\n",
        "        else:\n",
        "            answer.append(cnt)\n",
        "            cnt = 1\n",
        "            threshold = need_days[i]\n",
        "            \n",
        "    answer.append(cnt)\n",
        "    return answer"
      ],
      "metadata": {
        "id": "yqdJ9EkayvS5",
        "colab": {
          "base_uri": "https://localhost:8080/"
        },
        "outputId": "3a7582a0-8f15-4280-fb37-b6aae39cba77"
      },
      "execution_count": 4,
      "outputs": [
        {
          "output_type": "execute_result",
          "data": {
            "text/plain": [
              "[2, 3, 4, 5]"
            ]
          },
          "metadata": {},
          "execution_count": 4
        }
      ]
    }
  ]
}