{
  "nbformat": 4,
  "nbformat_minor": 0,
  "metadata": {
    "colab": {
      "name": "baekjoon_0729.ipynb",
      "provenance": [],
      "authorship_tag": "ABX9TyP0OeDEiIH5iBgNa4jqeoG+",
      "include_colab_link": true
    },
    "kernelspec": {
      "name": "python3",
      "display_name": "Python 3"
    },
    "language_info": {
      "name": "python"
    },
    "gpuClass": "standard"
  },
  "cells": [
    {
      "cell_type": "markdown",
      "metadata": {
        "id": "view-in-github",
        "colab_type": "text"
      },
      "source": [
        "<a href=\"https://colab.research.google.com/github/RealMyeong/python3-study/blob/main/baekjoon_0729.ipynb\" target=\"_parent\"><img src=\"https://colab.research.google.com/assets/colab-badge.svg\" alt=\"Open In Colab\"/></a>"
      ]
    },
    {
      "cell_type": "code",
      "execution_count": null,
      "metadata": {
        "colab": {
          "base_uri": "https://localhost:8080/"
        },
        "id": "2bah1NhRPlGv",
        "outputId": "50b91ed9-2b4c-4ab5-e3ef-8abcda4ba55d"
      },
      "outputs": [
        {
          "output_type": "stream",
          "name": "stdout",
          "text": [
            "5\n",
            "0 0\n",
            "0 1\n",
            "1 1\n",
            "3 -3\n",
            "2 2\n",
            "Q1: 2\n",
            "Q2: 0\n",
            "Q3: 0\n",
            "Q4: 1\n",
            "AXIS: 2\n"
          ]
        }
      ],
      "source": [
        "#백준 9610\n",
        "\n",
        "Q1, Q2, Q3, Q4, AXIS= 0,0,0,0,0\n",
        "for i in range(int(input())):\n",
        "  point = list(map(int, input().split()))\n",
        "  if point[0] == 0 or point[1] == 0:\n",
        "    AXIS += 1\n",
        "  elif point[0] > 0 and point[1] > 0:\n",
        "    Q1 += 1\n",
        "  elif point[0] < 0 and point[1] > 0:\n",
        "    Q2 += 1\n",
        "  elif point[0] < 0 and point[1] < 0:\n",
        "    Q3 += 1\n",
        "  elif point[0] > 0 and point[1] < 0:\n",
        "    Q4 += 1\n",
        "print('Q1:',Q1)\n",
        "print('Q2:',Q2)\n",
        "print('Q3:',Q3)\n",
        "print('Q4:',Q4)\n",
        "print('AXIS:',AXIS)\n"
      ]
    },
    {
      "cell_type": "code",
      "source": [
        "#백준 8958 OX퀴즈\n",
        "for i in range(int(input())):\n",
        "  score = 0\n",
        "  a = list(map(str, input().split('X')))\n",
        "  for j in range(len(a)):\n",
        "    if 'O' in a[j]:\n",
        "      n = len(a[j])\n",
        "      score += n*(n+1) / 2\n",
        "  print(int(score))\n"
      ],
      "metadata": {
        "colab": {
          "base_uri": "https://localhost:8080/"
        },
        "id": "p7bpLm7KRm9_",
        "outputId": "9e563f86-1eab-426f-9798-3c55beeafe07"
      },
      "execution_count": null,
      "outputs": [
        {
          "output_type": "stream",
          "name": "stdout",
          "text": [
            "5\n",
            "OOXXOXXOOO\n",
            "10\n",
            "OOXXOOXXOO\n",
            "9\n",
            "OXOXOXOXOXOXOX\n",
            "7\n",
            "OOOOOOOOOO\n",
            "55\n",
            "OOOOXOOOOXOOOOX\n",
            "30\n"
          ]
        }
      ]
    },
    {
      "cell_type": "code",
      "source": [
        "#백준 9506 약수들의 합\n",
        "while True:\n",
        "  n = int(input())\n",
        "  if n == -1:\n",
        "    break\n",
        "  else:\n",
        "    a = []\n",
        "    sum=0\n",
        "    i = 1\n",
        "    for j in range(n):\n",
        "      if n%i == 0:\n",
        "        a.append(i)\n",
        "        a.append('+')\n",
        "        sum+=i\n",
        "        i+= 1\n",
        "      else: \n",
        "        i+=1\n",
        "  \n",
        "  if sum-n == n:\n",
        "    a = list(map(str, a))\n",
        "    b = ' '.join(a[:-3])\n",
        "    print(a[-2],'=',b)\n",
        "  elif sum-n != n:\n",
        "    print(n,'is NOT perfect.')\n"
      ],
      "metadata": {
        "colab": {
          "base_uri": "https://localhost:8080/"
        },
        "id": "jP1FeqI09M5C",
        "outputId": "e886b634-2dd3-417d-d0de-71900a6efeca"
      },
      "execution_count": 38,
      "outputs": [
        {
          "name": "stdout",
          "output_type": "stream",
          "text": [
            "6\n",
            "6 = 1 + 2 + 3\n",
            "12\n",
            "12 is NOT perfect.\n",
            "28\n",
            "28 = 1 + 2 + 4 + 7 + 14\n",
            "-1\n"
          ]
        }
      ]
    }
  ]
}