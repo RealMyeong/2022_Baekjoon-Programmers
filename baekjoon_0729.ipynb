{
  "nbformat": 4,
  "nbformat_minor": 0,
  "metadata": {
    "colab": {
      "name": "baekjoon_0729.ipynb",
      "provenance": [],
      "authorship_tag": "ABX9TyMyXYG7Dl05PWlvcU1RGYt9",
      "include_colab_link": true
    },
    "kernelspec": {
      "name": "python3",
      "display_name": "Python 3"
    },
    "language_info": {
      "name": "python"
    },
    "gpuClass": "standard"
  },
  "cells": [
    {
      "cell_type": "markdown",
      "metadata": {
        "id": "view-in-github",
        "colab_type": "text"
      },
      "source": [
        "<a href=\"https://colab.research.google.com/github/RealMyeong/python3-study/blob/main/baekjoon_0729.ipynb\" target=\"_parent\"><img src=\"https://colab.research.google.com/assets/colab-badge.svg\" alt=\"Open In Colab\"/></a>"
      ]
    },
    {
      "cell_type": "code",
      "execution_count": 3,
      "metadata": {
        "colab": {
          "base_uri": "https://localhost:8080/"
        },
        "id": "2bah1NhRPlGv",
        "outputId": "50b91ed9-2b4c-4ab5-e3ef-8abcda4ba55d"
      },
      "outputs": [
        {
          "output_type": "stream",
          "name": "stdout",
          "text": [
            "5\n",
            "0 0\n",
            "0 1\n",
            "1 1\n",
            "3 -3\n",
            "2 2\n",
            "Q1: 2\n",
            "Q2: 0\n",
            "Q3: 0\n",
            "Q4: 1\n",
            "AXIS: 2\n"
          ]
        }
      ],
      "source": [
        "#백준 9610\n",
        "\n",
        "Q1, Q2, Q3, Q4, AXIS= 0,0,0,0,0\n",
        "for i in range(int(input())):\n",
        "  point = list(map(int, input().split()))\n",
        "  if point[0] == 0 or point[1] == 0:\n",
        "    AXIS += 1\n",
        "  elif point[0] > 0 and point[1] > 0:\n",
        "    Q1 += 1\n",
        "  elif point[0] < 0 and point[1] > 0:\n",
        "    Q2 += 1\n",
        "  elif point[0] < 0 and point[1] < 0:\n",
        "    Q3 += 1\n",
        "  elif point[0] > 0 and point[1] < 0:\n",
        "    Q4 += 1\n",
        "print('Q1:',Q1)\n",
        "print('Q2:',Q2)\n",
        "print('Q3:',Q3)\n",
        "print('Q4:',Q4)\n",
        "print('AXIS:',AXIS)\n"
      ]
    },
    {
      "cell_type": "code",
      "source": [
        "#백준 8958 OX퀴즈\n",
        "for i in range(int(input())):\n",
        "  score = 0\n",
        "  a = list(map(str, input().split('X')))\n",
        "  for j in range(len(a)):\n",
        "    if 'O' in a[j]:\n",
        "      n = len(a[j])\n",
        "      score += n*(n+1) / 2\n",
        "  print(int(score))\n"
      ],
      "metadata": {
        "colab": {
          "base_uri": "https://localhost:8080/"
        },
        "id": "p7bpLm7KRm9_",
        "outputId": "9e563f86-1eab-426f-9798-3c55beeafe07"
      },
      "execution_count": 13,
      "outputs": [
        {
          "output_type": "stream",
          "name": "stdout",
          "text": [
            "5\n",
            "OOXXOXXOOO\n",
            "10\n",
            "OOXXOOXXOO\n",
            "9\n",
            "OXOXOXOXOXOXOX\n",
            "7\n",
            "OOOOOOOOOO\n",
            "55\n",
            "OOOOXOOOOXOOOOX\n",
            "30\n"
          ]
        }
      ]
    }
  ]
}