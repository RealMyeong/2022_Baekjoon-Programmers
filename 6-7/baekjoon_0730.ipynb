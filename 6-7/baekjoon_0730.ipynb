{
  "nbformat": 4,
  "nbformat_minor": 0,
  "metadata": {
    "colab": {
      "name": "baekjoon_0730.ipynb",
      "provenance": [],
      "authorship_tag": "ABX9TyNxwN3vMI7BgGVyq9kf207P",
      "include_colab_link": true
    },
    "kernelspec": {
      "name": "python3",
      "display_name": "Python 3"
    },
    "language_info": {
      "name": "python"
    },
    "gpuClass": "standard"
  },
  "cells": [
    {
      "cell_type": "markdown",
      "metadata": {
        "id": "view-in-github",
        "colab_type": "text"
      },
      "source": [
        "<a href=\"https://colab.research.google.com/github/RealMyeong/python3-study/blob/main/baekjoon_0730.ipynb\" target=\"_parent\"><img src=\"https://colab.research.google.com/assets/colab-badge.svg\" alt=\"Open In Colab\"/></a>"
      ]
    },
    {
      "cell_type": "code",
      "execution_count": 18,
      "metadata": {
        "colab": {
          "base_uri": "https://localhost:8080/"
        },
        "id": "b1vckyciye2k",
        "outputId": "99affc27-160d-4230-9230-3e778ec6d973"
      },
      "outputs": [
        {
          "name": "stdout",
          "output_type": "stream",
          "text": [
            "2342342340\n"
          ]
        },
        {
          "output_type": "execute_result",
          "data": {
            "text/plain": [
              "(7807807, 4, 0)"
            ]
          },
          "metadata": {},
          "execution_count": 18
        }
      ],
      "source": [
        "#백준 10162 전자레인지\n",
        "'''\n",
        "    A : 5 min = 300sec\n",
        "    B : 1 min = 60sec\n",
        "    C : 10 sec\n",
        "    '''\n",
        "def min_button(t):\n",
        "  A=B=C = 0\n",
        "  if t % 300 == 0:\n",
        "    A += t//300   \n",
        "  else:\n",
        "    A += t//300\n",
        "    t = t % 300\n",
        "    if t % 60 == 0:\n",
        "      B += t//60     \n",
        "    else:\n",
        "      B += t//60\n",
        "      t = t % 60\n",
        "      if t % 10 == 0:\n",
        "        C += t//10\n",
        "      else:\n",
        "        return -1\n",
        "  return A, B, C\n",
        "\n",
        "min_button(int(input()))\n",
        "\n",
        "\n",
        "#--------------------------------\n",
        "#위의 코드가 계속 틀려서 결국 다른사람의 답을 보고 제출\n",
        "T = int(input())\n",
        "\n",
        "if T % 10 != 0:\n",
        "    print(-1)\n",
        "else:\n",
        "    A = B = C = 0\n",
        "    A = T // 300\n",
        "    B = (T % 300) // 60\n",
        "    C = (T % 300) % 60 // 10\n",
        "    print(A, B, C)"
      ]
    }
  ]
}
