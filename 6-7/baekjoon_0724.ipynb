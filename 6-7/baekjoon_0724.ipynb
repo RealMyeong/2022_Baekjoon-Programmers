{
  "nbformat": 4,
  "nbformat_minor": 0,
  "metadata": {
    "colab": {
      "name": "baekjoon_0724.ipynb",
      "provenance": [],
      "authorship_tag": "ABX9TyM59/HoWJlOe4pKQVzLot3m",
      "include_colab_link": true
    },
    "kernelspec": {
      "name": "python3",
      "display_name": "Python 3"
    },
    "language_info": {
      "name": "python"
    },
    "gpuClass": "standard"
  },
  "cells": [
    {
      "cell_type": "markdown",
      "metadata": {
        "id": "view-in-github",
        "colab_type": "text"
      },
      "source": [
        "<a href=\"https://colab.research.google.com/github/RealMyeong/python3-study/blob/main/baekjoon_0724.ipynb\" target=\"_parent\"><img src=\"https://colab.research.google.com/assets/colab-badge.svg\" alt=\"Open In Colab\"/></a>"
      ]
    },
    {
      "cell_type": "code",
      "execution_count": 16,
      "metadata": {
        "colab": {
          "base_uri": "https://localhost:8080/"
        },
        "id": "m1n0aPgDmFju",
        "outputId": "f9c6f6c3-adf2-4f54-9244-b4466b7551ee"
      },
      "outputs": [
        {
          "output_type": "stream",
          "name": "stdout",
          "text": [
            "noon\n",
            "1\n"
          ]
        }
      ],
      "source": [
        "# 백준 10988 팰린드롬 확인\n",
        "\n",
        "word = input()\n",
        "i = 0\n",
        "if len(word) == 1:\n",
        "  print(1)\n",
        "else:\n",
        "  while i <= (len(word)//2) :\n",
        "    if word[i] == word[-1-i]:\n",
        "      i += 1\n",
        "      if i == len(word)//2:\n",
        "        print(1)\n",
        "        break\n",
        "    else:\n",
        "      print(0)\n",
        "      break"
      ]
    }
  ]
}
