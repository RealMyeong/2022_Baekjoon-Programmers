{
  "nbformat": 4,
  "nbformat_minor": 0,
  "metadata": {
    "colab": {
      "name": "baekjoon 0725.ipynb",
      "provenance": [],
      "authorship_tag": "ABX9TyOiC2n7dVk2JLWvJ9DpK5Vw",
      "include_colab_link": true
    },
    "kernelspec": {
      "name": "python3",
      "display_name": "Python 3"
    },
    "language_info": {
      "name": "python"
    },
    "gpuClass": "standard"
  },
  "cells": [
    {
      "cell_type": "markdown",
      "metadata": {
        "id": "view-in-github",
        "colab_type": "text"
      },
      "source": [
        "<a href=\"https://colab.research.google.com/github/RealMyeong/python3-study/blob/main/baekjoon_0725.ipynb\" target=\"_parent\"><img src=\"https://colab.research.google.com/assets/colab-badge.svg\" alt=\"Open In Colab\"/></a>"
      ]
    },
    {
      "cell_type": "code",
      "execution_count": 3,
      "metadata": {
        "colab": {
          "base_uri": "https://localhost:8080/"
        },
        "id": "WiP8N8WlvzH3",
        "outputId": "2ab0cf26-bcb5-43d3-aab9-676f7b03f8a8"
      },
      "outputs": [
        {
          "name": "stdout",
          "output_type": "stream",
          "text": [
            "8 8\n",
            "factor\n",
            "1 1\n",
            "factor\n",
            "0 0\n"
          ]
        }
      ],
      "source": [
        "# 백준 파이썬 5086 배수와 약수\n",
        "\n",
        "while True:\n",
        "  a = list(map(int, input().split()))\n",
        "  if a == [0,0]:\n",
        "    break\n",
        "  if a[1] % a[0] == 0:\n",
        "    print('factor')\n",
        "  elif a[1] % a[0] != 0:\n",
        "    if a[0] % a[1] == 0:\n",
        "      print('multiple')\n",
        "    else:\n",
        "      print('neither')"
      ]
    },
    {
      "cell_type": "code",
      "source": [
        "# 백준 파이썬 5717 상근이 친구\n",
        "\n",
        "while True:\n",
        "  m, f = map(int, input().split())\n",
        "  if m==0 and f==0 :\n",
        "    break\n",
        "  print(m+f)"
      ],
      "metadata": {
        "id": "URaNeouxxc9P"
      },
      "execution_count": null,
      "outputs": []
    }
  ]
}
