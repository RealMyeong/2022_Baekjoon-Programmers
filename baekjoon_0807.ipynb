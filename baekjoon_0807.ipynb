{
  "nbformat": 4,
  "nbformat_minor": 0,
  "metadata": {
    "colab": {
      "name": "baekjoon_0807.ipynb",
      "provenance": [],
      "authorship_tag": "ABX9TyPm7h46tyh4NpxVGZfO24WF",
      "include_colab_link": true
    },
    "kernelspec": {
      "name": "python3",
      "display_name": "Python 3"
    },
    "language_info": {
      "name": "python"
    }
  },
  "cells": [
    {
      "cell_type": "markdown",
      "metadata": {
        "id": "view-in-github",
        "colab_type": "text"
      },
      "source": [
        "<a href=\"https://colab.research.google.com/github/RealMyeong/python3-study/blob/main/baekjoon_0807.ipynb\" target=\"_parent\"><img src=\"https://colab.research.google.com/assets/colab-badge.svg\" alt=\"Open In Colab\"/></a>"
      ]
    },
    {
      "cell_type": "code",
      "execution_count": 3,
      "metadata": {
        "colab": {
          "base_uri": "https://localhost:8080/"
        },
        "id": "viQj_haUsonL",
        "outputId": "717add4c-92e0-4623-c34b-73788d8d0118"
      },
      "outputs": [
        {
          "output_type": "stream",
          "name": "stdout",
          "text": [
            "2\n",
            "1 0\n",
            "2 1\n",
            "1\n"
          ]
        }
      ],
      "source": [
        "#백준 10833 사과\n",
        "\n",
        "N = int(input())\n",
        "rest_apple = 0\n",
        "for i in range(N):\n",
        "  student, apple = map(int, input().split())\n",
        "  #----------------------------------\n",
        "  if apple // student == 0:\n",
        "    rest_apple += apple            # 이 4줄이나 sum += apple % student  한줄이나 같은 결과\n",
        "  else:\n",
        "    rest_apple += (apple%student)\n",
        "  #----------------------------------\n",
        "print(rest_apple)"
      ]
    }
  ]
}